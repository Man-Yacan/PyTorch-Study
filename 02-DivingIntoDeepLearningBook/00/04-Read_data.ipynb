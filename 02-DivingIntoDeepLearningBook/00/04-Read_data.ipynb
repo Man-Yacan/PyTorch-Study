{
 "cells": [
  {
   "cell_type": "code",
   "execution_count": 4,
   "outputs": [],
   "source": [
    "from torch.utils.data import Dataset\n",
    "from PIL import Image\n",
    "import os"
   ],
   "metadata": {
    "collapsed": false,
    "pycharm": {
     "name": "#%%\n"
    }
   }
  },
  {
   "cell_type": "code",
   "execution_count": 17,
   "outputs": [
    {
     "name": "stdout",
     "output_type": "stream",
     "text": [
      "ants bees\n",
      "124 121\n"
     ]
    }
   ],
   "source": [
    "class MyData(Dataset):\n",
    "    def __init__(self, root_dir, label_dir):\n",
    "        self.root_dir = root_dir  # 数据文件根目录\n",
    "        self.label_dir = label_dir  # 标签文件目录\n",
    "        self.img_path = os.path.join(root_dir, label_dir)  # 组合文件路径\n",
    "        self.img_path_list = []\n",
    "        self.get_img_path()\n",
    "        pass\n",
    "\n",
    "    def run(self):\n",
    "        pass\n",
    "\n",
    "    def get_img_path(self):\n",
    "        \"\"\"\n",
    "        根据文件夹路径，获取其中所有的图片文件\n",
    "        未来考虑增设嵌套文件夹的支持，以及自动排除非img的文件\n",
    "        :return:\n",
    "        \"\"\"\n",
    "        self.img_path_list = os.listdir(self.img_path)\n",
    "\n",
    "    def __getitem__(self, index):\n",
    "        \"\"\"\n",
    "        获取每一个文件\n",
    "        :param index: img的index\n",
    "        :return:\n",
    "        \"\"\"\n",
    "        img_name = self.img_path_list[index]\n",
    "        img_item_path = os.path.join(self.root_dir, self.label_dir, img_name)\n",
    "        img = Image.open(img_item_path)\n",
    "        label = self.label_dir\n",
    "        return img, label\n",
    "\n",
    "    def __len__(self):\n",
    "        \"\"\"\n",
    "        获取图片list中的数量\n",
    "        :return: 返回len()\n",
    "        \"\"\"\n",
    "        return len(self.img_path_list)\n",
    "\n",
    "if __name__ == '__main__':\n",
    "    root_dir = 'data/hymenoptera/train'\n",
    "    ants_label_dir = 'ants'\n",
    "    bees_label_dir = 'bees'\n",
    "\n",
    "    # 实例化对象\n",
    "    ants_dataset = MyData(root_dir, ants_label_dir)\n",
    "    bees_dataset = MyData(root_dir, bees_label_dir)\n",
    "\n",
    "    print(ants_dataset[0][1], bees_dataset[0][1],)\n",
    "    print(len(ants_dataset), len(bees_dataset))"
   ],
   "metadata": {
    "collapsed": false,
    "pycharm": {
     "name": "#%%\n"
    }
   }
  }
 ],
 "metadata": {
  "kernelspec": {
   "display_name": "Python 3",
   "language": "python",
   "name": "python3"
  },
  "language_info": {
   "codemirror_mode": {
    "name": "ipython",
    "version": 2
   },
   "file_extension": ".py",
   "mimetype": "text/x-python",
   "name": "python",
   "nbconvert_exporter": "python",
   "pygments_lexer": "ipython2",
   "version": "2.7.6"
  }
 },
 "nbformat": 4,
 "nbformat_minor": 0
}