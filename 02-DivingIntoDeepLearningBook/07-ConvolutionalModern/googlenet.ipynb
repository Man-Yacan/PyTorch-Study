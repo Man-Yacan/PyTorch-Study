{
 "cells": [
  {
   "cell_type": "code",
   "execution_count": 1,
   "metadata": {
    "collapsed": true,
    "ExecuteTime": {
     "end_time": "2023-07-13T15:47:52.833682200Z",
     "start_time": "2023-07-13T15:47:50.717528700Z"
    }
   },
   "outputs": [],
   "source": [
    "import torch\n",
    "from torch import nn\n",
    "from torch.nn import functional as F\n",
    "from d2l import torch as d2l\n",
    "\n",
    "import hues\n",
    "from prettytable import PrettyTable"
   ]
  },
  {
   "cell_type": "code",
   "execution_count": 2,
   "outputs": [],
   "source": [
    "class Inception(nn.Module):\n",
    "    # c1--c4是每条路径的输出通道数\n",
    "    def __init__(self, in_channels, c1, c2, c3, c4, **kwargs):\n",
    "        super(Inception, self).__init__(**kwargs)\n",
    "        # 线路1，单1x1卷积层\n",
    "        self.p1_1 = nn.Conv2d(in_channels, c1, kernel_size=1)\n",
    "        # 线路2，1x1卷积层后接3x3卷积层\n",
    "        self.p2_1 = nn.Conv2d(in_channels, c2[0], kernel_size=1)\n",
    "        self.p2_2 = nn.Conv2d(c2[0], c2[1], kernel_size=3, padding=1)\n",
    "        # 线路3，1x1卷积层后接5x5卷积层\n",
    "        self.p3_1 = nn.Conv2d(in_channels, c3[0], kernel_size=1)\n",
    "        self.p3_2 = nn.Conv2d(c3[0], c3[1], kernel_size=5, padding=2)\n",
    "        # 线路4，3x3最大汇聚层后接1x1卷积层\n",
    "        self.p4_1 = nn.MaxPool2d(kernel_size=3, stride=1, padding=1)\n",
    "        self.p4_2 = nn.Conv2d(in_channels, c4, kernel_size=1)\n",
    "\n",
    "    def forward(self, x):\n",
    "        p1 = F.relu(self.p1_1(x))\n",
    "        p2 = F.relu(self.p2_2(F.relu(self.p2_1(x))))\n",
    "        p3 = F.relu(self.p3_2(F.relu(self.p3_1(x))))\n",
    "        p4 = F.relu(self.p4_2(self.p4_1(x)))\n",
    "        # 在通道维度上连结输出\n",
    "        return torch.cat((p1, p2, p3, p4), dim=1)"
   ],
   "metadata": {
    "collapsed": false,
    "ExecuteTime": {
     "end_time": "2023-07-13T15:48:01.670335400Z",
     "start_time": "2023-07-13T15:48:01.643528800Z"
    }
   }
  },
  {
   "cell_type": "code",
   "execution_count": 3,
   "outputs": [],
   "source": [
    "b1 = nn.Sequential(nn.Conv2d(1, 64, kernel_size=7, stride=2, padding=3),\n",
    "                   nn.ReLU(),\n",
    "                   nn.MaxPool2d(kernel_size=3, stride=2, padding=1))\n",
    "\n",
    "b2 = nn.Sequential(nn.Conv2d(64, 64, kernel_size=1),\n",
    "                   nn.ReLU(),\n",
    "                   nn.Conv2d(64, 192, kernel_size=3, padding=1),\n",
    "                   nn.ReLU(),\n",
    "                   nn.MaxPool2d(kernel_size=3, stride=2, padding=1))\n",
    "\n",
    "b3 = nn.Sequential(Inception(192, 64, (96, 128), (16, 32), 32),\n",
    "                   Inception(256, 128, (128, 192), (32, 96), 64),\n",
    "                   nn.MaxPool2d(kernel_size=3, stride=2, padding=1))\n",
    "\n",
    "b4 = nn.Sequential(Inception(480, 192, (96, 208), (16, 48), 64),\n",
    "                   Inception(512, 160, (112, 224), (24, 64), 64),\n",
    "                   Inception(512, 128, (128, 256), (24, 64), 64),\n",
    "                   Inception(512, 112, (144, 288), (32, 64), 64),\n",
    "                   Inception(528, 256, (160, 320), (32, 128), 128),\n",
    "                   nn.MaxPool2d(kernel_size=3, stride=2, padding=1))\n",
    "\n",
    "b5 = nn.Sequential(Inception(832, 256, (160, 320), (32, 128), 128),\n",
    "                   Inception(832, 384, (192, 384), (48, 128), 128),\n",
    "                   nn.AdaptiveAvgPool2d((1, 1)),\n",
    "                   nn.Flatten())\n",
    "\n",
    "net = nn.Sequential(b1, b2, b3, b4, b5, nn.Linear(1024, 10))"
   ],
   "metadata": {
    "collapsed": false,
    "ExecuteTime": {
     "end_time": "2023-07-13T15:49:10.347083700Z",
     "start_time": "2023-07-13T15:49:10.280632100Z"
    }
   }
  },
  {
   "cell_type": "code",
   "execution_count": 4,
   "outputs": [
    {
     "name": "stdout",
     "output_type": "stream",
     "text": [
      "+-------+-------------------+------------------+------------------+\n",
      "| Index |       Layer       |   Input Shape    |   Output Shape   |\n",
      "+-------+-------------------+------------------+------------------+\n",
      "|  0-0  |       Conv2d      |  [1, 1, 96, 96]  | [1, 64, 48, 48]  |\n",
      "|  0-1  |        ReLU       | [1, 64, 48, 48]  | [1, 64, 48, 48]  |\n",
      "|  0-2  |     MaxPool2d     | [1, 64, 48, 48]  | [1, 64, 24, 24]  |\n",
      "|  1-0  |       Conv2d      | [1, 64, 24, 24]  | [1, 64, 24, 24]  |\n",
      "|  1-1  |        ReLU       | [1, 64, 24, 24]  | [1, 64, 24, 24]  |\n",
      "|  1-2  |       Conv2d      | [1, 64, 24, 24]  | [1, 192, 24, 24] |\n",
      "|  1-3  |        ReLU       | [1, 192, 24, 24] | [1, 192, 24, 24] |\n",
      "|  1-4  |     MaxPool2d     | [1, 192, 24, 24] | [1, 192, 12, 12] |\n",
      "|  2-0  |     Inception     | [1, 192, 12, 12] | [1, 256, 12, 12] |\n",
      "|  2-1  |     Inception     | [1, 256, 12, 12] | [1, 480, 12, 12] |\n",
      "|  2-2  |     MaxPool2d     | [1, 480, 12, 12] |  [1, 480, 6, 6]  |\n",
      "|  3-0  |     Inception     |  [1, 480, 6, 6]  |  [1, 512, 6, 6]  |\n",
      "|  3-1  |     Inception     |  [1, 512, 6, 6]  |  [1, 512, 6, 6]  |\n",
      "|  3-2  |     Inception     |  [1, 512, 6, 6]  |  [1, 512, 6, 6]  |\n",
      "|  3-3  |     Inception     |  [1, 512, 6, 6]  |  [1, 528, 6, 6]  |\n",
      "|  3-4  |     Inception     |  [1, 528, 6, 6]  |  [1, 832, 6, 6]  |\n",
      "|  3-5  |     MaxPool2d     |  [1, 832, 6, 6]  |  [1, 832, 3, 3]  |\n",
      "|  4-0  |     Inception     |  [1, 832, 3, 3]  |  [1, 832, 3, 3]  |\n",
      "|  4-1  |     Inception     |  [1, 832, 3, 3]  | [1, 1024, 3, 3]  |\n",
      "|  4-2  | AdaptiveAvgPool2d | [1, 1024, 3, 3]  | [1, 1024, 1, 1]  |\n",
      "|  4-3  |      Flatten      | [1, 1024, 1, 1]  |    [1, 1024]     |\n",
      "|   5   |       Linear      |    [1, 1024]     |     [1, 10]      |\n",
      "+-------+-------------------+------------------+------------------+\n"
     ]
    }
   ],
   "source": [
    "X = torch.rand(size=(1, 1, 96, 96))\n",
    "\n",
    "tb = PrettyTable(['Index', 'Layer', 'Input Shape', 'Output Shape'])\n",
    "for i, layer in enumerate(net):\n",
    "    if isinstance(layer, nn.Sequential):\n",
    "        for j, in_layer in enumerate(layer):\n",
    "            input_shape = X.shape\n",
    "            X = in_layer(X)\n",
    "            output_shape = X.shape\n",
    "            tb.add_row([f'{i}-{j}', in_layer.__class__.__name__, list(input_shape), list(output_shape)])\n",
    "    else:\n",
    "        input_shape = X.shape\n",
    "        X = layer(X)\n",
    "        output_shape = X.shape\n",
    "        tb.add_row([f'{i}', layer.__class__.__name__, list(input_shape), list(output_shape)])\n",
    "\n",
    "print(tb)"
   ],
   "metadata": {
    "collapsed": false,
    "ExecuteTime": {
     "end_time": "2023-07-13T15:49:30.404760200Z",
     "start_time": "2023-07-13T15:49:30.328209200Z"
    }
   }
  },
  {
   "cell_type": "code",
   "execution_count": null,
   "outputs": [],
   "source": [],
   "metadata": {
    "collapsed": false
   }
  }
 ],
 "metadata": {
  "kernelspec": {
   "display_name": "Python 3",
   "language": "python",
   "name": "python3"
  },
  "language_info": {
   "codemirror_mode": {
    "name": "ipython",
    "version": 2
   },
   "file_extension": ".py",
   "mimetype": "text/x-python",
   "name": "python",
   "nbconvert_exporter": "python",
   "pygments_lexer": "ipython2",
   "version": "2.7.6"
  }
 },
 "nbformat": 4,
 "nbformat_minor": 0
}
