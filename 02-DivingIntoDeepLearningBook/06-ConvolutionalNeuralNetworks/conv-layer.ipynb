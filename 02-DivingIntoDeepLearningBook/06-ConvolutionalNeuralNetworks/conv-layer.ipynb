{
 "cells": [
  {
   "cell_type": "code",
   "execution_count": 184,
   "metadata": {
    "collapsed": true,
    "ExecuteTime": {
     "end_time": "2023-07-10T02:17:25.616724600Z",
     "start_time": "2023-07-10T02:17:25.606235800Z"
    }
   },
   "outputs": [],
   "source": [
    "import torch\n",
    "from torch import nn\n",
    "from d2l import torch as d2l"
   ]
  },
  {
   "cell_type": "code",
   "execution_count": 185,
   "outputs": [],
   "source": [
    "def corr2d(X, K):  #@save\n",
    "    \"\"\"计算二维互相关运算\"\"\"\n",
    "    h, w = K.shape\n",
    "    Y = torch.zeros((X.shape[0] - h + 1, X.shape[1] - w + 1))\n",
    "    for i in range(Y.shape[0]):\n",
    "        for j in range(Y.shape[1]):\n",
    "            Y[i, j] = (X[i:i + h, j:j + w] * K).sum()\n",
    "    return Y"
   ],
   "metadata": {
    "collapsed": false,
    "ExecuteTime": {
     "end_time": "2023-07-10T02:17:25.656292300Z",
     "start_time": "2023-07-10T02:17:25.618724Z"
    }
   }
  },
  {
   "cell_type": "code",
   "execution_count": 186,
   "outputs": [
    {
     "data": {
      "text/plain": "tensor([[19., 25.],\n        [37., 43.]])"
     },
     "execution_count": 186,
     "metadata": {},
     "output_type": "execute_result"
    }
   ],
   "source": [
    "X = torch.tensor([[0.0, 1.0, 2.0], [3.0, 4.0, 5.0], [6.0, 7.0, 8.0]])\n",
    "K = torch.tensor([[0.0, 1.0], [2.0, 3.0]])\n",
    "corr2d(X, K)"
   ],
   "metadata": {
    "collapsed": false,
    "ExecuteTime": {
     "end_time": "2023-07-10T02:17:25.656803400Z",
     "start_time": "2023-07-10T02:17:25.632231500Z"
    }
   }
  },
  {
   "cell_type": "code",
   "execution_count": 187,
   "outputs": [],
   "source": [
    "class Conv2D(nn.Module):\n",
    "    def __init__(self, kernel_size):\n",
    "        super().__init__()\n",
    "        self.weight = nn.Parameter(torch.rand(kernel_size))\n",
    "        self.bias = nn.Parameter(torch.zeros(1))\n",
    "\n",
    "    def forward(self, x):\n",
    "        return corr2d(x, self.weight) + self.bias"
   ],
   "metadata": {
    "collapsed": false,
    "ExecuteTime": {
     "end_time": "2023-07-10T02:17:25.706123500Z",
     "start_time": "2023-07-10T02:17:25.649993200Z"
    }
   }
  },
  {
   "cell_type": "code",
   "execution_count": 188,
   "outputs": [
    {
     "data": {
      "text/plain": "tensor([[1., 1., 0., 0., 0., 0., 1., 1.],\n        [1., 1., 0., 0., 0., 0., 1., 1.],\n        [1., 1., 0., 0., 0., 0., 1., 1.],\n        [1., 1., 0., 0., 0., 0., 1., 1.],\n        [1., 1., 0., 0., 0., 0., 1., 1.],\n        [1., 1., 0., 0., 0., 0., 1., 1.]])"
     },
     "execution_count": 188,
     "metadata": {},
     "output_type": "execute_result"
    }
   ],
   "source": [
    "X = torch.ones((6, 8))\n",
    "X[:, 2:6] = 0\n",
    "X"
   ],
   "metadata": {
    "collapsed": false,
    "ExecuteTime": {
     "end_time": "2023-07-10T02:17:25.717632700Z",
     "start_time": "2023-07-10T02:17:25.696533500Z"
    }
   }
  },
  {
   "cell_type": "code",
   "execution_count": 189,
   "outputs": [],
   "source": [
    "K = torch.tensor([[1.0, -1.0]])"
   ],
   "metadata": {
    "collapsed": false,
    "ExecuteTime": {
     "end_time": "2023-07-10T02:17:25.725488600Z",
     "start_time": "2023-07-10T02:17:25.713124400Z"
    }
   }
  },
  {
   "cell_type": "code",
   "execution_count": 190,
   "outputs": [
    {
     "data": {
      "text/plain": "tensor([[ 0.,  1.,  0.,  0.,  0., -1.,  0.],\n        [ 0.,  1.,  0.,  0.,  0., -1.,  0.],\n        [ 0.,  1.,  0.,  0.,  0., -1.,  0.],\n        [ 0.,  1.,  0.,  0.,  0., -1.,  0.],\n        [ 0.,  1.,  0.,  0.,  0., -1.,  0.],\n        [ 0.,  1.,  0.,  0.,  0., -1.,  0.]])"
     },
     "execution_count": 190,
     "metadata": {},
     "output_type": "execute_result"
    }
   ],
   "source": [
    "Y = corr2d(X, K)\n",
    "Y\n",
    "# 图像边缘已经被检测出来，由1到0的边缘为1；由0到1的边缘为-1；"
   ],
   "metadata": {
    "collapsed": false,
    "ExecuteTime": {
     "end_time": "2023-07-10T02:17:25.770343100Z",
     "start_time": "2023-07-10T02:17:25.726488800Z"
    }
   }
  },
  {
   "cell_type": "code",
   "execution_count": 191,
   "outputs": [
    {
     "data": {
      "text/plain": "tensor([[1., 1., 1., 1., 1., 1.],\n        [1., 1., 1., 1., 1., 1.],\n        [0., 0., 0., 0., 0., 0.],\n        [0., 0., 0., 0., 0., 0.],\n        [0., 0., 0., 0., 0., 0.],\n        [0., 0., 0., 0., 0., 0.],\n        [1., 1., 1., 1., 1., 1.],\n        [1., 1., 1., 1., 1., 1.]])"
     },
     "execution_count": 191,
     "metadata": {},
     "output_type": "execute_result"
    }
   ],
   "source": [
    "X.t()"
   ],
   "metadata": {
    "collapsed": false,
    "ExecuteTime": {
     "end_time": "2023-07-10T02:17:25.782792100Z",
     "start_time": "2023-07-10T02:17:25.742299300Z"
    }
   }
  },
  {
   "cell_type": "code",
   "execution_count": 192,
   "outputs": [
    {
     "data": {
      "text/plain": "tensor([[0., 0., 0., 0., 0.],\n        [0., 0., 0., 0., 0.],\n        [0., 0., 0., 0., 0.],\n        [0., 0., 0., 0., 0.],\n        [0., 0., 0., 0., 0.],\n        [0., 0., 0., 0., 0.],\n        [0., 0., 0., 0., 0.],\n        [0., 0., 0., 0., 0.]])"
     },
     "execution_count": 192,
     "metadata": {},
     "output_type": "execute_result"
    }
   ],
   "source": [
    "corr2d(X.t(), K)"
   ],
   "metadata": {
    "collapsed": false,
    "ExecuteTime": {
     "end_time": "2023-07-10T02:17:25.782792100Z",
     "start_time": "2023-07-10T02:17:25.770343100Z"
    }
   }
  },
  {
   "cell_type": "code",
   "execution_count": 193,
   "outputs": [
    {
     "data": {
      "text/plain": "tensor([[ 0.,  0.,  0.,  0.,  0.,  0.],\n        [ 1.,  1.,  1.,  1.,  1.,  1.],\n        [ 0.,  0.,  0.,  0.,  0.,  0.],\n        [ 0.,  0.,  0.,  0.,  0.,  0.],\n        [ 0.,  0.,  0.,  0.,  0.,  0.],\n        [-1., -1., -1., -1., -1., -1.],\n        [ 0.,  0.,  0.,  0.,  0.,  0.]])"
     },
     "execution_count": 193,
     "metadata": {},
     "output_type": "execute_result"
    }
   ],
   "source": [
    "corr2d(X.t(), K.t())"
   ],
   "metadata": {
    "collapsed": false,
    "ExecuteTime": {
     "end_time": "2023-07-10T02:17:25.793366Z",
     "start_time": "2023-07-10T02:17:25.774460500Z"
    }
   }
  },
  {
   "cell_type": "code",
   "execution_count": 194,
   "outputs": [],
   "source": [
    "# 构造一个二维卷积层，它具有1个输出通道和形状为（1，2）的卷积核\n",
    "conv2d = nn.Conv2d(1, 1, kernel_size=(1, 2), bias=False)\n",
    "\n",
    "# 这个二维卷积层使用四维输入和输出格式（批量大小、通道、高度、宽度），\n",
    "# 其中批量大小和通道数都为1\n",
    "X = X.reshape((1, 1, 6, 8))\n",
    "Y = Y.reshape((1, 1, 6, 7))\n",
    "lr = 3e-2  # 学习率"
   ],
   "metadata": {
    "collapsed": false,
    "ExecuteTime": {
     "end_time": "2023-07-10T02:17:25.826921300Z",
     "start_time": "2023-07-10T02:17:25.788709300Z"
    }
   }
  },
  {
   "cell_type": "code",
   "execution_count": 196,
   "outputs": [
    {
     "name": "stdout",
     "output_type": "stream",
     "text": [
      "epoch 2, loss 0.000\n",
      "epoch 4, loss 0.000\n",
      "epoch 6, loss 0.000\n",
      "epoch 8, loss 0.000\n",
      "epoch 10, loss 0.000\n",
      "epoch 12, loss 0.000\n",
      "epoch 14, loss 0.000\n",
      "epoch 16, loss 0.000\n",
      "epoch 18, loss 0.000\n",
      "epoch 20, loss 0.000\n",
      "epoch 22, loss 0.000\n",
      "epoch 24, loss 0.000\n",
      "epoch 26, loss 0.000\n",
      "epoch 28, loss 0.000\n",
      "epoch 30, loss 0.000\n",
      "epoch 32, loss 0.000\n",
      "epoch 34, loss 0.000\n",
      "epoch 36, loss 0.000\n",
      "epoch 38, loss 0.000\n",
      "epoch 40, loss 0.000\n",
      "epoch 42, loss 0.000\n",
      "epoch 44, loss 0.000\n",
      "epoch 46, loss 0.000\n",
      "epoch 48, loss 0.000\n",
      "epoch 50, loss 0.000\n",
      "epoch 52, loss 0.000\n",
      "epoch 54, loss 0.000\n",
      "epoch 56, loss 0.000\n",
      "epoch 58, loss 0.000\n",
      "epoch 60, loss 0.000\n",
      "epoch 62, loss 0.000\n",
      "epoch 64, loss 0.000\n",
      "epoch 66, loss 0.000\n",
      "epoch 68, loss 0.000\n",
      "epoch 70, loss 0.000\n",
      "epoch 72, loss 0.000\n",
      "epoch 74, loss 0.000\n",
      "epoch 76, loss 0.000\n",
      "epoch 78, loss 0.000\n",
      "epoch 80, loss 0.000\n",
      "epoch 82, loss 0.000\n",
      "epoch 84, loss 0.000\n",
      "epoch 86, loss 0.000\n",
      "epoch 88, loss 0.000\n",
      "epoch 90, loss 0.000\n",
      "epoch 92, loss 0.000\n",
      "epoch 94, loss 0.000\n",
      "epoch 96, loss 0.000\n",
      "epoch 98, loss 0.000\n",
      "epoch 100, loss 0.000\n"
     ]
    },
    {
     "data": {
      "text/plain": "tensor([[[[ 1.0000, -1.0000]]]])"
     },
     "execution_count": 196,
     "metadata": {},
     "output_type": "execute_result"
    }
   ],
   "source": [
    "for i in range(100):\n",
    "    Y_hat = conv2d(X)\n",
    "    l = (Y_hat - Y) ** 2\n",
    "    conv2d.zero_grad()\n",
    "    l.sum().backward()\n",
    "    # 迭代卷积核\n",
    "    conv2d.weight.data[:] -= lr * conv2d.weight.grad\n",
    "    if (i + 1) % 2 == 0:\n",
    "        print(f'epoch {i + 1}, loss {l.sum():.3f}')\n",
    "\n",
    "\n",
    "conv2d.weight.data"
   ],
   "metadata": {
    "collapsed": false,
    "ExecuteTime": {
     "end_time": "2023-07-10T02:17:51.948098300Z",
     "start_time": "2023-07-10T02:17:51.902678600Z"
    }
   }
  }
 ],
 "metadata": {
  "kernelspec": {
   "display_name": "Python 3",
   "language": "python",
   "name": "python3"
  },
  "language_info": {
   "codemirror_mode": {
    "name": "ipython",
    "version": 2
   },
   "file_extension": ".py",
   "mimetype": "text/x-python",
   "name": "python",
   "nbconvert_exporter": "python",
   "pygments_lexer": "ipython2",
   "version": "2.7.6"
  }
 },
 "nbformat": 4,
 "nbformat_minor": 0
}
