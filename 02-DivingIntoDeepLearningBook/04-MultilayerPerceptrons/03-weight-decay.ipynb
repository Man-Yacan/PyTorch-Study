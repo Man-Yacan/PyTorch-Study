{
 "cells": [
  {
   "cell_type": "code",
   "execution_count": 1,
   "metadata": {
    "collapsed": true,
    "ExecuteTime": {
     "end_time": "2023-07-06T14:18:29.432610Z",
     "start_time": "2023-07-06T14:18:27.254850800Z"
    }
   },
   "outputs": [],
   "source": [
    "import torch\n",
    "from torch import nn\n",
    "from d2l import torch as d2l"
   ]
  },
  {
   "cell_type": "code",
   "execution_count": 2,
   "outputs": [],
   "source": [
    "n_train, n_test, num_inputs, batch_size = 20, 100, 200, 5\n",
    "true_w, true_b = torch.ones((num_inputs, 1)) * 0.01, 0.05\n",
    "train_data = d2l.synthetic_data(true_w, true_b, n_train)\n",
    "train_iter = d2l.load_array(train_data, batch_size)\n",
    "test_data = d2l.synthetic_data(true_w, true_b, n_test)\n",
    "test_iter = d2l.load_array(test_data, batch_size, is_train=False)"
   ],
   "metadata": {
    "collapsed": false,
    "ExecuteTime": {
     "end_time": "2023-07-06T14:18:55.027274300Z",
     "start_time": "2023-07-06T14:18:54.990192900Z"
    }
   }
  },
  {
   "cell_type": "code",
   "execution_count": 4,
   "outputs": [
    {
     "data": {
      "text/plain": "(tensor([[-0.6470, -2.0681,  0.2279,  ...,  0.5105,  0.3781,  0.4555],\n         [-0.9230, -0.5175,  0.0762,  ..., -0.8926,  0.4565, -0.1819],\n         [ 0.8199, -1.1036,  0.7588,  ...,  0.2789, -0.1966, -0.7889],\n         ...,\n         [-1.3425, -0.4099,  1.2020,  ..., -1.2449, -3.2707, -0.0467],\n         [-0.7446, -0.6221, -1.0284,  ..., -0.3053,  0.4424, -0.0635],\n         [-0.3357,  0.8523,  0.5436,  ..., -0.2409, -0.0126, -0.9021]]),\n tensor([[ 0.0836],\n         [-0.2526],\n         [-0.0347],\n         [ 0.1748],\n         [ 0.2064],\n         [ 0.2464],\n         [ 0.2336],\n         [ 0.1013],\n         [-0.1228],\n         [ 0.1691],\n         [-0.0479],\n         [ 0.0776],\n         [-0.1772],\n         [ 0.1637],\n         [ 0.2013],\n         [-0.0909],\n         [ 0.0628],\n         [ 0.1448],\n         [-0.0164],\n         [-0.0548]]))"
     },
     "execution_count": 4,
     "metadata": {},
     "output_type": "execute_result"
    }
   ],
   "source": [
    "train_data"
   ],
   "metadata": {
    "collapsed": false,
    "ExecuteTime": {
     "end_time": "2023-07-06T14:19:07.492562100Z",
     "start_time": "2023-07-06T14:19:07.474256Z"
    }
   }
  }
 ],
 "metadata": {
  "kernelspec": {
   "display_name": "Python 3",
   "language": "python",
   "name": "python3"
  },
  "language_info": {
   "codemirror_mode": {
    "name": "ipython",
    "version": 2
   },
   "file_extension": ".py",
   "mimetype": "text/x-python",
   "name": "python",
   "nbconvert_exporter": "python",
   "pygments_lexer": "ipython2",
   "version": "2.7.6"
  }
 },
 "nbformat": 4,
 "nbformat_minor": 0
}
