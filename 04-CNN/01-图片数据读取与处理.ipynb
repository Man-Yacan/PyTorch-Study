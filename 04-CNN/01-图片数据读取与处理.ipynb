{
 "cells": [
  {
   "cell_type": "code",
   "execution_count": 28,
   "outputs": [],
   "source": [
    "import numpy as np\n",
    "import cv2\n",
    "import os"
   ],
   "metadata": {
    "collapsed": false,
    "ExecuteTime": {
     "end_time": "2023-06-21T11:37:56.592307300Z",
     "start_time": "2023-06-21T11:37:56.575332600Z"
    }
   }
  },
  {
   "cell_type": "code",
   "execution_count": 29,
   "outputs": [],
   "source": [
    "def unpickle(file):\n",
    "    import pickle\n",
    "    with open(file, 'rb') as fo:\n",
    "        dict = pickle.load(fo, encoding='bytes')\n",
    "    return dict\n",
    "\n",
    "\n",
    "# 标签名称\n",
    "LABEL_NAME = [\n",
    "    'airplane',\n",
    "    'automobile',\n",
    "    'bird',\n",
    "    'cat',\n",
    "    'deer',\n",
    "    'dog',\n",
    "    'frog',\n",
    "    'horse',\n",
    "    'ship',\n",
    "    'truck'\n",
    "]\n",
    "\n",
    "SVAE_PATH = '../00-data/cifar-10-python/train/'"
   ],
   "metadata": {
    "collapsed": false,
    "ExecuteTime": {
     "end_time": "2023-06-21T11:37:56.592307300Z",
     "start_time": "2023-06-21T11:37:56.577717200Z"
    }
   }
  },
  {
   "cell_type": "code",
   "execution_count": 30,
   "outputs": [
    {
     "name": "stdout",
     "output_type": "stream",
     "text": [
      "D:\\code\\PyTorch-Study\\04-CNN\\..\\00-data\\cifar-10-python\\data_batch_1\n",
      "D:\\code\\PyTorch-Study\\04-CNN\\..\\00-data\\cifar-10-python\\data_batch_2\n",
      "D:\\code\\PyTorch-Study\\04-CNN\\..\\00-data\\cifar-10-python\\data_batch_3\n",
      "D:\\code\\PyTorch-Study\\04-CNN\\..\\00-data\\cifar-10-python\\data_batch_4\n",
      "D:\\code\\PyTorch-Study\\04-CNN\\..\\00-data\\cifar-10-python\\data_batch_5\n"
     ]
    }
   ],
   "source": [
    "# 获取文件列表\n",
    "from pathlib import Path\n",
    "\n",
    "for path in Path().glob('../00-data/cifar-10-python/data_batch_*'):\n",
    "    print(path.absolute())"
   ],
   "metadata": {
    "collapsed": false,
    "ExecuteTime": {
     "end_time": "2023-06-21T11:37:56.592817Z",
     "start_time": "2023-06-21T11:37:56.584916900Z"
    }
   }
  },
  {
   "cell_type": "code",
   "execution_count": 31,
   "outputs": [
    {
     "data": {
      "text/plain": "['../00-data/cifar-10-python\\\\test_batch']"
     },
     "execution_count": 31,
     "metadata": {},
     "output_type": "execute_result"
    }
   ],
   "source": [
    "# 获取文件列表的另一种方法\n",
    "import glob\n",
    "\n",
    "# train_data_list = glob.glob('../00-data/cifar-10-python/data_batch*')\n",
    "train_data_list = glob.glob('../00-data/cifar-10-python/test_batch*')\n",
    "train_data_list"
   ],
   "metadata": {
    "collapsed": false,
    "ExecuteTime": {
     "end_time": "2023-06-21T11:37:56.604158600Z",
     "start_time": "2023-06-21T11:37:56.589715300Z"
    }
   }
  },
  {
   "cell_type": "code",
   "execution_count": 32,
   "outputs": [],
   "source": [
    "# 循环读取文件，保存为图片格式\n",
    "for path in train_data_list:\n",
    "    data_dict = unpickle(path)\n",
    "    # print(data_dict.keys())\n",
    "    # print(data_dict[b'data'])\n",
    "    # batch_label：批次号；labels：对应标签名称；data：图像数据（3×32×32）；filenames：文件名称\n",
    "\n",
    "    for img_id, img_data in enumerate(data_dict[b'data']):\n",
    "        img_name = data_dict[b'filenames'][img_id]\n",
    "        img_label = LABEL_NAME[int(data_dict[b'labels'][img_id])]\n",
    "        # print(img_name, img_label)\n",
    "\n",
    "        img_data = np.reshape(img_data, [3, 32, -1])  # 图片数据格式为3×32×32\n",
    "        img_data = np.transpose(img_data, (1, 2, 0))  # 将图片格式转换为32×32×3，为什么要这样？我也不理解，但是问题不大，可能是因为cv2的格式、要求\n",
    "        # cv2.imshow('img_data', cv2.resize(img_data, (200, 200)))\n",
    "        # cv2.waitKey(0)\n",
    "\n",
    "        # 对训练集图片按照不同标签对应不同的文件夹分类\n",
    "        cur_path = SVAE_PATH + img_label\n",
    "        if not os.path.exists(cur_path):\n",
    "            os.makedirs(cur_path)\n",
    "\n",
    "        # Saving image\n",
    "        cv2.imwrite(cur_path + '/' + img_name.decode('utf-8'), img_data)"
   ],
   "metadata": {
    "collapsed": false,
    "ExecuteTime": {
     "end_time": "2023-06-21T11:38:01.321486Z",
     "start_time": "2023-06-21T11:37:56.597159600Z"
    }
   }
  }
 ],
 "metadata": {
  "kernelspec": {
   "display_name": "Python 3",
   "language": "python",
   "name": "python3"
  },
  "language_info": {
   "codemirror_mode": {
    "name": "ipython",
    "version": 2
   },
   "file_extension": ".py",
   "mimetype": "text/x-python",
   "name": "python",
   "nbconvert_exporter": "python",
   "pygments_lexer": "ipython2",
   "version": "2.7.6"
  }
 },
 "nbformat": 4,
 "nbformat_minor": 0
}
