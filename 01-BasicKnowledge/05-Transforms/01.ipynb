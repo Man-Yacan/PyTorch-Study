{
 "cells": [
  {
   "cell_type": "code",
   "execution_count": 2,
   "metadata": {
    "collapsed": true,
    "ExecuteTime": {
     "end_time": "2023-06-26T06:50:12.824972100Z",
     "start_time": "2023-06-26T06:50:12.822645100Z"
    }
   },
   "outputs": [],
   "source": [
    "# 常见的Transforms\n",
    "# 输入：PTL --> Image.open()\n",
    "# 输出：tensor --> ToTensor()\n",
    "# 作用：array --> cv.imread()"
   ]
  },
  {
   "cell_type": "code",
   "execution_count": 3,
   "outputs": [],
   "source": [
    "from PIL import Image\n",
    "from torchvision import transforms\n",
    "from torch.utils.tensorboard import SummaryWriter"
   ],
   "metadata": {
    "collapsed": false,
    "ExecuteTime": {
     "end_time": "2023-06-26T06:50:18.924745500Z",
     "start_time": "2023-06-26T06:50:13.078606100Z"
    }
   }
  },
  {
   "cell_type": "markdown",
   "source": [
    "## ToTensor()"
   ],
   "metadata": {
    "collapsed": false
   }
  },
  {
   "cell_type": "code",
   "execution_count": 4,
   "outputs": [],
   "source": [
    "img_path = r'D:\\code\\PyTorch-Study\\00-data\\hymenoptera\\train\\bees\\16838648_415acd9e3f.jpg'\n",
    "img = Image.open(img_path)"
   ],
   "metadata": {
    "collapsed": false,
    "ExecuteTime": {
     "end_time": "2023-06-26T06:50:18.942188500Z",
     "start_time": "2023-06-26T06:50:18.925745900Z"
    }
   }
  },
  {
   "cell_type": "code",
   "execution_count": 5,
   "outputs": [
    {
     "data": {
      "text/plain": "tensor([[[0.0980, 0.0863, 0.0902,  ..., 0.0314, 0.0314, 0.0431],\n         [0.0784, 0.0863, 0.0863,  ..., 0.0235, 0.0196, 0.0196],\n         [0.0510, 0.0784, 0.0863,  ..., 0.0431, 0.0353, 0.0392],\n         ...,\n         [0.7765, 0.7804, 0.6941,  ..., 0.7529, 0.7333, 0.7804],\n         [0.6784, 0.8000, 0.7529,  ..., 0.7490, 0.7098, 0.7961],\n         [0.7882, 0.7176, 0.6431,  ..., 0.7373, 0.6824, 0.7529]],\n\n        [[0.0863, 0.0667, 0.0667,  ..., 0.0706, 0.0706, 0.0667],\n         [0.0824, 0.0863, 0.0824,  ..., 0.0510, 0.0471, 0.0392],\n         [0.0863, 0.1020, 0.0941,  ..., 0.0510, 0.0431, 0.0392],\n         ...,\n         [0.8980, 0.9137, 0.8392,  ..., 0.8941, 0.8510, 0.8745],\n         [0.7882, 0.9020, 0.8510,  ..., 0.8627, 0.8118, 0.8902],\n         [0.8980, 0.8196, 0.7412,  ..., 0.8510, 0.7843, 0.8471]],\n\n        [[0.1216, 0.0902, 0.0667,  ..., 0.0392, 0.0392, 0.0510],\n         [0.0980, 0.0941, 0.0745,  ..., 0.0235, 0.0196, 0.0235],\n         [0.0667, 0.0863, 0.0745,  ..., 0.0314, 0.0235, 0.0314],\n         ...,\n         [0.9176, 0.9529, 0.9098,  ..., 0.9490, 0.8941, 0.9137],\n         [0.8353, 0.9608, 0.9294,  ..., 0.9255, 0.8627, 0.9294],\n         [0.9451, 0.8784, 0.8196,  ..., 0.9137, 0.8353, 0.8863]]])"
     },
     "execution_count": 5,
     "metadata": {},
     "output_type": "execute_result"
    }
   ],
   "source": [
    "trans_tensor = transforms.ToTensor()\n",
    "img_tensor = trans_tensor(img)\n",
    "img_tensor"
   ],
   "metadata": {
    "collapsed": false,
    "ExecuteTime": {
     "end_time": "2023-06-26T06:50:18.969061500Z",
     "start_time": "2023-06-26T06:50:18.943190Z"
    }
   }
  },
  {
   "cell_type": "markdown",
   "source": [
    "## Normalize()"
   ],
   "metadata": {
    "collapsed": false
   }
  },
  {
   "cell_type": "code",
   "execution_count": 27,
   "outputs": [
    {
     "data": {
      "text/plain": "tensor(0.0980)"
     },
     "execution_count": 27,
     "metadata": {},
     "output_type": "execute_result"
    }
   ],
   "source": [
    "img_tensor[0][0][0]"
   ],
   "metadata": {
    "collapsed": false,
    "ExecuteTime": {
     "end_time": "2023-06-23T04:24:10.471378600Z",
     "start_time": "2023-06-23T04:24:10.434230900Z"
    }
   }
  },
  {
   "cell_type": "code",
   "execution_count": 6,
   "outputs": [
    {
     "data": {
      "text/plain": "tensor([[[-0.8039, -0.8275, -0.8196,  ..., -0.9373, -0.9373, -0.9137],\n         [-0.8431, -0.8275, -0.8275,  ..., -0.9529, -0.9608, -0.9608],\n         [-0.8980, -0.8431, -0.8275,  ..., -0.9137, -0.9294, -0.9216],\n         ...,\n         [ 0.5529,  0.5608,  0.3882,  ...,  0.5059,  0.4667,  0.5608],\n         [ 0.3569,  0.6000,  0.5059,  ...,  0.4980,  0.4196,  0.5922],\n         [ 0.5765,  0.4353,  0.2863,  ...,  0.4745,  0.3647,  0.5059]],\n\n        [[-0.8275, -0.8667, -0.8667,  ..., -0.8588, -0.8588, -0.8667],\n         [-0.8353, -0.8275, -0.8353,  ..., -0.8980, -0.9059, -0.9216],\n         [-0.8275, -0.7961, -0.8118,  ..., -0.8980, -0.9137, -0.9216],\n         ...,\n         [ 0.7961,  0.8275,  0.6784,  ...,  0.7882,  0.7020,  0.7490],\n         [ 0.5765,  0.8039,  0.7020,  ...,  0.7255,  0.6235,  0.7804],\n         [ 0.7961,  0.6392,  0.4824,  ...,  0.7020,  0.5686,  0.6941]],\n\n        [[-0.7569, -0.8196, -0.8667,  ..., -0.9216, -0.9216, -0.8980],\n         [-0.8039, -0.8118, -0.8510,  ..., -0.9529, -0.9608, -0.9529],\n         [-0.8667, -0.8275, -0.8510,  ..., -0.9373, -0.9529, -0.9373],\n         ...,\n         [ 0.8353,  0.9059,  0.8196,  ...,  0.8980,  0.7882,  0.8275],\n         [ 0.6706,  0.9216,  0.8588,  ...,  0.8510,  0.7255,  0.8588],\n         [ 0.8902,  0.7569,  0.6392,  ...,  0.8275,  0.6706,  0.7725]]])"
     },
     "execution_count": 6,
     "metadata": {},
     "output_type": "execute_result"
    }
   ],
   "source": [
    "trans_nor = transforms.Normalize([.5, .5, .5], [.5, .5, .5])\n",
    "img_nor = trans_nor(img_tensor)\n",
    "img_nor"
   ],
   "metadata": {
    "collapsed": false,
    "ExecuteTime": {
     "end_time": "2023-06-26T06:52:03.770866800Z",
     "start_time": "2023-06-26T06:52:03.753256200Z"
    }
   }
  },
  {
   "cell_type": "code",
   "execution_count": 29,
   "outputs": [
    {
     "data": {
      "text/plain": "tensor(-0.8039)"
     },
     "execution_count": 29,
     "metadata": {},
     "output_type": "execute_result"
    }
   ],
   "source": [
    "img_nor[0][0][0]"
   ],
   "metadata": {
    "collapsed": false,
    "ExecuteTime": {
     "end_time": "2023-06-23T04:24:10.471894Z",
     "start_time": "2023-06-23T04:24:10.445315100Z"
    }
   }
  },
  {
   "cell_type": "code",
   "execution_count": 30,
   "outputs": [
    {
     "data": {
      "text/plain": "tensor(-0.8039)"
     },
     "execution_count": 30,
     "metadata": {},
     "output_type": "execute_result"
    }
   ],
   "source": [
    "# output[channel] = (input[channel] - mean[channel]) / std[channel]\n",
    "(img_tensor[0][0][0] - .5) / .5"
   ],
   "metadata": {
    "collapsed": false,
    "ExecuteTime": {
     "end_time": "2023-06-23T04:24:10.471894Z",
     "start_time": "2023-06-23T04:24:10.451818100Z"
    }
   }
  },
  {
   "cell_type": "code",
   "execution_count": 31,
   "outputs": [
    {
     "data": {
      "text/plain": "torch.Size([3, 450, 500])"
     },
     "execution_count": 31,
     "metadata": {},
     "output_type": "execute_result"
    }
   ],
   "source": [
    "img_nor.shape"
   ],
   "metadata": {
    "collapsed": false,
    "ExecuteTime": {
     "end_time": "2023-06-23T04:24:10.471894Z",
     "start_time": "2023-06-23T04:24:10.456016600Z"
    }
   }
  },
  {
   "cell_type": "code",
   "execution_count": 32,
   "outputs": [],
   "source": [
    "# 创建类对象\n",
    "writer = SummaryWriter('logs')\n",
    "\n",
    "writer.add_image('demo', img_tensor, 1)\n",
    "writer.add_image('demo', img_nor, 2)\n",
    "\n",
    "writer.close()"
   ],
   "metadata": {
    "collapsed": false,
    "ExecuteTime": {
     "end_time": "2023-06-23T04:24:10.663419200Z",
     "start_time": "2023-06-23T04:24:10.461834800Z"
    }
   }
  },
  {
   "cell_type": "code",
   "execution_count": null,
   "outputs": [],
   "source": [
    "# tensorboard --logdir=logs"
   ],
   "metadata": {
    "collapsed": false
   }
  },
  {
   "cell_type": "markdown",
   "source": [
    "## Rescale()"
   ],
   "metadata": {
    "collapsed": false
   }
  },
  {
   "cell_type": "code",
   "execution_count": 33,
   "outputs": [
    {
     "data": {
      "text/plain": "(500, 450)"
     },
     "execution_count": 33,
     "metadata": {},
     "output_type": "execute_result"
    }
   ],
   "source": [
    "img.size"
   ],
   "metadata": {
    "collapsed": false,
    "ExecuteTime": {
     "end_time": "2023-06-23T06:31:28.486804600Z",
     "start_time": "2023-06-23T06:31:28.482804900Z"
    }
   }
  },
  {
   "cell_type": "code",
   "execution_count": 34,
   "outputs": [],
   "source": [
    "trans_resize = transforms.Resize((512, 512))\n",
    "img_resize = trans_resize(img)"
   ],
   "metadata": {
    "collapsed": false,
    "ExecuteTime": {
     "end_time": "2023-06-23T06:32:15.625886400Z",
     "start_time": "2023-06-23T06:32:15.619377300Z"
    }
   }
  },
  {
   "cell_type": "code",
   "execution_count": 35,
   "outputs": [
    {
     "data": {
      "text/plain": "(512, 512)"
     },
     "execution_count": 35,
     "metadata": {},
     "output_type": "execute_result"
    }
   ],
   "source": [
    "img_resize.size"
   ],
   "metadata": {
    "collapsed": false,
    "ExecuteTime": {
     "end_time": "2023-06-23T06:32:21.778655800Z",
     "start_time": "2023-06-23T06:32:21.746899600Z"
    }
   }
  },
  {
   "cell_type": "code",
   "execution_count": 37,
   "outputs": [],
   "source": [
    "writer.add_image('demo', trans_tensor(img_resize), 3)\n",
    "\n",
    "writer.close()"
   ],
   "metadata": {
    "collapsed": false,
    "ExecuteTime": {
     "end_time": "2023-06-23T06:34:04.128110700Z",
     "start_time": "2023-06-23T06:34:03.962461500Z"
    }
   }
  },
  {
   "cell_type": "markdown",
   "source": [
    "## Compose()"
   ],
   "metadata": {
    "collapsed": false
   }
  },
  {
   "cell_type": "code",
   "execution_count": 42,
   "outputs": [],
   "source": [
    "transformer = transforms.Compose([\n",
    "    transforms.RandomGrayscale(.4),\n",
    "    transforms.ColorJitter(.4),\n",
    "    transforms.Resize(512),\n",
    "    transforms.ToTensor()\n",
    "])\n",
    "\n",
    "writer.add_image('demo', transformer(img), 4)\n",
    "writer.close()"
   ],
   "metadata": {
    "collapsed": false,
    "ExecuteTime": {
     "end_time": "2023-06-23T06:52:10.394411300Z",
     "start_time": "2023-06-23T06:52:10.206489500Z"
    }
   }
  },
  {
   "cell_type": "code",
   "execution_count": null,
   "outputs": [],
   "source": [],
   "metadata": {
    "collapsed": false
   }
  }
 ],
 "metadata": {
  "kernelspec": {
   "display_name": "Python 3",
   "language": "python",
   "name": "python3"
  },
  "language_info": {
   "codemirror_mode": {
    "name": "ipython",
    "version": 2
   },
   "file_extension": ".py",
   "mimetype": "text/x-python",
   "name": "python",
   "nbconvert_exporter": "python",
   "pygments_lexer": "ipython2",
   "version": "2.7.6"
  }
 },
 "nbformat": 4,
 "nbformat_minor": 0
}
