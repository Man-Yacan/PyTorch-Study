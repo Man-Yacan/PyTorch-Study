{
 "cells": [
  {
   "cell_type": "code",
   "execution_count": 1,
   "metadata": {
    "collapsed": true,
    "ExecuteTime": {
     "end_time": "2023-06-23T03:22:45.263124700Z",
     "start_time": "2023-06-23T03:22:43.239509400Z"
    }
   },
   "outputs": [],
   "source": [
    "from PIL import Image\n",
    "from torchvision import transforms"
   ]
  },
  {
   "cell_type": "code",
   "execution_count": 2,
   "outputs": [],
   "source": [
    "img_path = r'D:\\code\\PyTorch-Study\\00-data\\hymenoptera\\train\\bees\\16838648_415acd9e3f.jpg'\n",
    "img = Image.open(img_path)"
   ],
   "metadata": {
    "collapsed": false,
    "ExecuteTime": {
     "end_time": "2023-06-23T03:23:31.035893800Z",
     "start_time": "2023-06-23T03:23:30.941625Z"
    }
   }
  },
  {
   "cell_type": "code",
   "execution_count": 5,
   "outputs": [
    {
     "data": {
      "text/plain": "tensor([[[0.0980, 0.0863, 0.0902,  ..., 0.0314, 0.0314, 0.0431],\n         [0.0784, 0.0863, 0.0863,  ..., 0.0235, 0.0196, 0.0196],\n         [0.0510, 0.0784, 0.0863,  ..., 0.0431, 0.0353, 0.0392],\n         ...,\n         [0.7765, 0.7804, 0.6941,  ..., 0.7529, 0.7333, 0.7804],\n         [0.6784, 0.8000, 0.7529,  ..., 0.7490, 0.7098, 0.7961],\n         [0.7882, 0.7176, 0.6431,  ..., 0.7373, 0.6824, 0.7529]],\n\n        [[0.0863, 0.0667, 0.0667,  ..., 0.0706, 0.0706, 0.0667],\n         [0.0824, 0.0863, 0.0824,  ..., 0.0510, 0.0471, 0.0392],\n         [0.0863, 0.1020, 0.0941,  ..., 0.0510, 0.0431, 0.0392],\n         ...,\n         [0.8980, 0.9137, 0.8392,  ..., 0.8941, 0.8510, 0.8745],\n         [0.7882, 0.9020, 0.8510,  ..., 0.8627, 0.8118, 0.8902],\n         [0.8980, 0.8196, 0.7412,  ..., 0.8510, 0.7843, 0.8471]],\n\n        [[0.1216, 0.0902, 0.0667,  ..., 0.0392, 0.0392, 0.0510],\n         [0.0980, 0.0941, 0.0745,  ..., 0.0235, 0.0196, 0.0235],\n         [0.0667, 0.0863, 0.0745,  ..., 0.0314, 0.0235, 0.0314],\n         ...,\n         [0.9176, 0.9529, 0.9098,  ..., 0.9490, 0.8941, 0.9137],\n         [0.8353, 0.9608, 0.9294,  ..., 0.9255, 0.8627, 0.9294],\n         [0.9451, 0.8784, 0.8196,  ..., 0.9137, 0.8353, 0.8863]]])"
     },
     "execution_count": 5,
     "metadata": {},
     "output_type": "execute_result"
    }
   ],
   "source": [
    "trans_tensor = transforms.ToTensor()\n",
    "trans_tensor(img)"
   ],
   "metadata": {
    "collapsed": false,
    "ExecuteTime": {
     "end_time": "2023-06-23T03:24:31.355612500Z",
     "start_time": "2023-06-23T03:24:31.339541100Z"
    }
   }
  },
  {
   "cell_type": "code",
   "execution_count": null,
   "outputs": [],
   "source": [],
   "metadata": {
    "collapsed": false
   }
  }
 ],
 "metadata": {
  "kernelspec": {
   "display_name": "Python 3",
   "language": "python",
   "name": "python3"
  },
  "language_info": {
   "codemirror_mode": {
    "name": "ipython",
    "version": 2
   },
   "file_extension": ".py",
   "mimetype": "text/x-python",
   "name": "python",
   "nbconvert_exporter": "python",
   "pygments_lexer": "ipython2",
   "version": "2.7.6"
  }
 },
 "nbformat": 4,
 "nbformat_minor": 0
}
