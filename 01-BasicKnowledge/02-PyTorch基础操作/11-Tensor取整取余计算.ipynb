{
 "cells": [
  {
   "cell_type": "markdown",
   "source": [
    "/ .floor() 向下取整数\n",
    "/ .ceil() 向上取整数\n",
    "/ .round() 四舍五入 > ： 0 · 5 向上取整 ， < 0 · 5 向下取整\n",
    "/ .trunc() 裁剪 ， 只取整数部分\n",
    "/ .frac() 只取小数部分\n",
    "/ ％ 取余"
   ],
   "metadata": {
    "collapsed": false
   }
  },
  {
   "cell_type": "code",
   "execution_count": 2,
   "outputs": [],
   "source": [
    "import torch"
   ],
   "metadata": {
    "collapsed": false,
    "ExecuteTime": {
     "end_time": "2023-06-15T05:15:59.472768600Z",
     "start_time": "2023-06-15T05:15:57.929196100Z"
    }
   }
  },
  {
   "cell_type": "code",
   "execution_count": 4,
   "metadata": {
    "collapsed": true,
    "ExecuteTime": {
     "end_time": "2023-06-15T05:17:14.641378800Z",
     "start_time": "2023-06-15T05:17:14.633813100Z"
    }
   },
   "outputs": [
    {
     "data": {
      "text/plain": "tensor([[0.9221, 6.3668, 5.5329, 3.2131, 6.2256],\n        [1.3706, 6.7182, 8.1761, 4.5896, 6.4551]])"
     },
     "execution_count": 4,
     "metadata": {},
     "output_type": "execute_result"
    }
   ],
   "source": [
    "a = torch.rand(10).view(2, 5) * 10\n",
    "a"
   ]
  },
  {
   "cell_type": "code",
   "execution_count": 5,
   "outputs": [
    {
     "data": {
      "text/plain": "tensor([[0., 6., 5., 3., 6.],\n        [1., 6., 8., 4., 6.]])"
     },
     "execution_count": 5,
     "metadata": {},
     "output_type": "execute_result"
    }
   ],
   "source": [
    "# 向下取整\n",
    "torch.floor(a)"
   ],
   "metadata": {
    "collapsed": false,
    "ExecuteTime": {
     "end_time": "2023-06-15T05:17:28.902581800Z",
     "start_time": "2023-06-15T05:17:28.873238800Z"
    }
   }
  },
  {
   "cell_type": "code",
   "execution_count": 6,
   "outputs": [
    {
     "data": {
      "text/plain": "tensor([[1., 7., 6., 4., 7.],\n        [2., 7., 9., 5., 7.]])"
     },
     "execution_count": 6,
     "metadata": {},
     "output_type": "execute_result"
    }
   ],
   "source": [
    "# 向上取整\n",
    "torch.ceil(a)"
   ],
   "metadata": {
    "collapsed": false,
    "ExecuteTime": {
     "end_time": "2023-06-15T06:22:12.909843700Z",
     "start_time": "2023-06-15T06:22:12.905331100Z"
    }
   }
  },
  {
   "cell_type": "code",
   "execution_count": 8,
   "outputs": [
    {
     "data": {
      "text/plain": "tensor([[1., 6., 6., 3., 6.],\n        [1., 7., 8., 5., 6.]])"
     },
     "execution_count": 8,
     "metadata": {},
     "output_type": "execute_result"
    }
   ],
   "source": [
    "# 四舍五入\n",
    "torch.round(a)"
   ],
   "metadata": {
    "collapsed": false,
    "ExecuteTime": {
     "end_time": "2023-06-15T06:25:36.403438900Z",
     "start_time": "2023-06-15T06:25:36.396296200Z"
    }
   }
  },
  {
   "cell_type": "code",
   "execution_count": 10,
   "outputs": [
    {
     "data": {
      "text/plain": "tensor([[0., 6., 5., 3., 6.],\n        [1., 6., 8., 4., 6.]])"
     },
     "execution_count": 10,
     "metadata": {},
     "output_type": "execute_result"
    }
   ],
   "source": [
    "# 取整数部分\n",
    "torch.trunc(a)"
   ],
   "metadata": {
    "collapsed": false,
    "ExecuteTime": {
     "end_time": "2023-06-15T06:26:04.731413500Z",
     "start_time": "2023-06-15T06:26:04.722253700Z"
    }
   }
  },
  {
   "cell_type": "code",
   "execution_count": 12,
   "outputs": [
    {
     "data": {
      "text/plain": "tensor([[0.9221, 0.3668, 0.5329, 0.2131, 0.2256],\n        [0.3706, 0.7182, 0.1761, 0.5896, 0.4551]])"
     },
     "execution_count": 12,
     "metadata": {},
     "output_type": "execute_result"
    }
   ],
   "source": [
    "# 取余数部分\n",
    "a % 1"
   ],
   "metadata": {
    "collapsed": false,
    "ExecuteTime": {
     "end_time": "2023-06-15T06:26:44.692416300Z",
     "start_time": "2023-06-15T06:26:44.665173400Z"
    }
   }
  },
  {
   "cell_type": "code",
   "execution_count": null,
   "outputs": [],
   "source": [],
   "metadata": {
    "collapsed": false
   }
  }
 ],
 "metadata": {
  "kernelspec": {
   "display_name": "Python 3",
   "language": "python",
   "name": "python3"
  },
  "language_info": {
   "codemirror_mode": {
    "name": "ipython",
    "version": 2
   },
   "file_extension": ".py",
   "mimetype": "text/x-python",
   "name": "python",
   "nbconvert_exporter": "python",
   "pygments_lexer": "ipython2",
   "version": "2.7.6"
  }
 },
 "nbformat": 4,
 "nbformat_minor": 0
}
