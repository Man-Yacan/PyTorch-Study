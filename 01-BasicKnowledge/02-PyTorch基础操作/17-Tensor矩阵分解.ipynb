{
 "cells": [
  {
   "cell_type": "markdown",
   "source": [
    "囗常见的矩阵分解\n",
    "口 LU 分解 ： 将矩阵 A 分解成 L （ 下三角 ） 矩阝轩日 U （ 上三角 ） 矩阵的乘积\n",
    "口 Q R 分解 ： 将原矩阵分解成一个正交矩阵 Q 和一个上三角矩阵 R 的乘积\n",
    "口 EVD 分解 ： 特征值分解\n",
    "口 SVD 分解 ： 奇异值分解"
   ],
   "metadata": {
    "collapsed": false
   }
  },
  {
   "cell_type": "code",
   "execution_count": null,
   "metadata": {
    "collapsed": true
   },
   "outputs": [],
   "source": []
  }
 ],
 "metadata": {
  "kernelspec": {
   "display_name": "Python 3",
   "language": "python",
   "name": "python3"
  },
  "language_info": {
   "codemirror_mode": {
    "name": "ipython",
    "version": 2
   },
   "file_extension": ".py",
   "mimetype": "text/x-python",
   "name": "python",
   "nbconvert_exporter": "python",
   "pygments_lexer": "ipython2",
   "version": "2.7.6"
  }
 },
 "nbformat": 4,
 "nbformat_minor": 0
}
