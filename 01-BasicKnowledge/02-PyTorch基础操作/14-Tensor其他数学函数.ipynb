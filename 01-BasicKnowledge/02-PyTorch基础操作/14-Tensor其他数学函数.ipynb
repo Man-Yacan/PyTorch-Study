{
 "cells": [
  {
   "cell_type": "markdown",
   "source": [
    "torch.abs()\n",
    "torch.erf()\n",
    "torch.erfinv()\n",
    "torch.sigmoid()\n",
    "torch.neg()\n",
    "torch.reciprocal()\n",
    "torch.rsqrt()\n",
    "torch.sign()\n",
    "torch 」 erp()\n",
    "torch.addcdiv()\n",
    "torch.addcmul()\n",
    "torch.cumprod()\n",
    "torch.cumsum()"
   ],
   "metadata": {
    "collapsed": false
   }
  },
  {
   "cell_type": "code",
   "execution_count": null,
   "metadata": {
    "collapsed": true
   },
   "outputs": [],
   "source": []
  }
 ],
 "metadata": {
  "kernelspec": {
   "display_name": "Python 3",
   "language": "python",
   "name": "python3"
  },
  "language_info": {
   "codemirror_mode": {
    "name": "ipython",
    "version": 2
   },
   "file_extension": ".py",
   "mimetype": "text/x-python",
   "name": "python",
   "nbconvert_exporter": "python",
   "pygments_lexer": "ipython2",
   "version": "2.7.6"
  }
 },
 "nbformat": 4,
 "nbformat_minor": 0
}
