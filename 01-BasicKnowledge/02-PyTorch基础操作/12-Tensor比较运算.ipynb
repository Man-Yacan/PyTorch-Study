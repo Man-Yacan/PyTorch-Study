{
 "cells": [
  {
   "cell_type": "markdown",
   "source": [
    "\n",
    "\n",
    "/ torch ge(input, other, out=None)\n",
    "# input>= other\n",
    "/ torch.gt(input, other, out=None)\n",
    "# input>other\n",
    "/ torch 」 e(input, other, out=None)\n",
    "# input=<other\n",
    "/ torch 」 t(inputl other, out=None)\n",
    "# input<other\n",
    "/ torch.ne(input, Other, out=None) # input ！ = other 不等于\n",
    "\n",
    "torch.sort(input, dim=None, descending=FaIse, out=None) # 对\n",
    "目标 input 进行排序\n",
    "torch.topk(inputl k, dim=Nonel largest=True, sorted=True,\n",
    "out=None) # 沿着指定维度返回最大 k 个数值及其索引值\n",
    "torch.kthvalue(input, k, dim=None, out=None)\n",
    "# 沿着指定维度返回第 k 个最小值及其索引值\n",
    "\n",
    "torch.isfinite(tensor) / torch.isinf(tensor) / torch.isnan(tensor)\n",
    "返回一个标记元素是否为 finite/inf/nan 的 mask 张量 。\n"
   ],
   "metadata": {
    "collapsed": false
   }
  },
  {
   "cell_type": "code",
   "execution_count": 1,
   "metadata": {
    "collapsed": true,
    "ExecuteTime": {
     "end_time": "2023-06-15T06:51:11.037496900Z",
     "start_time": "2023-06-15T06:51:09.367518400Z"
    }
   },
   "outputs": [],
   "source": [
    "import numpy as np\n",
    "import torch"
   ]
  },
  {
   "cell_type": "code",
   "execution_count": 4,
   "outputs": [
    {
     "data": {
      "text/plain": "tensor([[1., 2., 3.],\n        [4., 5., 6.],\n        [7., 8., 9.]])"
     },
     "execution_count": 4,
     "metadata": {},
     "output_type": "execute_result"
    }
   ],
   "source": [
    "a = torch.linspace(1, 9, 9).view(3, 3)\n",
    "a"
   ],
   "metadata": {
    "collapsed": false,
    "ExecuteTime": {
     "end_time": "2023-06-15T07:02:53.417639Z",
     "start_time": "2023-06-15T07:02:53.413638500Z"
    }
   }
  },
  {
   "cell_type": "code",
   "execution_count": 5,
   "outputs": [
    {
     "data": {
      "text/plain": "tensor([[5., 5., 5.],\n        [5., 5., 5.],\n        [5., 5., 5.]])"
     },
     "execution_count": 5,
     "metadata": {},
     "output_type": "execute_result"
    }
   ],
   "source": [
    "b = torch.ones_like(a) * 5\n",
    "b"
   ],
   "metadata": {
    "collapsed": false,
    "ExecuteTime": {
     "end_time": "2023-06-15T07:03:19.421521600Z",
     "start_time": "2023-06-15T07:03:19.406081500Z"
    }
   }
  },
  {
   "cell_type": "markdown",
   "source": [
    "## torch.eq()"
   ],
   "metadata": {
    "collapsed": false
   }
  },
  {
   "cell_type": "code",
   "execution_count": 6,
   "outputs": [
    {
     "data": {
      "text/plain": "tensor([[False, False, False],\n        [False,  True, False],\n        [False, False, False]])"
     },
     "execution_count": 6,
     "metadata": {},
     "output_type": "execute_result"
    }
   ],
   "source": [
    "# torch.eq(input, other, out=None) # 按成员进行等式操作，相同返回True\n",
    "torch.eq(a, b)"
   ],
   "metadata": {
    "collapsed": false,
    "ExecuteTime": {
     "end_time": "2023-06-15T07:08:39.878217300Z",
     "start_time": "2023-06-15T07:08:39.874600500Z"
    }
   }
  },
  {
   "cell_type": "markdown",
   "source": [],
   "metadata": {
    "collapsed": false
   }
  },
  {
   "cell_type": "markdown",
   "source": [
    "## torch.equal()"
   ],
   "metadata": {
    "collapsed": false
   }
  },
  {
   "cell_type": "code",
   "execution_count": 7,
   "outputs": [
    {
     "data": {
      "text/plain": "False"
     },
     "execution_count": 7,
     "metadata": {},
     "output_type": "execute_result"
    }
   ],
   "source": [
    "# torch.equal(tensor1, tensor2) # 如果tensor1和tensor2有相同的size和elements，则为true\n",
    "torch.equal(a, b)"
   ],
   "metadata": {
    "collapsed": false,
    "ExecuteTime": {
     "end_time": "2023-06-15T07:13:36.090721600Z",
     "start_time": "2023-06-15T07:13:36.071745600Z"
    }
   }
  },
  {
   "cell_type": "markdown",
   "source": [
    "## torch.ge()"
   ],
   "metadata": {
    "collapsed": false
   }
  },
  {
   "cell_type": "code",
   "execution_count": 10,
   "outputs": [
    {
     "data": {
      "text/plain": "tensor([[False, False, False],\n        [False,  True,  True],\n        [ True,  True,  True]])"
     },
     "execution_count": 10,
     "metadata": {},
     "output_type": "execute_result"
    }
   ],
   "source": [
    "# a大于等于b\n",
    "torch.ge(a, b)"
   ],
   "metadata": {
    "collapsed": false,
    "ExecuteTime": {
     "end_time": "2023-06-15T07:14:49.675758900Z",
     "start_time": "2023-06-15T07:14:49.651543900Z"
    }
   }
  },
  {
   "cell_type": "markdown",
   "source": [
    "## torch.gt()"
   ],
   "metadata": {
    "collapsed": false
   }
  },
  {
   "cell_type": "code",
   "execution_count": 11,
   "outputs": [
    {
     "data": {
      "text/plain": "tensor([[False, False, False],\n        [False, False,  True],\n        [ True,  True,  True]])"
     },
     "execution_count": 11,
     "metadata": {},
     "output_type": "execute_result"
    }
   ],
   "source": [
    "# a大于b\n",
    "torch.gt(a, b)"
   ],
   "metadata": {
    "collapsed": false,
    "ExecuteTime": {
     "end_time": "2023-06-15T07:15:08.387177700Z",
     "start_time": "2023-06-15T07:15:08.381180100Z"
    }
   }
  },
  {
   "cell_type": "markdown",
   "source": [
    "## torch.le()"
   ],
   "metadata": {
    "collapsed": false
   }
  },
  {
   "cell_type": "code",
   "execution_count": 13,
   "outputs": [
    {
     "data": {
      "text/plain": "tensor([[ True,  True,  True],\n        [ True,  True, False],\n        [False, False, False]])"
     },
     "execution_count": 13,
     "metadata": {},
     "output_type": "execute_result"
    }
   ],
   "source": [
    "# a小于等于b\n",
    "torch.le(a, b)"
   ],
   "metadata": {
    "collapsed": false,
    "ExecuteTime": {
     "end_time": "2023-06-15T07:15:58.287287Z",
     "start_time": "2023-06-15T07:15:58.255466200Z"
    }
   }
  },
  {
   "cell_type": "markdown",
   "source": [
    "## torch.lt()"
   ],
   "metadata": {
    "collapsed": false
   }
  },
  {
   "cell_type": "code",
   "execution_count": 15,
   "outputs": [
    {
     "data": {
      "text/plain": "tensor([[ True,  True,  True],\n        [ True, False, False],\n        [False, False, False]])"
     },
     "execution_count": 15,
     "metadata": {},
     "output_type": "execute_result"
    }
   ],
   "source": [
    "# a小于等于b\n",
    "torch.lt(a, b)"
   ],
   "metadata": {
    "collapsed": false,
    "ExecuteTime": {
     "end_time": "2023-06-15T07:16:32.309700100Z",
     "start_time": "2023-06-15T07:16:32.304700200Z"
    }
   }
  },
  {
   "cell_type": "markdown",
   "source": [
    "## torch.ne()"
   ],
   "metadata": {
    "collapsed": false
   }
  },
  {
   "cell_type": "code",
   "execution_count": 17,
   "outputs": [
    {
     "data": {
      "text/plain": "tensor([[ True,  True,  True],\n        [ True, False,  True],\n        [ True,  True,  True]])"
     },
     "execution_count": 17,
     "metadata": {},
     "output_type": "execute_result"
    }
   ],
   "source": [
    "# a中哪个元素不等于b\n",
    "torch.ne(a, b)"
   ],
   "metadata": {
    "collapsed": false,
    "ExecuteTime": {
     "end_time": "2023-06-15T07:25:56.172763400Z",
     "start_time": "2023-06-15T07:25:56.163641200Z"
    }
   }
  },
  {
   "cell_type": "markdown",
   "source": [
    "## torch.sort()"
   ],
   "metadata": {
    "collapsed": false
   }
  },
  {
   "cell_type": "code",
   "execution_count": 18,
   "outputs": [
    {
     "data": {
      "text/plain": "tensor([3, 7, 2, 8, 1, 5, 6, 0, 9, 4])"
     },
     "execution_count": 18,
     "metadata": {},
     "output_type": "execute_result"
    }
   ],
   "source": [
    "# 生成随机乱序序号\n",
    "c = torch.randperm(10)\n",
    "c"
   ],
   "metadata": {
    "collapsed": false,
    "ExecuteTime": {
     "end_time": "2023-06-15T07:27:45.446324700Z",
     "start_time": "2023-06-15T07:27:45.441315Z"
    }
   }
  },
  {
   "cell_type": "code",
   "execution_count": 20,
   "outputs": [
    {
     "data": {
      "text/plain": "torch.return_types.sort(\nvalues=tensor([0, 1, 2, 3, 4, 5, 6, 7, 8, 9]),\nindices=tensor([7, 4, 2, 0, 9, 5, 6, 1, 3, 8]))"
     },
     "execution_count": 20,
     "metadata": {},
     "output_type": "execute_result"
    }
   ],
   "source": [
    "# 对Tensor进行排序并返回排序索引\n",
    "torch.sort(c)"
   ],
   "metadata": {
    "collapsed": false,
    "ExecuteTime": {
     "end_time": "2023-06-15T07:28:33.947432100Z",
     "start_time": "2023-06-15T07:28:33.924733900Z"
    }
   }
  },
  {
   "cell_type": "code",
   "execution_count": 21,
   "outputs": [],
   "source": [
    "values, indices = torch.sort(c)"
   ],
   "metadata": {
    "collapsed": false,
    "ExecuteTime": {
     "end_time": "2023-06-15T07:29:00.640877900Z",
     "start_time": "2023-06-15T07:29:00.635362200Z"
    }
   }
  },
  {
   "cell_type": "code",
   "execution_count": 22,
   "outputs": [
    {
     "data": {
      "text/plain": "tensor([0, 1, 2, 3, 4, 5, 6, 7, 8, 9])"
     },
     "execution_count": 22,
     "metadata": {},
     "output_type": "execute_result"
    }
   ],
   "source": [
    "values"
   ],
   "metadata": {
    "collapsed": false,
    "ExecuteTime": {
     "end_time": "2023-06-15T07:29:03.246787100Z",
     "start_time": "2023-06-15T07:29:03.241279800Z"
    }
   }
  },
  {
   "cell_type": "code",
   "execution_count": 23,
   "outputs": [
    {
     "data": {
      "text/plain": "tensor([7, 4, 2, 0, 9, 5, 6, 1, 3, 8])"
     },
     "execution_count": 23,
     "metadata": {},
     "output_type": "execute_result"
    }
   ],
   "source": [
    "indices"
   ],
   "metadata": {
    "collapsed": false,
    "ExecuteTime": {
     "end_time": "2023-06-15T07:29:08.705973500Z",
     "start_time": "2023-06-15T07:29:08.700465100Z"
    }
   }
  },
  {
   "cell_type": "code",
   "execution_count": 25,
   "outputs": [
    {
     "data": {
      "text/plain": "torch.return_types.sort(\nvalues=tensor([9, 8, 7, 6, 5, 4, 3, 2, 1, 0]),\nindices=tensor([8, 3, 1, 6, 5, 9, 0, 2, 4, 7]))"
     },
     "execution_count": 25,
     "metadata": {},
     "output_type": "execute_result"
    }
   ],
   "source": [
    "torch.sort(c, descending=True)  # 降序"
   ],
   "metadata": {
    "collapsed": false,
    "ExecuteTime": {
     "end_time": "2023-06-15T07:29:24.352792400Z",
     "start_time": "2023-06-15T07:29:24.330588600Z"
    }
   }
  },
  {
   "cell_type": "code",
   "execution_count": 26,
   "outputs": [
    {
     "data": {
      "text/plain": "tensor([[1., 2., 3.],\n        [4., 5., 6.],\n        [7., 8., 9.]])"
     },
     "execution_count": 26,
     "metadata": {},
     "output_type": "execute_result"
    }
   ],
   "source": [
    "a"
   ],
   "metadata": {
    "collapsed": false,
    "ExecuteTime": {
     "end_time": "2023-06-15T07:30:01.179407300Z",
     "start_time": "2023-06-15T07:30:01.174036700Z"
    }
   }
  },
  {
   "cell_type": "code",
   "execution_count": 29,
   "outputs": [
    {
     "data": {
      "text/plain": "torch.return_types.sort(\nvalues=tensor([[3., 2., 1.],\n        [6., 5., 4.],\n        [9., 8., 7.]]),\nindices=tensor([[2, 1, 0],\n        [2, 1, 0],\n        [2, 1, 0]]))"
     },
     "execution_count": 29,
     "metadata": {},
     "output_type": "execute_result"
    }
   ],
   "source": [
    "torch.sort(a, dim=1, descending=True)  # 对某个维度排序"
   ],
   "metadata": {
    "collapsed": false,
    "ExecuteTime": {
     "end_time": "2023-06-15T08:51:26.807698Z",
     "start_time": "2023-06-15T08:51:26.802697800Z"
    }
   }
  },
  {
   "cell_type": "code",
   "execution_count": 31,
   "outputs": [
    {
     "data": {
      "text/plain": "torch.return_types.sort(\nvalues=tensor([[7., 8., 9.],\n        [4., 5., 6.],\n        [1., 2., 3.]]),\nindices=tensor([[2, 2, 2],\n        [1, 1, 1],\n        [0, 0, 0]]))"
     },
     "execution_count": 31,
     "metadata": {},
     "output_type": "execute_result"
    }
   ],
   "source": [
    "torch.sort(a, dim=0, descending=True)  # 对某个维度排序"
   ],
   "metadata": {
    "collapsed": false,
    "ExecuteTime": {
     "end_time": "2023-06-15T08:53:29.544523300Z",
     "start_time": "2023-06-15T08:53:29.483477400Z"
    }
   }
  },
  {
   "cell_type": "markdown",
   "source": [
    "## torch.topk()"
   ],
   "metadata": {
    "collapsed": false
   }
  },
  {
   "cell_type": "code",
   "execution_count": 40,
   "outputs": [
    {
     "data": {
      "text/plain": "torch.return_types.topk(\nvalues=tensor([[3.],\n        [6.],\n        [9.]]),\nindices=tensor([[2],\n        [2],\n        [2]]))"
     },
     "execution_count": 40,
     "metadata": {},
     "output_type": "execute_result"
    }
   ],
   "source": [
    "torch.topk(a, k=1)  # 返回0维中前k个最大的数，默认dim=1"
   ],
   "metadata": {
    "collapsed": false,
    "ExecuteTime": {
     "end_time": "2023-06-15T08:56:24.267704600Z",
     "start_time": "2023-06-15T08:56:24.256954300Z"
    }
   }
  },
  {
   "cell_type": "code",
   "execution_count": 41,
   "outputs": [
    {
     "data": {
      "text/plain": "torch.return_types.topk(\nvalues=tensor([[7., 8., 9.]]),\nindices=tensor([[2, 2, 2]]))"
     },
     "execution_count": 41,
     "metadata": {},
     "output_type": "execute_result"
    }
   ],
   "source": [
    "torch.topk(a, k=1, dim=0)"
   ],
   "metadata": {
    "collapsed": false,
    "ExecuteTime": {
     "end_time": "2023-06-15T08:56:24.408928400Z",
     "start_time": "2023-06-15T08:56:24.396617700Z"
    }
   }
  },
  {
   "cell_type": "markdown",
   "source": [
    "## torch.kthvalue()"
   ],
   "metadata": {
    "collapsed": false
   }
  },
  {
   "cell_type": "code",
   "execution_count": 44,
   "outputs": [
    {
     "data": {
      "text/plain": "torch.return_types.kthvalue(\nvalues=tensor([2., 5., 8.]),\nindices=tensor([1, 1, 1]))"
     },
     "execution_count": 44,
     "metadata": {},
     "output_type": "execute_result"
    }
   ],
   "source": [
    "torch.kthvalue(a, k=2)  # 返回某1维上排序后的第k个数字"
   ],
   "metadata": {
    "collapsed": false,
    "ExecuteTime": {
     "end_time": "2023-06-15T08:58:58.869380100Z",
     "start_time": "2023-06-15T08:58:58.803543Z"
    }
   }
  },
  {
   "cell_type": "code",
   "execution_count": 45,
   "outputs": [
    {
     "data": {
      "text/plain": "torch.return_types.kthvalue(\nvalues=tensor([4., 5., 6.]),\nindices=tensor([1, 1, 1]))"
     },
     "execution_count": 45,
     "metadata": {},
     "output_type": "execute_result"
    }
   ],
   "source": [
    "torch.kthvalue(a, k=2, dim=0)"
   ],
   "metadata": {
    "collapsed": false,
    "ExecuteTime": {
     "end_time": "2023-06-15T08:59:06.936788500Z",
     "start_time": "2023-06-15T08:59:06.915823900Z"
    }
   }
  },
  {
   "cell_type": "markdown",
   "source": [
    "## torch.isfinite()"
   ],
   "metadata": {
    "collapsed": false
   }
  },
  {
   "cell_type": "code",
   "execution_count": 46,
   "outputs": [
    {
     "data": {
      "text/plain": "tensor([[True, True, True],\n        [True, True, True],\n        [True, True, True]])"
     },
     "execution_count": 46,
     "metadata": {},
     "output_type": "execute_result"
    }
   ],
   "source": [
    "torch.isfinite(a)"
   ],
   "metadata": {
    "collapsed": false,
    "ExecuteTime": {
     "end_time": "2023-06-15T09:00:50.347352800Z",
     "start_time": "2023-06-15T09:00:50.340844500Z"
    }
   }
  },
  {
   "cell_type": "code",
   "execution_count": 47,
   "outputs": [
    {
     "data": {
      "text/plain": "tensor([[False, False, False],\n        [False, False, False],\n        [False, False, False]])"
     },
     "execution_count": 47,
     "metadata": {},
     "output_type": "execute_result"
    }
   ],
   "source": [
    "torch.isfinite(a/0)  # 是否有界"
   ],
   "metadata": {
    "collapsed": false,
    "ExecuteTime": {
     "end_time": "2023-06-15T09:00:54.048628100Z",
     "start_time": "2023-06-15T09:00:54.042627Z"
    }
   }
  },
  {
   "cell_type": "markdown",
   "source": [
    "## torch.isinf()"
   ],
   "metadata": {
    "collapsed": false
   }
  },
  {
   "cell_type": "code",
   "execution_count": 48,
   "outputs": [
    {
     "data": {
      "text/plain": "tensor([[False, False, False],\n        [False, False, False],\n        [False, False, False]])"
     },
     "execution_count": 48,
     "metadata": {},
     "output_type": "execute_result"
    }
   ],
   "source": [
    "torch.isinf(a)"
   ],
   "metadata": {
    "collapsed": false,
    "ExecuteTime": {
     "end_time": "2023-06-15T09:01:18.264578Z",
     "start_time": "2023-06-15T09:01:18.258044900Z"
    }
   }
  },
  {
   "cell_type": "code",
   "execution_count": 50,
   "outputs": [
    {
     "data": {
      "text/plain": "tensor([[True, True, True],\n        [True, True, True],\n        [True, True, True]])"
     },
     "execution_count": 50,
     "metadata": {},
     "output_type": "execute_result"
    }
   ],
   "source": [
    "torch.isinf(a/0)  # 是否无界"
   ],
   "metadata": {
    "collapsed": false,
    "ExecuteTime": {
     "end_time": "2023-06-15T09:02:04.844157100Z",
     "start_time": "2023-06-15T09:02:04.820468900Z"
    }
   }
  },
  {
   "cell_type": "markdown",
   "source": [
    "## torch.isnan()"
   ],
   "metadata": {
    "collapsed": false
   }
  },
  {
   "cell_type": "code",
   "execution_count": 51,
   "outputs": [
    {
     "data": {
      "text/plain": "tensor([[False, False, False],\n        [False, False, False],\n        [False, False, False]])"
     },
     "execution_count": 51,
     "metadata": {},
     "output_type": "execute_result"
    }
   ],
   "source": [
    "torch.isnan(a)"
   ],
   "metadata": {
    "collapsed": false,
    "ExecuteTime": {
     "end_time": "2023-06-15T09:02:27.374113700Z",
     "start_time": "2023-06-15T09:02:27.340428100Z"
    }
   }
  },
  {
   "cell_type": "code",
   "execution_count": 52,
   "outputs": [
    {
     "data": {
      "text/plain": "tensor([[False, False, False],\n        [False, False, False],\n        [False, False, False]])"
     },
     "execution_count": 52,
     "metadata": {},
     "output_type": "execute_result"
    }
   ],
   "source": [
    "torch.isnan(a)"
   ],
   "metadata": {
    "collapsed": false,
    "ExecuteTime": {
     "end_time": "2023-06-15T09:02:33.989731900Z",
     "start_time": "2023-06-15T09:02:33.970493900Z"
    }
   }
  },
  {
   "cell_type": "code",
   "execution_count": 55,
   "outputs": [
    {
     "data": {
      "text/plain": "tensor([[True, True, True],\n        [True, True, True],\n        [True, True, True]])"
     },
     "execution_count": 55,
     "metadata": {},
     "output_type": "execute_result"
    }
   ],
   "source": [
    "import numpy as np\n",
    "\n",
    "torch.isnan(a/np.nan)"
   ],
   "metadata": {
    "collapsed": false,
    "ExecuteTime": {
     "end_time": "2023-06-15T09:03:51.687363900Z",
     "start_time": "2023-06-15T09:03:51.672525200Z"
    }
   }
  },
  {
   "cell_type": "code",
   "execution_count": null,
   "outputs": [],
   "source": [],
   "metadata": {
    "collapsed": false
   }
  }
 ],
 "metadata": {
  "kernelspec": {
   "display_name": "Python 3",
   "language": "python",
   "name": "python3"
  },
  "language_info": {
   "codemirror_mode": {
    "name": "ipython",
    "version": 2
   },
   "file_extension": ".py",
   "mimetype": "text/x-python",
   "name": "python",
   "nbconvert_exporter": "python",
   "pygments_lexer": "ipython2",
   "version": "2.7.6"
  }
 },
 "nbformat": 4,
 "nbformat_minor": 0
}
