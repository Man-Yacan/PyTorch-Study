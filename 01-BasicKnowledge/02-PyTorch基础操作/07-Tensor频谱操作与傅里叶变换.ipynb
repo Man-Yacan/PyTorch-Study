{
 "cells": [
  {
   "cell_type": "markdown",
   "source": [
    "囗 torch.fft(input, signal ndim, normaIized=FaIse)\n",
    "囗 torch.ifft(input, signal ndim, normalized=FaIse)\n",
    "囗 torch.rfft(input, signal\n",
    "囗 torch.stft(signa,\n",
    "ndim, normalized\n",
    "=FaIse, onesided=True)\n",
    "囗 torch.irfft(input, signal ndim, normalized=False, onesided=True)\n",
    "fra me\n",
    "length, hop, · · · ）"
   ],
   "metadata": {
    "collapsed": false
   }
  },
  {
   "cell_type": "code",
   "execution_count": 2,
   "metadata": {
    "collapsed": true,
    "ExecuteTime": {
     "end_time": "2023-06-14T14:33:01.434127500Z",
     "start_time": "2023-06-14T14:33:01.431618600Z"
    }
   },
   "outputs": [
    {
     "data": {
      "text/plain": "6"
     },
     "execution_count": 2,
     "metadata": {},
     "output_type": "execute_result"
    }
   ],
   "source": [
    "import torch\n",
    "\n",
    "torch.get_num_threads()"
   ]
  },
  {
   "cell_type": "code",
   "execution_count": 4,
   "outputs": [],
   "source": [
    "import cv2"
   ],
   "metadata": {
    "collapsed": false,
    "ExecuteTime": {
     "end_time": "2023-06-14T14:35:32.240851300Z",
     "start_time": "2023-06-14T14:35:32.156314900Z"
    }
   }
  },
  {
   "cell_type": "code",
   "execution_count": null,
   "outputs": [],
   "source": [],
   "metadata": {
    "collapsed": false
   }
  }
 ],
 "metadata": {
  "kernelspec": {
   "display_name": "Python 3",
   "language": "python",
   "name": "python3"
  },
  "language_info": {
   "codemirror_mode": {
    "name": "ipython",
    "version": 2
   },
   "file_extension": ".py",
   "mimetype": "text/x-python",
   "name": "python",
   "nbconvert_exporter": "python",
   "pygments_lexer": "ipython2",
   "version": "2.7.6"
  }
 },
 "nbformat": 4,
 "nbformat_minor": 0
}
