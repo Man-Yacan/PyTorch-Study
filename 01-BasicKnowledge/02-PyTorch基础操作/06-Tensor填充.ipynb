{
 "cells": [
  {
   "cell_type": "markdown",
   "source": [
    "囗定义 Tensor, 并填充指定的数值\n",
    "》 torch.full((2, 3 ） ， 3 · 14 ）\n",
    "/ tensor()[ 3 · 14 ， 3 · 14 ， 3 · 14L [ 3 · 14 ， 3 · 14 ，\n",
    "3 · 14 ] ])"
   ],
   "metadata": {
    "collapsed": false
   }
  },
  {
   "cell_type": "code",
   "execution_count": 3,
   "outputs": [],
   "source": [
    "import torch"
   ],
   "metadata": {
    "collapsed": false,
    "ExecuteTime": {
     "end_time": "2023-06-14T14:01:26.196903800Z",
     "start_time": "2023-06-14T14:01:26.191218900Z"
    }
   }
  },
  {
   "cell_type": "code",
   "execution_count": 7,
   "metadata": {
    "collapsed": true,
    "ExecuteTime": {
     "end_time": "2023-06-14T14:02:02.993309400Z",
     "start_time": "2023-06-14T14:02:02.988151900Z"
    }
   },
   "outputs": [
    {
     "data": {
      "text/plain": "tensor([[10, 10, 10],\n        [10, 10, 10]])"
     },
     "execution_count": 7,
     "metadata": {},
     "output_type": "execute_result"
    }
   ],
   "source": [
    "a = torch.full((2, 3), 10)\n",
    "a"
   ]
  },
  {
   "cell_type": "code",
   "execution_count": 9,
   "outputs": [
    {
     "data": {
      "text/plain": "tensor([[10, 10, 10],\n        [10, 10, 10]])"
     },
     "execution_count": 9,
     "metadata": {},
     "output_type": "execute_result"
    }
   ],
   "source": [
    "torch.ones_like(a) * 10"
   ],
   "metadata": {
    "collapsed": false,
    "ExecuteTime": {
     "end_time": "2023-06-14T14:02:11.344767600Z",
     "start_time": "2023-06-14T14:02:11.278835400Z"
    }
   }
  }
 ],
 "metadata": {
  "kernelspec": {
   "display_name": "Python 3",
   "language": "python",
   "name": "python3"
  },
  "language_info": {
   "codemirror_mode": {
    "name": "ipython",
    "version": 2
   },
   "file_extension": ".py",
   "mimetype": "text/x-python",
   "name": "python",
   "nbconvert_exporter": "python",
   "pygments_lexer": "ipython2",
   "version": "2.7.6"
  }
 },
 "nbformat": 4,
 "nbformat_minor": 0
}
