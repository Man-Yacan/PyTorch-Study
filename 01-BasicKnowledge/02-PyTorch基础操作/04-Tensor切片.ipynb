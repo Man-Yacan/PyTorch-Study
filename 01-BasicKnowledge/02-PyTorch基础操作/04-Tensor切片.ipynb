{
 "cells": [
  {
   "cell_type": "markdown",
   "source": [
    "囗 torch.chunk(tensor, chunks, dim=0): 按照某个维度平均分块 （ 最\n",
    "后一个可能小于平均值 ）\n",
    "囗 torch.split(tensor, split size 0 r sections, dim=O) ： 按照某个维度\n",
    "依照第二个参数给出的 list 或者 i nt 进行分割 tensor"
   ],
   "metadata": {
    "collapsed": false
   }
  },
  {
   "cell_type": "code",
   "execution_count": 1,
   "metadata": {
    "collapsed": true,
    "ExecuteTime": {
     "end_time": "2023-06-14T12:31:07.458590200Z",
     "start_time": "2023-06-14T12:31:05.905515100Z"
    }
   },
   "outputs": [],
   "source": [
    "import torch"
   ]
  },
  {
   "cell_type": "code",
   "execution_count": 33,
   "outputs": [
    {
     "data": {
      "text/plain": "tensor([[ 1.,  2.,  3.,  4.,  5.,  6.,  7.,  8.],\n        [ 9., 10., 11., 12., 13., 14., 15., 16.]])"
     },
     "execution_count": 33,
     "metadata": {},
     "output_type": "execute_result"
    }
   ],
   "source": [
    "a = torch.linspace(1, 16, 16).view(-1, 8)\n",
    "a"
   ],
   "metadata": {
    "collapsed": false,
    "ExecuteTime": {
     "end_time": "2023-06-14T12:36:07.016939100Z",
     "start_time": "2023-06-14T12:36:06.994317900Z"
    }
   }
  },
  {
   "cell_type": "markdown",
   "source": [
    "## torch.chunk()"
   ],
   "metadata": {
    "collapsed": false
   }
  },
  {
   "cell_type": "code",
   "execution_count": 34,
   "outputs": [
    {
     "data": {
      "text/plain": "(tensor([[1., 2., 3., 4., 5., 6., 7., 8.]]),\n tensor([[ 9., 10., 11., 12., 13., 14., 15., 16.]]))"
     },
     "execution_count": 34,
     "metadata": {},
     "output_type": "execute_result"
    }
   ],
   "source": [
    "torch.chunk(a, 2)"
   ],
   "metadata": {
    "collapsed": false,
    "ExecuteTime": {
     "end_time": "2023-06-14T12:36:09.346762700Z",
     "start_time": "2023-06-14T12:36:09.338887400Z"
    }
   }
  },
  {
   "cell_type": "code",
   "execution_count": 37,
   "outputs": [
    {
     "data": {
      "text/plain": "(tensor([[ 1.,  2.],\n         [ 9., 10.]]),\n tensor([[ 3.,  4.],\n         [11., 12.]]),\n tensor([[ 5.,  6.],\n         [13., 14.]]),\n tensor([[ 7.,  8.],\n         [15., 16.]]))"
     },
     "execution_count": 37,
     "metadata": {},
     "output_type": "execute_result"
    }
   ],
   "source": [
    "torch.chunk(a, 4, dim=1)"
   ],
   "metadata": {
    "collapsed": false,
    "ExecuteTime": {
     "end_time": "2023-06-14T12:36:24.009518100Z",
     "start_time": "2023-06-14T12:36:23.999754200Z"
    }
   }
  },
  {
   "cell_type": "markdown",
   "source": [
    "## torch.split()"
   ],
   "metadata": {
    "collapsed": false
   }
  },
  {
   "cell_type": "code",
   "execution_count": 22,
   "outputs": [
    {
     "data": {
      "text/plain": "(tensor([[1., 2., 3., 4.],\n         [5., 6., 7., 8.]]),\n tensor([[ 9., 10., 11., 12.],\n         [13., 14., 15., 16.]]))"
     },
     "execution_count": 22,
     "metadata": {},
     "output_type": "execute_result"
    }
   ],
   "source": [
    "torch.split(a, 2)"
   ],
   "metadata": {
    "collapsed": false,
    "ExecuteTime": {
     "end_time": "2023-06-14T12:34:48.442569300Z",
     "start_time": "2023-06-14T12:34:48.439567500Z"
    }
   }
  },
  {
   "cell_type": "code",
   "execution_count": 39,
   "outputs": [
    {
     "data": {
      "text/plain": "(tensor([[ 1.,  2.,  3.,  4.],\n         [ 9., 10., 11., 12.]]),\n tensor([[ 5.,  6.,  7.,  8.],\n         [13., 14., 15., 16.]]))"
     },
     "execution_count": 39,
     "metadata": {},
     "output_type": "execute_result"
    }
   ],
   "source": [
    "torch.split(a, 4, dim=1)"
   ],
   "metadata": {
    "collapsed": false,
    "ExecuteTime": {
     "end_time": "2023-06-14T12:36:38.608893500Z",
     "start_time": "2023-06-14T12:36:38.605894100Z"
    }
   }
  },
  {
   "cell_type": "code",
   "execution_count": 40,
   "outputs": [],
   "source": [
    "# torch.chunk(a, 4, dim=1)中的“4”代表分为4份，torch.split(a, 4, dim=1)中的4代表每组有4个"
   ],
   "metadata": {
    "collapsed": false,
    "ExecuteTime": {
     "end_time": "2023-06-14T12:37:14.087064800Z",
     "start_time": "2023-06-14T12:37:14.082064900Z"
    }
   }
  },
  {
   "cell_type": "code",
   "execution_count": null,
   "outputs": [],
   "source": [],
   "metadata": {
    "collapsed": false
   }
  }
 ],
 "metadata": {
  "kernelspec": {
   "display_name": "Python 3",
   "language": "python",
   "name": "python3"
  },
  "language_info": {
   "codemirror_mode": {
    "name": "ipython",
    "version": 2
   },
   "file_extension": ".py",
   "mimetype": "text/x-python",
   "name": "python",
   "nbconvert_exporter": "python",
   "pygments_lexer": "ipython2",
   "version": "2.7.6"
  }
 },
 "nbformat": 4,
 "nbformat_minor": 0
}
