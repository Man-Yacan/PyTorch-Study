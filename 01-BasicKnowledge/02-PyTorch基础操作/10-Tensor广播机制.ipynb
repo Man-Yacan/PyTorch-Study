{
 "cells": [
  {
   "cell_type": "markdown",
   "source": [
    "可广播的一对张量需满足以下规则：\n",
    "每个张量至少有一个维度。\n",
    "迭代维度尺寸时，从尾部的维度开始，维度尺寸\n",
    "​ 或者相等，\n",
    "​ 或者其中一个张量的维度尺寸为 1 ，\n",
    "​ 或者其中一个张量不存在这个维度。"
   ],
   "metadata": {
    "collapsed": false
   }
  },
  {
   "cell_type": "code",
   "execution_count": 1,
   "outputs": [],
   "source": [
    "import torch"
   ],
   "metadata": {
    "collapsed": false,
    "ExecuteTime": {
     "end_time": "2023-06-15T05:12:58.551342200Z",
     "start_time": "2023-06-15T05:12:54.359604900Z"
    }
   }
  },
  {
   "cell_type": "code",
   "execution_count": 15,
   "metadata": {
    "collapsed": true,
    "ExecuteTime": {
     "end_time": "2023-06-15T05:15:01.408127100Z",
     "start_time": "2023-06-15T05:15:01.385186400Z"
    }
   },
   "outputs": [
    {
     "data": {
      "text/plain": "(tensor([[[2., 2., 2.],\n          [2., 2., 2.],\n          [2., 2., 2.],\n          [2., 2., 2.],\n          [2., 2., 2.],\n          [2., 2., 2.],\n          [2., 2., 2.]],\n \n         [[2., 2., 2.],\n          [2., 2., 2.],\n          [2., 2., 2.],\n          [2., 2., 2.],\n          [2., 2., 2.],\n          [2., 2., 2.],\n          [2., 2., 2.]],\n \n         [[2., 2., 2.],\n          [2., 2., 2.],\n          [2., 2., 2.],\n          [2., 2., 2.],\n          [2., 2., 2.],\n          [2., 2., 2.],\n          [2., 2., 2.]],\n \n         [[2., 2., 2.],\n          [2., 2., 2.],\n          [2., 2., 2.],\n          [2., 2., 2.],\n          [2., 2., 2.],\n          [2., 2., 2.],\n          [2., 2., 2.]],\n \n         [[2., 2., 2.],\n          [2., 2., 2.],\n          [2., 2., 2.],\n          [2., 2., 2.],\n          [2., 2., 2.],\n          [2., 2., 2.],\n          [2., 2., 2.]]]),\n torch.Size([5, 7, 3]))"
     },
     "execution_count": 15,
     "metadata": {},
     "output_type": "execute_result"
    }
   ],
   "source": [
    "# 相同维度，一定可以 broadcasting\n",
    "x=torch.ones(5,7,3)\n",
    "y=torch.ones(5,7,3)\n",
    "x+y, (x+y).shape"
   ]
  },
  {
   "cell_type": "code",
   "execution_count": 6,
   "outputs": [
    {
     "ename": "RuntimeError",
     "evalue": "The size of tensor a (0) must match the size of tensor b (7) at non-singleton dimension 1",
     "output_type": "error",
     "traceback": [
      "\u001B[1;31m---------------------------------------------------------------------------\u001B[0m",
      "\u001B[1;31mRuntimeError\u001B[0m                              Traceback (most recent call last)",
      "Cell \u001B[1;32mIn[6], line 4\u001B[0m\n\u001B[0;32m      2\u001B[0m x\u001B[38;5;241m=\u001B[39mtorch\u001B[38;5;241m.\u001B[39mones(\u001B[38;5;241m0\u001B[39m)\n\u001B[0;32m      3\u001B[0m y\u001B[38;5;241m=\u001B[39mtorch\u001B[38;5;241m.\u001B[39mones(\u001B[38;5;241m5\u001B[39m,\u001B[38;5;241m7\u001B[39m)\n\u001B[1;32m----> 4\u001B[0m \u001B[43mx\u001B[49m\u001B[38;5;241;43m+\u001B[39;49m\u001B[43my\u001B[49m\n",
      "\u001B[1;31mRuntimeError\u001B[0m: The size of tensor a (0) must match the size of tensor b (7) at non-singleton dimension 1"
     ]
    }
   ],
   "source": [
    "# x和y不能被广播,因为x没有符合“至少有一个维度”，所以不可以broadcasting\n",
    "x=torch.ones(0)\n",
    "y=torch.ones(5,7)\n",
    "x+y"
   ],
   "metadata": {
    "collapsed": false,
    "ExecuteTime": {
     "end_time": "2023-06-15T05:13:32.190741200Z",
     "start_time": "2023-06-15T05:13:32.179026200Z"
    }
   }
  },
  {
   "cell_type": "code",
   "execution_count": 14,
   "outputs": [
    {
     "data": {
      "text/plain": "(tensor([[[[2.],\n           [2.],\n           [2.],\n           [2.]],\n \n          [[2.],\n           [2.],\n           [2.],\n           [2.]],\n \n          [[2.],\n           [2.],\n           [2.],\n           [2.]]],\n \n \n         [[[2.],\n           [2.],\n           [2.],\n           [2.]],\n \n          [[2.],\n           [2.],\n           [2.],\n           [2.]],\n \n          [[2.],\n           [2.],\n           [2.],\n           [2.]]],\n \n \n         [[[2.],\n           [2.],\n           [2.],\n           [2.]],\n \n          [[2.],\n           [2.],\n           [2.],\n           [2.]],\n \n          [[2.],\n           [2.],\n           [2.],\n           [2.]]],\n \n \n         [[[2.],\n           [2.],\n           [2.],\n           [2.]],\n \n          [[2.],\n           [2.],\n           [2.],\n           [2.]],\n \n          [[2.],\n           [2.],\n           [2.],\n           [2.]]],\n \n \n         [[[2.],\n           [2.],\n           [2.],\n           [2.]],\n \n          [[2.],\n           [2.],\n           [2.],\n           [2.]],\n \n          [[2.],\n           [2.],\n           [2.],\n           [2.]]]]),\n torch.Size([5, 3, 4, 1]))"
     },
     "execution_count": 14,
     "metadata": {},
     "output_type": "execute_result"
    }
   ],
   "source": [
    "# x 和 y 可以广播\n",
    "x=torch.ones(5,3,4,1)\n",
    "y=torch.ones(  3,1,1)\n",
    "# 从尾部维度开始遍历\n",
    "# 1st尾部维度: x和y相同，都为1。\n",
    "# 2nd尾部维度: y为1，x为4,符合维度不等且其中一个维度为1，则广播为4。\n",
    "# 3rd尾部维度: x和y相同，都为3。\n",
    "# 4th尾部维度: y维度不存在，x为5,符合维度不等且其中一个维度不存在，则广播为5。\n",
    "x+y, (x+y).shape"
   ],
   "metadata": {
    "collapsed": false,
    "ExecuteTime": {
     "end_time": "2023-06-15T05:14:53.976682600Z",
     "start_time": "2023-06-15T05:14:53.913658100Z"
    }
   }
  },
  {
   "cell_type": "code",
   "execution_count": 11,
   "outputs": [
    {
     "ename": "RuntimeError",
     "evalue": "The size of tensor a (2) must match the size of tensor b (3) at non-singleton dimension 1",
     "output_type": "error",
     "traceback": [
      "\u001B[1;31m---------------------------------------------------------------------------\u001B[0m",
      "\u001B[1;31mRuntimeError\u001B[0m                              Traceback (most recent call last)",
      "Cell \u001B[1;32mIn[11], line 4\u001B[0m\n\u001B[0;32m      2\u001B[0m x\u001B[38;5;241m=\u001B[39mtorch\u001B[38;5;241m.\u001B[39mones(\u001B[38;5;241m5\u001B[39m,\u001B[38;5;241m2\u001B[39m,\u001B[38;5;241m4\u001B[39m,\u001B[38;5;241m1\u001B[39m)\n\u001B[0;32m      3\u001B[0m y\u001B[38;5;241m=\u001B[39mtorch\u001B[38;5;241m.\u001B[39mones(  \u001B[38;5;241m3\u001B[39m,\u001B[38;5;241m1\u001B[39m,\u001B[38;5;241m1\u001B[39m)\n\u001B[1;32m----> 4\u001B[0m \u001B[43mx\u001B[49m\u001B[38;5;241;43m+\u001B[39;49m\u001B[43my\u001B[49m\n",
      "\u001B[1;31mRuntimeError\u001B[0m: The size of tensor a (2) must match the size of tensor b (3) at non-singleton dimension 1"
     ]
    }
   ],
   "source": [
    "# x 和 y 不可以广播，因为3rd尾部维度x为2,y为3,不符合维度不等且其中一个维度为1。\n",
    "x=torch.ones(5,2,4,1)\n",
    "y=torch.ones(  3,1,1)\n",
    "x+y"
   ],
   "metadata": {
    "collapsed": false,
    "ExecuteTime": {
     "end_time": "2023-06-15T05:14:11.866484500Z",
     "start_time": "2023-06-15T05:14:11.862134100Z"
    }
   }
  },
  {
   "cell_type": "code",
   "execution_count": 13,
   "outputs": [
    {
     "data": {
      "text/plain": "(tensor([[[[2.],\n           [2.],\n           [2.],\n           [2.]],\n \n          [[2.],\n           [2.],\n           [2.],\n           [2.]]],\n \n \n         [[[2.],\n           [2.],\n           [2.],\n           [2.]],\n \n          [[2.],\n           [2.],\n           [2.],\n           [2.]]],\n \n \n         [[[2.],\n           [2.],\n           [2.],\n           [2.]],\n \n          [[2.],\n           [2.],\n           [2.],\n           [2.]]],\n \n \n         [[[2.],\n           [2.],\n           [2.],\n           [2.]],\n \n          [[2.],\n           [2.],\n           [2.],\n           [2.]]],\n \n \n         [[[2.],\n           [2.],\n           [2.],\n           [2.]],\n \n          [[2.],\n           [2.],\n           [2.],\n           [2.]]]]),\n torch.Size([5, 2, 4, 1]))"
     },
     "execution_count": 13,
     "metadata": {},
     "output_type": "execute_result"
    }
   ],
   "source": [
    "# x 和 y 可以广播，在维度较小y前面增加维度，使它们维度相等。\n",
    "x=torch.ones(5,2,4,1)\n",
    "y=torch.ones(1,1)\n",
    "x+y, (x+y).shape"
   ],
   "metadata": {
    "collapsed": false,
    "ExecuteTime": {
     "end_time": "2023-06-15T05:14:43.749132600Z",
     "start_time": "2023-06-15T05:14:43.726665100Z"
    }
   }
  },
  {
   "cell_type": "code",
   "execution_count": null,
   "outputs": [],
   "source": [],
   "metadata": {
    "collapsed": false
   }
  }
 ],
 "metadata": {
  "kernelspec": {
   "display_name": "Python 3",
   "language": "python",
   "name": "python3"
  },
  "language_info": {
   "codemirror_mode": {
    "name": "ipython",
    "version": 2
   },
   "file_extension": ".py",
   "mimetype": "text/x-python",
   "name": "python",
   "nbconvert_exporter": "python",
   "pygments_lexer": "ipython2",
   "version": "2.7.6"
  }
 },
 "nbformat": 4,
 "nbformat_minor": 0
}
