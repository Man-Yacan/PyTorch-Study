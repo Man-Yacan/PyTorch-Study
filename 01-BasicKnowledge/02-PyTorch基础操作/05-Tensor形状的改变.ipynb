{
 "cells": [
  {
   "cell_type": "markdown",
   "source": [
    "囗 torch.reshape(input, shape)\n",
    "囗 torch.t(input) ： 只针对 2 D tensor 转置\n",
    "囗 torch.transpose(input, dim0, diml): 交换两个维度\n",
    "囗 torch.squeeze(input, dim=None, out=None): 去除那些维度大小为 1 的\n",
    "维度\n",
    "囗 torch.unbind(tensor, dim=0): 去除某个维度\n",
    "囗 torch.unsqueeze(input, dim, out=None): 在指定位置添加维度\n",
    "囗 torch.flip(input, dims) ： 按照给定维度翻转张量\n",
    "囗 torch.rot90(inputl k, dims) ： 按照指定维度和旋转次数进行张量旋转"
   ],
   "metadata": {
    "collapsed": false
   }
  },
  {
   "cell_type": "code",
   "execution_count": 1,
   "outputs": [],
   "source": [
    "import torch"
   ],
   "metadata": {
    "collapsed": false,
    "ExecuteTime": {
     "end_time": "2023-06-14T12:42:12.441737300Z",
     "start_time": "2023-06-14T12:42:10.893166800Z"
    }
   }
  },
  {
   "cell_type": "markdown",
   "source": [
    "## tensor.reshape()"
   ],
   "metadata": {
    "collapsed": false
   }
  },
  {
   "cell_type": "code",
   "execution_count": 3,
   "metadata": {
    "collapsed": true,
    "ExecuteTime": {
     "end_time": "2023-06-14T12:42:37.608446700Z",
     "start_time": "2023-06-14T12:42:37.605894600Z"
    }
   },
   "outputs": [
    {
     "data": {
      "text/plain": "tensor([[0.9319, 0.4499, 0.2324],\n        [0.4293, 0.4684, 0.7465]])"
     },
     "execution_count": 3,
     "metadata": {},
     "output_type": "execute_result"
    }
   ],
   "source": [
    "a = torch.rand(2, 3)\n",
    "a"
   ]
  },
  {
   "cell_type": "code",
   "execution_count": 4,
   "outputs": [
    {
     "data": {
      "text/plain": "torch.Size([2, 3])"
     },
     "execution_count": 4,
     "metadata": {},
     "output_type": "execute_result"
    }
   ],
   "source": [
    "a.shape"
   ],
   "metadata": {
    "collapsed": false,
    "ExecuteTime": {
     "end_time": "2023-06-14T12:42:44.730362300Z",
     "start_time": "2023-06-14T12:42:44.728356600Z"
    }
   }
  },
  {
   "cell_type": "code",
   "execution_count": 6,
   "outputs": [
    {
     "data": {
      "text/plain": "tensor([[0.9319, 0.4499],\n        [0.2324, 0.4293],\n        [0.4684, 0.7465]])"
     },
     "execution_count": 6,
     "metadata": {},
     "output_type": "execute_result"
    }
   ],
   "source": [
    "torch.reshape(a, (-1, 2))"
   ],
   "metadata": {
    "collapsed": false,
    "ExecuteTime": {
     "end_time": "2023-06-14T12:43:23.100037800Z",
     "start_time": "2023-06-14T12:43:23.091044Z"
    }
   }
  },
  {
   "cell_type": "markdown",
   "source": [
    "## torch.t()"
   ],
   "metadata": {
    "collapsed": false
   }
  },
  {
   "cell_type": "code",
   "execution_count": 8,
   "outputs": [
    {
     "data": {
      "text/plain": "tensor([[0.9319, 0.4293],\n        [0.4499, 0.4684],\n        [0.2324, 0.7465]])"
     },
     "execution_count": 8,
     "metadata": {},
     "output_type": "execute_result"
    }
   ],
   "source": [
    "torch.t(a)"
   ],
   "metadata": {
    "collapsed": false,
    "ExecuteTime": {
     "end_time": "2023-06-14T12:43:52.360365600Z",
     "start_time": "2023-06-14T12:43:52.316666100Z"
    }
   }
  },
  {
   "cell_type": "markdown",
   "source": [
    "## torch.transpose()"
   ],
   "metadata": {
    "collapsed": false
   }
  },
  {
   "cell_type": "code",
   "execution_count": 10,
   "outputs": [
    {
     "data": {
      "text/plain": "tensor([[[0.3487, 0.0950, 0.6647, 0.3460],\n         [0.9369, 0.8972, 0.0972, 0.0224],\n         [0.9011, 0.7166, 0.5357, 0.1637]],\n\n        [[0.2214, 0.3386, 0.2626, 0.6853],\n         [0.6632, 0.3724, 0.8269, 0.8648],\n         [0.6579, 0.5012, 0.7649, 0.9994]]])"
     },
     "execution_count": 10,
     "metadata": {},
     "output_type": "execute_result"
    }
   ],
   "source": [
    "b = torch.rand(2, 3, 4)\n",
    "b"
   ],
   "metadata": {
    "collapsed": false,
    "ExecuteTime": {
     "end_time": "2023-06-14T12:45:30.129496400Z",
     "start_time": "2023-06-14T12:45:30.113807700Z"
    }
   }
  },
  {
   "cell_type": "code",
   "execution_count": 11,
   "outputs": [
    {
     "data": {
      "text/plain": "torch.Size([2, 3, 4])"
     },
     "execution_count": 11,
     "metadata": {},
     "output_type": "execute_result"
    }
   ],
   "source": [
    "b.shape"
   ],
   "metadata": {
    "collapsed": false,
    "ExecuteTime": {
     "end_time": "2023-06-14T12:45:35.937226500Z",
     "start_time": "2023-06-14T12:45:35.933226700Z"
    }
   }
  },
  {
   "cell_type": "code",
   "execution_count": 13,
   "outputs": [
    {
     "data": {
      "text/plain": "tensor([[[0.3487, 0.0950, 0.6647, 0.3460],\n         [0.2214, 0.3386, 0.2626, 0.6853]],\n\n        [[0.9369, 0.8972, 0.0972, 0.0224],\n         [0.6632, 0.3724, 0.8269, 0.8648]],\n\n        [[0.9011, 0.7166, 0.5357, 0.1637],\n         [0.6579, 0.5012, 0.7649, 0.9994]]])"
     },
     "execution_count": 13,
     "metadata": {},
     "output_type": "execute_result"
    }
   ],
   "source": [
    "torch.transpose(b, 0, 1)  # 交换第0、1维度"
   ],
   "metadata": {
    "collapsed": false,
    "ExecuteTime": {
     "end_time": "2023-06-14T12:46:03.653841100Z",
     "start_time": "2023-06-14T12:46:03.639314Z"
    }
   }
  },
  {
   "cell_type": "code",
   "execution_count": 15,
   "outputs": [
    {
     "data": {
      "text/plain": "torch.Size([3, 2, 4])"
     },
     "execution_count": 15,
     "metadata": {},
     "output_type": "execute_result"
    }
   ],
   "source": [
    "torch.transpose(b, 0, 1).shape"
   ],
   "metadata": {
    "collapsed": false,
    "ExecuteTime": {
     "end_time": "2023-06-14T12:48:02.224307700Z",
     "start_time": "2023-06-14T12:48:02.221308500Z"
    }
   }
  },
  {
   "cell_type": "markdown",
   "source": [
    "## torch.squeeze()"
   ],
   "metadata": {
    "collapsed": false
   }
  },
  {
   "cell_type": "code",
   "execution_count": 18,
   "outputs": [
    {
     "data": {
      "text/plain": "tensor([[[0.9330, 0.5412, 0.2054],\n         [0.5171, 0.4289, 0.2797]]])"
     },
     "execution_count": 18,
     "metadata": {},
     "output_type": "execute_result"
    }
   ],
   "source": [
    "c = torch.rand(1, 2, 3)\n",
    "c"
   ],
   "metadata": {
    "collapsed": false,
    "ExecuteTime": {
     "end_time": "2023-06-14T12:48:54.637788500Z",
     "start_time": "2023-06-14T12:48:54.632788800Z"
    }
   }
  },
  {
   "cell_type": "code",
   "execution_count": 19,
   "outputs": [
    {
     "data": {
      "text/plain": "tensor([[0.9330, 0.5412, 0.2054],\n        [0.5171, 0.4289, 0.2797]])"
     },
     "execution_count": 19,
     "metadata": {},
     "output_type": "execute_result"
    }
   ],
   "source": [
    "torch.squeeze(c)  # 去掉那些无用的维度（维数为1）"
   ],
   "metadata": {
    "collapsed": false,
    "ExecuteTime": {
     "end_time": "2023-06-14T12:49:20.409152900Z",
     "start_time": "2023-06-14T12:49:20.405152100Z"
    }
   }
  },
  {
   "cell_type": "markdown",
   "source": [
    "## torch.unsqueeze()"
   ],
   "metadata": {
    "collapsed": false
   }
  },
  {
   "cell_type": "code",
   "execution_count": 22,
   "outputs": [
    {
     "data": {
      "text/plain": "tensor([[[[0.9330, 0.5412, 0.2054],\n          [0.5171, 0.4289, 0.2797]]]])"
     },
     "execution_count": 22,
     "metadata": {},
     "output_type": "execute_result"
    }
   ],
   "source": [
    "torch.unsqueeze(c, 0)  # 加上一个无用维度"
   ],
   "metadata": {
    "collapsed": false,
    "ExecuteTime": {
     "end_time": "2023-06-14T12:51:04.760904200Z",
     "start_time": "2023-06-14T12:51:04.756906500Z"
    }
   }
  },
  {
   "cell_type": "markdown",
   "source": [
    "## torch.unbind()"
   ],
   "metadata": {
    "collapsed": false
   }
  },
  {
   "cell_type": "code",
   "execution_count": 27,
   "outputs": [
    {
     "data": {
      "text/plain": "(tensor([0.9319, 0.4293]), tensor([0.4499, 0.4684]), tensor([0.2324, 0.7465]))"
     },
     "execution_count": 27,
     "metadata": {},
     "output_type": "execute_result"
    }
   ],
   "source": [
    "torch.unbind(a, dim=1)  # 将某个维度拆成一个一个的"
   ],
   "metadata": {
    "collapsed": false,
    "ExecuteTime": {
     "end_time": "2023-06-14T12:51:58.540523700Z",
     "start_time": "2023-06-14T12:51:58.536523600Z"
    }
   }
  },
  {
   "cell_type": "markdown",
   "source": [
    "## torch.flip()"
   ],
   "metadata": {
    "collapsed": false
   }
  },
  {
   "cell_type": "code",
   "execution_count": 31,
   "outputs": [
    {
     "data": {
      "text/plain": "tensor([[0.9319, 0.4499, 0.2324],\n        [0.4293, 0.4684, 0.7465]])"
     },
     "execution_count": 31,
     "metadata": {},
     "output_type": "execute_result"
    }
   ],
   "source": [
    "a"
   ],
   "metadata": {
    "collapsed": false,
    "ExecuteTime": {
     "end_time": "2023-06-14T12:55:44.297640700Z",
     "start_time": "2023-06-14T12:55:44.294037200Z"
    }
   }
  },
  {
   "cell_type": "code",
   "execution_count": 32,
   "outputs": [
    {
     "data": {
      "text/plain": "tensor([[0.7465, 0.4684, 0.4293],\n        [0.2324, 0.4499, 0.9319]])"
     },
     "execution_count": 32,
     "metadata": {},
     "output_type": "execute_result"
    }
   ],
   "source": [
    "torch.flip(a, dims=(0,1))  # 翻转哪两个维度"
   ],
   "metadata": {
    "collapsed": false,
    "ExecuteTime": {
     "end_time": "2023-06-14T12:56:23.278856400Z",
     "start_time": "2023-06-14T12:56:23.273815400Z"
    }
   }
  },
  {
   "cell_type": "markdown",
   "source": [
    "## torch.rot90()"
   ],
   "metadata": {
    "collapsed": false
   }
  },
  {
   "cell_type": "code",
   "execution_count": 37,
   "outputs": [
    {
     "data": {
      "text/plain": "tensor([[0.2324, 0.7465],\n        [0.4499, 0.4684],\n        [0.9319, 0.4293]])"
     },
     "execution_count": 37,
     "metadata": {},
     "output_type": "execute_result"
    }
   ],
   "source": [
    "torch.rot90(a)  # 旋转矩阵"
   ],
   "metadata": {
    "collapsed": false,
    "ExecuteTime": {
     "end_time": "2023-06-14T12:58:57.205840400Z",
     "start_time": "2023-06-14T12:58:57.177047300Z"
    }
   }
  },
  {
   "cell_type": "code",
   "execution_count": 35,
   "outputs": [
    {
     "data": {
      "text/plain": "tensor([[0.7465, 0.4684, 0.4293],\n        [0.2324, 0.4499, 0.9319]])"
     },
     "execution_count": 35,
     "metadata": {},
     "output_type": "execute_result"
    }
   ],
   "source": [
    "torch.rot90(a, 2)"
   ],
   "metadata": {
    "collapsed": false,
    "ExecuteTime": {
     "end_time": "2023-06-14T12:58:33.192230700Z",
     "start_time": "2023-06-14T12:58:33.187218Z"
    }
   }
  },
  {
   "cell_type": "code",
   "execution_count": 36,
   "outputs": [
    {
     "data": {
      "text/plain": "tensor([[0.9319, 0.4499, 0.2324],\n        [0.4293, 0.4684, 0.7465]])"
     },
     "execution_count": 36,
     "metadata": {},
     "output_type": "execute_result"
    }
   ],
   "source": [
    "torch.rot90(a, 4)"
   ],
   "metadata": {
    "collapsed": false,
    "ExecuteTime": {
     "end_time": "2023-06-14T12:58:44.405162300Z",
     "start_time": "2023-06-14T12:58:44.400153200Z"
    }
   }
  },
  {
   "cell_type": "code",
   "execution_count": null,
   "outputs": [],
   "source": [],
   "metadata": {
    "collapsed": false
   }
  }
 ],
 "metadata": {
  "kernelspec": {
   "display_name": "Python 3",
   "language": "python",
   "name": "python3"
  },
  "language_info": {
   "codemirror_mode": {
    "name": "ipython",
    "version": 2
   },
   "file_extension": ".py",
   "mimetype": "text/x-python",
   "name": "python",
   "nbconvert_exporter": "python",
   "pygments_lexer": "ipython2",
   "version": "2.7.6"
  }
 },
 "nbformat": 4,
 "nbformat_minor": 0
}
