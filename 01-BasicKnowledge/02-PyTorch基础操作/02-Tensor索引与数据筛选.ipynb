{
 "cells": [
  {
   "cell_type": "code",
   "execution_count": 1,
   "metadata": {
    "collapsed": true,
    "ExecuteTime": {
     "end_time": "2023-06-14T04:55:59.918396400Z",
     "start_time": "2023-06-14T04:55:55.904990100Z"
    }
   },
   "outputs": [],
   "source": [
    "import torch"
   ]
  },
  {
   "cell_type": "markdown",
   "source": [
    "口 torch.where(condition, × ， y) ： 按照条件从 × 和 y 中选出满足条件的元素组成新的 te n s o r\n",
    "口 torch.gather(input, dim, index, out=None): 在指定维度上按照索引赋值输出 te nso r\n",
    "口 torch.index select(input, dim, index, out=None): 按照指定索引输出 tensor\n",
    "口 torch.masked select(input, mask, out=None): 按照 mask 输出 tensor, 输出为向量\n",
    "口 torch.take(input, indices): 将输入看成 1 D-tensor, 按照索引得到输出 tensor\n",
    "口 torch.nonzero(input, out=None): 输出非 0 元素的坐标"
   ],
   "metadata": {
    "collapsed": false
   }
  },
  {
   "cell_type": "markdown",
   "source": [
    "## torch.where()"
   ],
   "metadata": {
    "collapsed": false
   }
  },
  {
   "cell_type": "code",
   "execution_count": 9,
   "outputs": [
    {
     "data": {
      "text/plain": "tensor([[1, 2, 3],\n        [4, 5, 5],\n        [5, 5, 5]])"
     },
     "execution_count": 9,
     "metadata": {},
     "output_type": "execute_result"
    }
   ],
   "source": [
    "a = torch.arange(1, 10, 1).reshape(3, -1)\n",
    "b = torch.ones_like(a) * 5\n",
    "\n",
    "# 如果a<b，则输出a，否则输出b\n",
    "torch.where(a < b, a, b)"
   ],
   "metadata": {
    "collapsed": false,
    "ExecuteTime": {
     "end_time": "2023-06-14T05:03:01.185499700Z",
     "start_time": "2023-06-14T05:03:01.181500900Z"
    }
   }
  },
  {
   "cell_type": "markdown",
   "source": [
    "## torch.index_select()"
   ],
   "metadata": {
    "collapsed": false
   }
  },
  {
   "cell_type": "code",
   "execution_count": 11,
   "outputs": [
    {
     "data": {
      "text/plain": "tensor([[1, 2, 3],\n        [4, 5, 6],\n        [7, 8, 9]])"
     },
     "execution_count": 11,
     "metadata": {},
     "output_type": "execute_result"
    }
   ],
   "source": [
    "a"
   ],
   "metadata": {
    "collapsed": false,
    "ExecuteTime": {
     "end_time": "2023-06-14T05:06:41.229973400Z",
     "start_time": "2023-06-14T05:06:41.201193100Z"
    }
   }
  },
  {
   "cell_type": "code",
   "execution_count": 15,
   "outputs": [
    {
     "data": {
      "text/plain": "tensor([[1, 2, 3],\n        [7, 8, 9],\n        [4, 5, 6]])"
     },
     "execution_count": 15,
     "metadata": {},
     "output_type": "execute_result"
    }
   ],
   "source": [
    "# 在a的第0维上（按行划分），分别获取第0维上的0、2、1个元素\n",
    "torch.index_select(a, dim=0, index=torch.tensor([0, 2, 1]))"
   ],
   "metadata": {
    "collapsed": false,
    "ExecuteTime": {
     "end_time": "2023-06-14T05:08:22.415821Z",
     "start_time": "2023-06-14T05:08:22.410821400Z"
    }
   }
  },
  {
   "cell_type": "code",
   "execution_count": 17,
   "outputs": [
    {
     "data": {
      "text/plain": "tensor([[1, 3],\n        [4, 6],\n        [7, 9]])"
     },
     "execution_count": 17,
     "metadata": {},
     "output_type": "execute_result"
    }
   ],
   "source": [
    "# 在a的第1维上（按列划分），分别获取第0维上的0、2个元素\n",
    "torch.index_select(a, dim=1, index=torch.tensor([0, 2]))"
   ],
   "metadata": {
    "collapsed": false,
    "ExecuteTime": {
     "end_time": "2023-06-14T11:42:38.033962600Z",
     "start_time": "2023-06-14T11:42:38.015000500Z"
    }
   }
  },
  {
   "cell_type": "markdown",
   "source": [
    "## torch.gather()"
   ],
   "metadata": {
    "collapsed": false
   }
  },
  {
   "cell_type": "code",
   "execution_count": 26,
   "outputs": [
    {
     "data": {
      "text/plain": "tensor([[1, 5, 9],\n        [1, 8, 6]])"
     },
     "execution_count": 26,
     "metadata": {},
     "output_type": "execute_result"
    }
   ],
   "source": [
    "torch.gather(\n",
    "    a,\n",
    "    dim=0,\n",
    "    index=torch.tensor([\n",
    "        [0, 1, 2],\n",
    "        [0, 2, 1]\n",
    "    ])\n",
    ")"
   ],
   "metadata": {
    "collapsed": false,
    "ExecuteTime": {
     "end_time": "2023-06-14T11:47:32.042997200Z",
     "start_time": "2023-06-14T11:47:32.019012Z"
    }
   }
  },
  {
   "cell_type": "code",
   "execution_count": 27,
   "outputs": [
    {
     "data": {
      "text/plain": "tensor([[1, 2, 3],\n        [4, 6, 5]])"
     },
     "execution_count": 27,
     "metadata": {},
     "output_type": "execute_result"
    }
   ],
   "source": [
    "torch.gather(\n",
    "    a,\n",
    "    dim=1,\n",
    "    index=torch.tensor([\n",
    "        [0, 1, 2],\n",
    "        [0, 2, 1]\n",
    "    ])\n",
    ")\n",
    "# 有点难以理解，建议参考https://blog.csdn.net/guofei_fly/article/details/104184271"
   ],
   "metadata": {
    "collapsed": false,
    "ExecuteTime": {
     "end_time": "2023-06-14T12:06:19.627374600Z",
     "start_time": "2023-06-14T12:06:19.609988600Z"
    }
   }
  },
  {
   "cell_type": "markdown",
   "source": [
    "## torch.masked_select()"
   ],
   "metadata": {
    "collapsed": false
   }
  },
  {
   "cell_type": "code",
   "execution_count": 29,
   "outputs": [
    {
     "data": {
      "text/plain": "tensor([[False, False, False],\n        [False, False, False],\n        [ True,  True,  True]])"
     },
     "execution_count": 29,
     "metadata": {},
     "output_type": "execute_result"
    }
   ],
   "source": [
    "torch.gt(a, 6)"
   ],
   "metadata": {
    "collapsed": false,
    "ExecuteTime": {
     "end_time": "2023-06-14T12:07:56.515408100Z",
     "start_time": "2023-06-14T12:07:56.500901100Z"
    }
   }
  },
  {
   "cell_type": "code",
   "execution_count": 31,
   "outputs": [
    {
     "data": {
      "text/plain": "tensor([6, 7, 8, 9])"
     },
     "execution_count": 31,
     "metadata": {},
     "output_type": "execute_result"
    }
   ],
   "source": [
    "torch.masked_select(a, torch.gt(a, 5))"
   ],
   "metadata": {
    "collapsed": false,
    "ExecuteTime": {
     "end_time": "2023-06-14T12:08:32.551722600Z",
     "start_time": "2023-06-14T12:08:32.526433800Z"
    }
   }
  },
  {
   "cell_type": "markdown",
   "source": [
    "## torch.take()"
   ],
   "metadata": {
    "collapsed": false
   }
  },
  {
   "cell_type": "code",
   "execution_count": 32,
   "outputs": [
    {
     "data": {
      "text/plain": "tensor([9, 7, 4, 3, 2, 1])"
     },
     "execution_count": 32,
     "metadata": {},
     "output_type": "execute_result"
    }
   ],
   "source": [
    "torch.take(a, index=torch.tensor([8, 6, 3, 2, 1, 0]))"
   ],
   "metadata": {
    "collapsed": false,
    "ExecuteTime": {
     "end_time": "2023-06-14T12:09:41.022084400Z",
     "start_time": "2023-06-14T12:09:41.015999Z"
    }
   }
  },
  {
   "cell_type": "markdown",
   "source": [
    "## torch.nonzero()"
   ],
   "metadata": {
    "collapsed": false
   }
  },
  {
   "cell_type": "code",
   "execution_count": 35,
   "outputs": [
    {
     "data": {
      "text/plain": "tensor([[1., 0., 0.],\n        [0., 1., 0.],\n        [0., 0., 1.]])"
     },
     "execution_count": 35,
     "metadata": {},
     "output_type": "execute_result"
    }
   ],
   "source": [
    "b = torch.eye(3)\n",
    "b"
   ],
   "metadata": {
    "collapsed": false,
    "ExecuteTime": {
     "end_time": "2023-06-14T12:10:33.141465300Z",
     "start_time": "2023-06-14T12:10:33.092281200Z"
    }
   }
  },
  {
   "cell_type": "code",
   "execution_count": 36,
   "outputs": [
    {
     "data": {
      "text/plain": "tensor([[0, 0],\n        [1, 1],\n        [2, 2]])"
     },
     "execution_count": 36,
     "metadata": {},
     "output_type": "execute_result"
    }
   ],
   "source": [
    "torch.nonzero(b)"
   ],
   "metadata": {
    "collapsed": false,
    "ExecuteTime": {
     "end_time": "2023-06-14T12:10:44.535149900Z",
     "start_time": "2023-06-14T12:10:44.511378200Z"
    }
   }
  },
  {
   "cell_type": "code",
   "execution_count": null,
   "outputs": [],
   "source": [],
   "metadata": {
    "collapsed": false
   }
  }
 ],
 "metadata": {
  "kernelspec": {
   "display_name": "Python 3",
   "language": "python",
   "name": "python3"
  },
  "language_info": {
   "codemirror_mode": {
    "name": "ipython",
    "version": 2
   },
   "file_extension": ".py",
   "mimetype": "text/x-python",
   "name": "python",
   "nbconvert_exporter": "python",
   "pygments_lexer": "ipython2",
   "version": "2.7.6"
  }
 },
 "nbformat": 4,
 "nbformat_minor": 0
}
