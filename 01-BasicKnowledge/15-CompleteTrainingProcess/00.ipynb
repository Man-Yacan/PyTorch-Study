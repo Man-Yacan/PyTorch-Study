{
 "cells": [
  {
   "cell_type": "code",
   "execution_count": 1,
   "metadata": {
    "collapsed": true,
    "ExecuteTime": {
     "end_time": "2023-06-26T01:53:16.511851400Z",
     "start_time": "2023-06-26T01:53:09.989877900Z"
    }
   },
   "outputs": [],
   "source": [
    "import hues\n",
    "import torch\n",
    "import torchvision\n",
    "from torch.utils.data import DataLoader\n",
    "from torch.utils.tensorboard import SummaryWriter\n",
    "from torch.nn import Conv2d, MaxPool2d, Flatten, Linear, CrossEntropyLoss"
   ]
  },
  {
   "cell_type": "code",
   "execution_count": 2,
   "outputs": [],
   "source": [
    "DATA_DIR = '../05-Transforms/data/'"
   ],
   "metadata": {
    "collapsed": false,
    "ExecuteTime": {
     "end_time": "2023-06-26T01:53:16.517782300Z",
     "start_time": "2023-06-26T01:53:16.513913900Z"
    }
   }
  },
  {
   "cell_type": "code",
   "execution_count": 3,
   "outputs": [
    {
     "name": "stdout",
     "output_type": "stream",
     "text": [
      "Files already downloaded and verified\n",
      "Files already downloaded and verified\n"
     ]
    }
   ],
   "source": [
    "transformer = torchvision.transforms.Compose([\n",
    "    torchvision.transforms.ToTensor()\n",
    "])\n",
    "\n",
    "train_data = torchvision.datasets.CIFAR10(\n",
    "    root=DATA_DIR,\n",
    "    transform=transformer,\n",
    "    train=True,\n",
    "    download=True\n",
    ")\n",
    "\n",
    "test_data = torchvision.datasets.CIFAR10(\n",
    "    root=DATA_DIR,\n",
    "    transform=transformer,\n",
    "    train=False,\n",
    "    download=True\n",
    ")"
   ],
   "metadata": {
    "collapsed": false,
    "ExecuteTime": {
     "end_time": "2023-06-26T01:53:17.929249400Z",
     "start_time": "2023-06-26T01:53:16.518782200Z"
    }
   }
  },
  {
   "cell_type": "code",
   "execution_count": 4,
   "outputs": [
    {
     "data": {
      "text/plain": "(50000, 10000)"
     },
     "execution_count": 4,
     "metadata": {},
     "output_type": "execute_result"
    }
   ],
   "source": [
    "len(train_data), len(test_data)"
   ],
   "metadata": {
    "collapsed": false,
    "ExecuteTime": {
     "end_time": "2023-06-26T01:53:17.935942Z",
     "start_time": "2023-06-26T01:53:17.930804Z"
    }
   }
  },
  {
   "cell_type": "code",
   "execution_count": 5,
   "outputs": [],
   "source": [
    "train_loader = DataLoader(\n",
    "    dataset=train_data,\n",
    "    batch_size=64,\n",
    "    shuffle=True,\n",
    "    num_workers=2,\n",
    "    drop_last=True\n",
    ")\n",
    "\n",
    "test_loader = DataLoader(\n",
    "    dataset=test_data,\n",
    "    batch_size=64,\n",
    "    shuffle=True,\n",
    "    num_workers=2,\n",
    "    drop_last=True\n",
    ")"
   ],
   "metadata": {
    "collapsed": false,
    "ExecuteTime": {
     "end_time": "2023-06-26T01:53:18.059286100Z",
     "start_time": "2023-06-26T01:53:17.938098200Z"
    }
   }
  },
  {
   "cell_type": "markdown",
   "source": [
    "![](https://i.imgur.com/rCyvEOB.png)"
   ],
   "metadata": {
    "collapsed": false
   }
  },
  {
   "cell_type": "code",
   "execution_count": 6,
   "outputs": [],
   "source": [
    "# 搭建神经网络\n",
    "class MyModule(torch.nn.Module):\n",
    "    def __init__(self):\n",
    "        super(MyModule, self).__init__()\n",
    "\n",
    "        self.model = torch.nn.Sequential(\n",
    "            Conv2d(3, 32, 5, padding=2),  # Input: 3@32×32, Output: 32@32×32\n",
    "            MaxPool2d(2),  # Input: 32@32×32, Output: 32@16×16\n",
    "            Conv2d(32, 32, 5, padding=2),  # Input: 32@16×16, Output: 32@16×16\n",
    "            MaxPool2d(2),  # Input: 32@16×16, Output: 32@8×8\n",
    "            Conv2d(32, 64, 5, padding=2),  # Input: 32@8×8, Output: 64@8×8\n",
    "            MaxPool2d(2),  # Input: 64@8×8, Output: 64@4×4\n",
    "            Flatten(),  # Input: 64@4×4, Output: 1024\n",
    "            Linear(1024, 64),  # Input: 1024, Output: 64\n",
    "            Linear(64, 10)  # Input: 64, Output: 10\n",
    "        )\n",
    "\n",
    "    def forward(self, inputs):\n",
    "        outputs = self.model(inputs)\n",
    "        return outputs"
   ],
   "metadata": {
    "collapsed": false,
    "ExecuteTime": {
     "end_time": "2023-06-26T01:53:18.119079800Z",
     "start_time": "2023-06-26T01:53:18.060308600Z"
    }
   }
  },
  {
   "cell_type": "code",
   "execution_count": 7,
   "outputs": [
    {
     "name": "stdout",
     "output_type": "stream",
     "text": [
      "\u001B[35m09:53:18\u001B[0m - \u001B[36mINFO\u001B[0m - \u001B[39mGPU is available in this computer.\u001B[0m\n",
      "MyModule(\n",
      "  (model): Sequential(\n",
      "    (0): Conv2d(3, 32, kernel_size=(5, 5), stride=(1, 1), padding=(2, 2))\n",
      "    (1): MaxPool2d(kernel_size=2, stride=2, padding=0, dilation=1, ceil_mode=False)\n",
      "    (2): Conv2d(32, 32, kernel_size=(5, 5), stride=(1, 1), padding=(2, 2))\n",
      "    (3): MaxPool2d(kernel_size=2, stride=2, padding=0, dilation=1, ceil_mode=False)\n",
      "    (4): Conv2d(32, 64, kernel_size=(5, 5), stride=(1, 1), padding=(2, 2))\n",
      "    (5): MaxPool2d(kernel_size=2, stride=2, padding=0, dilation=1, ceil_mode=False)\n",
      "    (6): Flatten(start_dim=1, end_dim=-1)\n",
      "    (7): Linear(in_features=1024, out_features=64, bias=True)\n",
      "    (8): Linear(in_features=64, out_features=10, bias=True)\n",
      "  )\n",
      ")\n"
     ]
    }
   ],
   "source": [
    "# 创建网络模型\n",
    "module = MyModule()\n",
    "\n",
    "# 在GPU上训练模型\n",
    "if torch.cuda.is_available():\n",
    "    hues.info('GPU is available in this computer.')\n",
    "    module.cuda()\n",
    "\n",
    "# 第二种调用方式\n",
    "# device = torch.device('cuda' if torch.cuda.is_available() else 'cpu')\n",
    "# module.to(device)\n",
    "\n",
    "print(module)"
   ],
   "metadata": {
    "collapsed": false,
    "ExecuteTime": {
     "end_time": "2023-06-26T01:53:18.238393900Z",
     "start_time": "2023-06-26T01:53:18.120079Z"
    }
   }
  },
  {
   "cell_type": "code",
   "execution_count": 8,
   "outputs": [],
   "source": [
    "# 损失函数\n",
    "loss_fun = CrossEntropyLoss()\n",
    "if torch.cuda.is_available():\n",
    "    # 转移到GPU上\n",
    "    loss_fun.cuda()\n",
    "\n",
    "# 优化器\n",
    "learning_rate = 0.0001\n",
    "optimizer = torch.optim.SGD(module.parameters(), lr=learning_rate)\n",
    "\n",
    "# 使用tensorboard可视化网络结构\n",
    "writer = SummaryWriter('./logs')"
   ],
   "metadata": {
    "collapsed": false,
    "ExecuteTime": {
     "end_time": "2023-06-26T01:53:18.246817600Z",
     "start_time": "2023-06-26T01:53:18.240053400Z"
    }
   }
  },
  {
   "cell_type": "code",
   "execution_count": 9,
   "outputs": [
    {
     "name": "stdout",
     "output_type": "stream",
     "text": [
      "\u001B[35m09:53:35\u001B[0m - \u001B[36mINFO\u001B[0m - \u001B[39m第0轮的训练集累积Loss值为：1800.701171875，测试集累积Loss值为：359.6269226074219，测试集上的预测正确率为0.09879999607801437。\u001B[0m\n",
      "\u001B[35m09:53:49\u001B[0m - \u001B[36mINFO\u001B[0m - \u001B[39m第1轮的训练集累积Loss值为：1800.0496826171875，测试集累积Loss值为：359.4991149902344，测试集上的预测正确率为0.09829999506473541。\u001B[0m\n",
      "\u001B[35m09:54:03\u001B[0m - \u001B[36mINFO\u001B[0m - \u001B[39m第2轮的训练集累积Loss值为：1799.420654296875，测试集累积Loss值为：359.3764953613281，测试集上的预测正确率为0.09749999642372131。\u001B[0m\n",
      "\u001B[35m09:54:16\u001B[0m - \u001B[36mINFO\u001B[0m - \u001B[39m第3轮的训练集累积Loss值为：1798.8453369140625，测试集累积Loss值为：359.2574768066406，测试集上的预测正确率为0.09559999406337738。\u001B[0m\n",
      "\u001B[35m09:54:29\u001B[0m - \u001B[36mINFO\u001B[0m - \u001B[39m第4轮的训练集累积Loss值为：1798.277587890625，测试集累积Loss值为：359.1410217285156，测试集上的预测正确率为0.09369999915361404。\u001B[0m\n",
      "\u001B[35m09:54:42\u001B[0m - \u001B[36mINFO\u001B[0m - \u001B[39m第5轮的训练集累积Loss值为：1797.7236328125，测试集累积Loss值为：359.0340881347656，测试集上的预测正确率为0.09510000050067902。\u001B[0m\n",
      "\u001B[35m09:54:54\u001B[0m - \u001B[36mINFO\u001B[0m - \u001B[39m第6轮的训练集累积Loss值为：1797.168212890625，测试集累积Loss值为：358.9263000488281，测试集上的预测正确率为0.09839999675750732。\u001B[0m\n",
      "\u001B[35m09:55:07\u001B[0m - \u001B[36mINFO\u001B[0m - \u001B[39m第7轮的训练集累积Loss值为：1796.6322021484375，测试集累积Loss值为：358.8101806640625，测试集上的预测正确率为0.10269999504089355。\u001B[0m\n",
      "\u001B[35m09:55:19\u001B[0m - \u001B[36mINFO\u001B[0m - \u001B[39m第8轮的训练集累积Loss值为：1796.08349609375，测试集累积Loss值为：358.7056884765625，测试集上的预测正确率为0.10480000078678131。\u001B[0m\n",
      "\u001B[35m09:55:32\u001B[0m - \u001B[36mINFO\u001B[0m - \u001B[39m第9轮的训练集累积Loss值为：1795.5286865234375，测试集累积Loss值为：358.5902404785156，测试集上的预测正确率为0.10799999535083771。\u001B[0m\n",
      "\u001B[35m09:55:45\u001B[0m - \u001B[36mINFO\u001B[0m - \u001B[39m第10轮的训练集累积Loss值为：1794.9639892578125，测试集累积Loss值为：358.47381591796875，测试集上的预测正确率为0.11099999397993088。\u001B[0m\n",
      "\u001B[35m09:55:58\u001B[0m - \u001B[36mINFO\u001B[0m - \u001B[39m第11轮的训练集累积Loss值为：1794.3939208984375，测试集累积Loss值为：358.35687255859375，测试集上的预测正确率为0.11479999870061874。\u001B[0m\n",
      "\u001B[35m09:56:11\u001B[0m - \u001B[36mINFO\u001B[0m - \u001B[39m第12轮的训练集累积Loss值为：1793.8106689453125，测试集累积Loss值为：358.2406005859375，测试集上的预测正确率为0.12229999899864197。\u001B[0m\n",
      "\u001B[35m09:56:24\u001B[0m - \u001B[36mINFO\u001B[0m - \u001B[39m第13轮的训练集累积Loss值为：1793.2138671875，测试集累积Loss值为：358.120361328125，测试集上的预测正确率为0.13249999284744263。\u001B[0m\n",
      "\u001B[35m09:56:38\u001B[0m - \u001B[36mINFO\u001B[0m - \u001B[39m第14轮的训练集累积Loss值为：1792.6031494140625，测试集累积Loss值为：357.9928894042969，测试集上的预测正确率为0.1445000022649765。\u001B[0m\n",
      "\u001B[35m09:56:51\u001B[0m - \u001B[36mINFO\u001B[0m - \u001B[39m第15轮的训练集累积Loss值为：1791.97021484375，测试集累积Loss值为：357.8635559082031，测试集上的预测正确率为0.15729999542236328。\u001B[0m\n",
      "\u001B[35m09:57:04\u001B[0m - \u001B[36mINFO\u001B[0m - \u001B[39m第16轮的训练集累积Loss值为：1791.3199462890625，测试集累积Loss值为：357.7341613769531，测试集上的预测正确率为0.16459999978542328。\u001B[0m\n",
      "\u001B[35m09:57:19\u001B[0m - \u001B[36mINFO\u001B[0m - \u001B[39m第17轮的训练集累积Loss值为：1790.6513671875，测试集累积Loss值为：357.5906982421875，测试集上的预测正确率为0.17309999465942383。\u001B[0m\n",
      "\u001B[35m09:57:33\u001B[0m - \u001B[36mINFO\u001B[0m - \u001B[39m第18轮的训练集累积Loss值为：1789.958984375，测试集累积Loss值为：357.45538330078125，测试集上的预测正确率为0.17599999904632568。\u001B[0m\n",
      "\u001B[35m09:57:46\u001B[0m - \u001B[36mINFO\u001B[0m - \u001B[39m第19轮的训练集累积Loss值为：1789.2408447265625，测试集累积Loss值为：357.3116760253906，测试集上的预测正确率为0.1768999993801117。\u001B[0m\n",
      "\u001B[35m09:57:59\u001B[0m - \u001B[36mINFO\u001B[0m - \u001B[39m第20轮的训练集累积Loss值为：1788.50439453125，测试集累积Loss值为：357.1602783203125，测试集上的预测正确率为0.1744999885559082。\u001B[0m\n",
      "\u001B[35m09:58:13\u001B[0m - \u001B[36mINFO\u001B[0m - \u001B[39m第21轮的训练集累积Loss值为：1787.742431640625，测试集累积Loss值为：357.0021057128906，测试集上的预测正确率为0.16910000145435333。\u001B[0m\n",
      "\u001B[35m09:58:27\u001B[0m - \u001B[36mINFO\u001B[0m - \u001B[39m第22轮的训练集累积Loss值为：1786.9571533203125，测试集累积Loss值为：356.840576171875，测试集上的预测正确率为0.1614999920129776。\u001B[0m\n",
      "\u001B[35m09:58:40\u001B[0m - \u001B[36mINFO\u001B[0m - \u001B[39m第23轮的训练集累积Loss值为：1786.1376953125，测试集累积Loss值为：356.6729431152344，测试集上的预测正确率为0.156700000166893。\u001B[0m\n",
      "\u001B[35m09:58:54\u001B[0m - \u001B[36mINFO\u001B[0m - \u001B[39m第24轮的训练集累积Loss值为：1785.2891845703125，测试集累积Loss值为：356.5020751953125，测试集上的预测正确率为0.15150000154972076。\u001B[0m\n",
      "\u001B[35m09:59:07\u001B[0m - \u001B[36mINFO\u001B[0m - \u001B[39m第25轮的训练集累积Loss值为：1784.423828125，测试集累积Loss值为：356.33782958984375，测试集上的预测正确率为0.1467999964952469。\u001B[0m\n",
      "\u001B[35m09:59:20\u001B[0m - \u001B[36mINFO\u001B[0m - \u001B[39m第26轮的训练集累积Loss值为：1783.505126953125，测试集累积Loss值为：356.14251708984375，测试集上的预测正确率为0.14299999177455902。\u001B[0m\n",
      "\u001B[35m09:59:38\u001B[0m - \u001B[36mINFO\u001B[0m - \u001B[39m第27轮的训练集累积Loss值为：1782.548583984375，测试集累积Loss值为：355.9526672363281，测试集上的预测正确率为0.14010000228881836。\u001B[0m\n",
      "\u001B[35m09:59:57\u001B[0m - \u001B[36mINFO\u001B[0m - \u001B[39m第28轮的训练集累积Loss值为：1781.5697021484375，测试集累积Loss值为：355.7465515136719，测试集上的预测正确率为0.1379999965429306。\u001B[0m\n",
      "\u001B[35m10:00:16\u001B[0m - \u001B[36mINFO\u001B[0m - \u001B[39m第29轮的训练集累积Loss值为：1780.5130615234375，测试集累积Loss值为：355.5335693359375，测试集上的预测正确率为0.13729999959468842。\u001B[0m\n"
     ]
    }
   ],
   "source": [
    "for epoch in range(30):\n",
    "    epoch_train_loss = 0  # 对每一轮的loss进行累加，观察经过多轮学习后，loss是否有下降\n",
    "    epoch_test_loss = 0\n",
    "    pred_right_num = 0  # 测试集中预测正确的数量\n",
    "\n",
    "    # 对训练集的每一个批量数据进行训练\n",
    "    # module.train()  # 这一行代码可有可无，只针对特定模型需要设置，官方文档：https://blog.csdn.net/u014764291/article/details/105924182\n",
    "    for i, data in enumerate(train_loader):\n",
    "        imgs, targets = data\n",
    "\n",
    "        # 将数据转移到GPU\n",
    "        if torch.cuda.is_available():\n",
    "            imgs = imgs.cuda()\n",
    "            targets = targets.cuda()\n",
    "\n",
    "        outputs = module(imgs)\n",
    "        res_loss = loss_fun(outputs, targets)\n",
    "        optimizer.zero_grad()\n",
    "        res_loss.backward()\n",
    "        optimizer.step()\n",
    "        epoch_train_loss += res_loss\n",
    "        # if i % 100 == 0:\n",
    "        #     print(f'第{epoch}轮中的第{i}批数据训练Loss值为：{res_loss.item()}.')\n",
    "\n",
    "    # 检验当前模型在测试集上的效果\n",
    "    # module.eval()  # 参考module.train()\n",
    "    with torch.no_grad():  # 在测试集上检验效果，不需要进行梯度下降优化\n",
    "        for i, data in enumerate(test_loader):\n",
    "            imgs, targets = data\n",
    "\n",
    "            # 将数据转移到GPU\n",
    "            if torch.cuda.is_available():\n",
    "                imgs = imgs.cuda()\n",
    "                targets = targets.cuda()\n",
    "\n",
    "            outputs = module(imgs)\n",
    "            res_loss = loss_fun(outputs, targets)\n",
    "            epoch_test_loss += res_loss\n",
    "\n",
    "            item_train_num = epoch * len(data) + i + 1\n",
    "\n",
    "            pred_right_num += (outputs.argmax(1) == targets).sum()\n",
    "\n",
    "    writer.add_scalar('Train Loss', epoch_train_loss.item(), epoch)\n",
    "    writer.add_scalar('Test Loss', epoch_test_loss.item(), epoch)\n",
    "    writer.add_scalar('Accuracy on Test Dataset', pred_right_num / len(test_data), epoch)\n",
    "\n",
    "    torch.save(module, f'./module/module_{epoch}.pth')\n",
    "\n",
    "    hues.info(\n",
    "        f'第{epoch}轮的训练集累积Loss值为：{epoch_train_loss.item()}，测试集累积Loss值为：{epoch_test_loss.item()}，测试集上的预测正确率为{pred_right_num / len(test_data)}。')\n",
    "\n",
    "# tensorboard --logdir='logs'"
   ],
   "metadata": {
    "collapsed": false,
    "ExecuteTime": {
     "end_time": "2023-06-26T02:00:16.372950900Z",
     "start_time": "2023-06-26T01:53:18.251727100Z"
    }
   }
  },
  {
   "cell_type": "code",
   "execution_count": 7,
   "outputs": [
    {
     "name": "stdout",
     "output_type": "stream",
     "text": [
      "---------------------------------------------------------------------------------------------------- Epoch 1\n"
     ]
    }
   ],
   "source": [
    "print('-'*100, f'Epoch {1}')"
   ],
   "metadata": {
    "collapsed": false,
    "ExecuteTime": {
     "end_time": "2023-06-28T04:27:03.719173100Z",
     "start_time": "2023-06-28T04:27:03.711662800Z"
    }
   }
  }
 ],
 "metadata": {
  "kernelspec": {
   "display_name": "Python 3",
   "language": "python",
   "name": "python3"
  },
  "language_info": {
   "codemirror_mode": {
    "name": "ipython",
    "version": 2
   },
   "file_extension": ".py",
   "mimetype": "text/x-python",
   "name": "python",
   "nbconvert_exporter": "python",
   "pygments_lexer": "ipython2",
   "version": "2.7.6"
  }
 },
 "nbformat": 4,
 "nbformat_minor": 0
}
