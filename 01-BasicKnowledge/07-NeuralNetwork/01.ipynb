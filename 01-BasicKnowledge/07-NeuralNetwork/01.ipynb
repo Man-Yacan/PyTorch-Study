{
 "cells": [
  {
   "cell_type": "code",
   "execution_count": 19,
   "metadata": {
    "collapsed": true,
    "ExecuteTime": {
     "end_time": "2023-06-24T05:51:29.738023500Z",
     "start_time": "2023-06-24T05:51:29.735445600Z"
    }
   },
   "outputs": [],
   "source": [
    "import torch\n",
    "import torchvision"
   ]
  },
  {
   "cell_type": "code",
   "execution_count": 20,
   "outputs": [],
   "source": [
    "DATA_DIR = '../05-Transforms/data/'"
   ],
   "metadata": {
    "collapsed": false,
    "ExecuteTime": {
     "end_time": "2023-06-24T05:51:29.749574900Z",
     "start_time": "2023-06-24T05:51:29.739052400Z"
    }
   }
  },
  {
   "cell_type": "code",
   "execution_count": 21,
   "outputs": [
    {
     "name": "stdout",
     "output_type": "stream",
     "text": [
      "Files already downloaded and verified\n"
     ]
    }
   ],
   "source": [
    "transformer = torchvision.transforms.Compose([\n",
    "    torchvision.transforms.ToTensor()\n",
    "])\n",
    "\n",
    "test_data = torchvision.datasets.CIFAR10(\n",
    "    root=DATA_DIR,\n",
    "    transform=transformer,\n",
    "    train=False,\n",
    "    download=True\n",
    ")"
   ],
   "metadata": {
    "collapsed": false,
    "ExecuteTime": {
     "end_time": "2023-06-24T05:51:30.401952400Z",
     "start_time": "2023-06-24T05:51:29.750090200Z"
    }
   }
  },
  {
   "cell_type": "code",
   "execution_count": 22,
   "outputs": [],
   "source": [
    "test_loader = torch.utils.data.DataLoader(\n",
    "    dataset=test_data,\n",
    "    batch_size=64,\n",
    "    shuffle=True,\n",
    "    num_workers=4,\n",
    "    drop_last=False\n",
    ")"
   ],
   "metadata": {
    "collapsed": false,
    "ExecuteTime": {
     "end_time": "2023-06-24T05:51:30.407783400Z",
     "start_time": "2023-06-24T05:51:30.402465100Z"
    }
   }
  },
  {
   "cell_type": "code",
   "execution_count": 23,
   "outputs": [
    {
     "name": "stdout",
     "output_type": "stream",
     "text": [
      "MyModule(\n",
      "  (conv_00): Conv2d(3, 3, kernel_size=(3, 3), stride=(1, 1))\n",
      ")\n"
     ]
    }
   ],
   "source": [
    "class MyModule(torch.nn.Module):\n",
    "    def __init__(self):\n",
    "        super(MyModule, self).__init__()\n",
    "        self.conv_00 = torch.nn.Conv2d(\n",
    "            in_channels=3,  # 输入通道数（对于RGB图像来说就是3）\n",
    "            out_channels=3,  # 输出通道数\n",
    "            kernel_size=3,  # 卷积核大小为3×3\n",
    "            stride=1  # 卷积核步长为1\n",
    "        )\n",
    "\n",
    "    def forward(self, x):\n",
    "        x = self.conv_00(x)\n",
    "        return x\n",
    "\n",
    "\n",
    "module = MyModule()\n",
    "print(module)"
   ],
   "metadata": {
    "collapsed": false,
    "ExecuteTime": {
     "end_time": "2023-06-24T05:51:30.420620100Z",
     "start_time": "2023-06-24T05:51:30.409839200Z"
    }
   }
  },
  {
   "cell_type": "code",
   "execution_count": 24,
   "outputs": [],
   "source": [
    "from torch.utils.tensorboard import SummaryWriter\n",
    "\n",
    "writer = SummaryWriter('./logs')"
   ],
   "metadata": {
    "collapsed": false,
    "ExecuteTime": {
     "end_time": "2023-06-24T05:51:30.435288800Z",
     "start_time": "2023-06-24T05:51:30.421136300Z"
    }
   }
  },
  {
   "cell_type": "code",
   "execution_count": 25,
   "outputs": [],
   "source": [
    "for i, data in enumerate(test_loader):\n",
    "    imgs, targets = data\n",
    "    print(imgs.shape)\n",
    "    # 输入imgs的shape为[64, 3, 32, 32]（loader的batch_size=64，RGB三通道图像，图片尺寸为32×32），输出outputs的形状为[64, 6, 30, 30]（卷继层的out_channels=6，卷积核大小为3×3，图片尺寸经过一次卷积后形状变成了30×30）\n",
    "    outputs = module(imgs)\n",
    "    print(outputs.shape)\n",
    "\n",
    "    writer.add_images('Input', imgs, i)\n",
    "    writer.add_images('Output', torch.reshape(outputs, (-1, 3, 30, 30)), i)\n",
    "\n",
    "writer.close()\n",
    "# tensorboard --logdir='logs'"
   ],
   "metadata": {
    "collapsed": false,
    "ExecuteTime": {
     "end_time": "2023-06-24T05:51:51.368222800Z",
     "start_time": "2023-06-24T05:51:30.436444Z"
    }
   }
  }
 ],
 "metadata": {
  "kernelspec": {
   "display_name": "Python 3",
   "language": "python",
   "name": "python3"
  },
  "language_info": {
   "codemirror_mode": {
    "name": "ipython",
    "version": 2
   },
   "file_extension": ".py",
   "mimetype": "text/x-python",
   "name": "python",
   "nbconvert_exporter": "python",
   "pygments_lexer": "ipython2",
   "version": "2.7.6"
  }
 },
 "nbformat": 4,
 "nbformat_minor": 0
}
