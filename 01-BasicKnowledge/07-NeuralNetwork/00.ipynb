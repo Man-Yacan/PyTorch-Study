{
 "cells": [
  {
   "cell_type": "code",
   "execution_count": 1,
   "metadata": {
    "collapsed": true,
    "ExecuteTime": {
     "end_time": "2023-06-30T11:06:05.872046700Z",
     "start_time": "2023-06-30T11:06:01.003225900Z"
    }
   },
   "outputs": [],
   "source": [
    "import torch\n",
    "# nn: NeuralNetwork"
   ]
  },
  {
   "cell_type": "code",
   "execution_count": 2,
   "outputs": [
    {
     "data": {
      "text/plain": "tensor(2.)"
     },
     "execution_count": 2,
     "metadata": {},
     "output_type": "execute_result"
    }
   ],
   "source": [
    "class MyModule(torch.nn.Module):\n",
    "    def __init__(self):\n",
    "        \"\"\"\n",
    "        定义模型的初始化参数、方法\n",
    "        \"\"\"\n",
    "        super(MyModule, self).__init__()\n",
    "\n",
    "    def forward(self, input):\n",
    "        \"\"\"\n",
    "        向前传播\n",
    "        :param input:\n",
    "        :return:\n",
    "        \"\"\"\n",
    "        output = input + 1\n",
    "        return output\n",
    "\n",
    "\n",
    "demo = MyModule()\n",
    "x = torch.tensor(1.)\n",
    "demo(x)"
   ],
   "metadata": {
    "collapsed": false,
    "ExecuteTime": {
     "end_time": "2023-06-30T11:06:05.937273400Z",
     "start_time": "2023-06-30T11:06:05.862614700Z"
    }
   }
  },
  {
   "cell_type": "code",
   "execution_count": 17,
   "outputs": [
    {
     "data": {
      "text/plain": "tensor([[1, 2, 0, 3, 1],\n        [0, 1, 2, 3, 1],\n        [1, 2, 1, 0, 0],\n        [5, 2, 3, 1, 1],\n        [2, 1, 0, 1, 1]])"
     },
     "execution_count": 17,
     "metadata": {},
     "output_type": "execute_result"
    }
   ],
   "source": [
    "input = torch.tensor([\n",
    "    [1, 2, 0, 3, 1],\n",
    "    [0, 1, 2, 3, 1],\n",
    "    [1, 2, 1, 0, 0],\n",
    "    [5, 2, 3, 1, 1],\n",
    "    [2, 1, 0, 1, 1]\n",
    "])\n",
    "input"
   ],
   "metadata": {
    "collapsed": false,
    "ExecuteTime": {
     "end_time": "2023-06-30T11:40:58.273730400Z",
     "start_time": "2023-06-30T11:40:58.260414300Z"
    }
   }
  },
  {
   "cell_type": "code",
   "execution_count": 18,
   "outputs": [],
   "source": [
    "kernel = torch.tensor([\n",
    "    [1, 2, 1],\n",
    "    [0, 1, 0],\n",
    "    [2, 1, 0]\n",
    "])"
   ],
   "metadata": {
    "collapsed": false,
    "ExecuteTime": {
     "end_time": "2023-06-30T11:40:58.681551200Z",
     "start_time": "2023-06-30T11:40:58.671817Z"
    }
   }
  },
  {
   "cell_type": "code",
   "execution_count": 19,
   "outputs": [
    {
     "data": {
      "text/plain": "(torch.Size([5, 5]), torch.Size([3, 3]))"
     },
     "execution_count": 19,
     "metadata": {},
     "output_type": "execute_result"
    }
   ],
   "source": [
    "input.shape, kernel.shape"
   ],
   "metadata": {
    "collapsed": false,
    "ExecuteTime": {
     "end_time": "2023-06-30T11:41:00.090435800Z",
     "start_time": "2023-06-30T11:41:00.081192500Z"
    }
   }
  },
  {
   "cell_type": "code",
   "execution_count": 20,
   "outputs": [
    {
     "data": {
      "text/plain": "(torch.Size([1, 1, 5, 5]), torch.Size([1, 1, 3, 3]))"
     },
     "execution_count": 20,
     "metadata": {},
     "output_type": "execute_result"
    }
   ],
   "source": [
    "# 输入矩阵与卷积核的shape改造为符合卷积神经网络输入的格式\n",
    "# 官方文档将其定义为：input – input tensor of shape (minibatch, in_channels, iH,iW)\n",
    "# 想想也确实是这么个理，神经网络主要应用与图像处理，对于一个512×512大小的RGB三通道图片，其形状为3×512×512。如果使用DataLoader读取文件，batch_size=64，那么其输入矩阵形状为64×3×512×512\n",
    "input = torch.reshape(input, (-1, 1, 5, 5))\n",
    "kernel = torch.reshape(kernel, (-1, 1, 3, 3))\n",
    "input.shape, kernel.shape"
   ],
   "metadata": {
    "collapsed": false,
    "ExecuteTime": {
     "end_time": "2023-06-30T11:41:00.523418800Z",
     "start_time": "2023-06-30T11:41:00.498442600Z"
    }
   }
  },
  {
   "cell_type": "code",
   "execution_count": 7,
   "outputs": [
    {
     "data": {
      "text/plain": "tensor([[[[10, 12, 12],\n          [18, 16, 16],\n          [13,  9,  3]]]])"
     },
     "execution_count": 7,
     "metadata": {},
     "output_type": "execute_result"
    }
   ],
   "source": [
    "import torch.nn.functional as F\n",
    "\n",
    "F.conv2d(input, kernel)\n",
    "# 对于一个5×5的矩阵，卷积核步长设置为1，使用3×3的卷积核完成一次卷积后的结果是3×3；"
   ],
   "metadata": {
    "collapsed": false,
    "ExecuteTime": {
     "end_time": "2023-06-30T11:06:05.985211200Z",
     "start_time": "2023-06-30T11:06:05.960174300Z"
    }
   }
  },
  {
   "cell_type": "code",
   "execution_count": 15,
   "outputs": [
    {
     "data": {
      "text/plain": "tensor([[[[10, 12],\n          [13,  3]]]])"
     },
     "execution_count": 15,
     "metadata": {},
     "output_type": "execute_result"
    }
   ],
   "source": [
    "F.conv2d(input, kernel, stride=2)\n",
    "# 对于一个5×5的矩阵，卷积核步长stride设置为2，使用3×3的卷积核完成一次卷积后的结果是2×2."
   ],
   "metadata": {
    "collapsed": false,
    "ExecuteTime": {
     "end_time": "2023-06-30T11:40:21.690240700Z",
     "start_time": "2023-06-30T11:40:21.678209900Z"
    }
   }
  },
  {
   "cell_type": "code",
   "execution_count": 23,
   "outputs": [
    {
     "data": {
      "text/plain": "tensor([[[[7]]]])"
     },
     "execution_count": 23,
     "metadata": {},
     "output_type": "execute_result"
    }
   ],
   "source": [
    "F.conv2d(input, kernel, dilation=2)"
   ],
   "metadata": {
    "collapsed": false,
    "ExecuteTime": {
     "end_time": "2023-06-30T11:43:59.477487500Z",
     "start_time": "2023-06-30T11:43:59.467503Z"
    }
   }
  },
  {
   "cell_type": "code",
   "execution_count": 9,
   "outputs": [
    {
     "data": {
      "text/plain": "tensor([[[[ 1,  3,  4, 10,  8],\n          [ 5, 10, 12, 12,  6],\n          [ 7, 18, 16, 16,  8],\n          [11, 13,  9,  3,  4],\n          [14, 13,  9,  7,  4]]]])"
     },
     "execution_count": 9,
     "metadata": {},
     "output_type": "execute_result"
    }
   ],
   "source": [
    "# padding=1参数为输入矩阵的上下左右周围添加了一圈为0的值，输入矩阵变成了7×7，如下面的input_pad_1所示\n",
    "F.conv2d(input, kernel, padding=1)"
   ],
   "metadata": {
    "collapsed": false,
    "ExecuteTime": {
     "end_time": "2023-06-30T11:06:06.013015Z",
     "start_time": "2023-06-30T11:06:05.988219900Z"
    }
   }
  },
  {
   "cell_type": "code",
   "execution_count": 10,
   "outputs": [
    {
     "data": {
      "text/plain": "tensor([[0, 0, 0, 0, 0, 0, 0],\n        [0, 1, 2, 0, 3, 1, 0],\n        [0, 0, 1, 2, 3, 1, 0],\n        [0, 1, 2, 1, 0, 0, 0],\n        [0, 5, 2, 3, 1, 1, 0],\n        [0, 2, 1, 0, 1, 1, 0],\n        [0, 0, 0, 0, 0, 0, 0]])"
     },
     "execution_count": 10,
     "metadata": {},
     "output_type": "execute_result"
    }
   ],
   "source": [
    "input_pad_1 = torch.tensor([\n",
    "    [0 for i in range(7)],\n",
    "    [0, 1, 2, 0, 3, 1, 0],\n",
    "    [0, 0, 1, 2, 3, 1, 0],\n",
    "    [0, 1, 2, 1, 0, 0, 0],\n",
    "    [0, 5, 2, 3, 1, 1, 0],\n",
    "    [0, 2, 1, 0, 1, 1, 0],\n",
    "    [0 for i in range(7)]\n",
    "])\n",
    "input_pad_1"
   ],
   "metadata": {
    "collapsed": false,
    "ExecuteTime": {
     "end_time": "2023-06-30T11:06:06.014015600Z",
     "start_time": "2023-06-30T11:06:05.994245Z"
    }
   }
  },
  {
   "cell_type": "code",
   "execution_count": 11,
   "outputs": [
    {
     "data": {
      "text/plain": "tensor([[[[ 1,  3,  4, 10,  8],\n          [ 5, 10, 12, 12,  6],\n          [ 7, 18, 16, 16,  8],\n          [11, 13,  9,  3,  4],\n          [14, 13,  9,  7,  4]]]])"
     },
     "execution_count": 11,
     "metadata": {},
     "output_type": "execute_result"
    }
   ],
   "source": [
    "input_pad_1 = torch.reshape(input_pad_1, (-1, 1, 7, 7))\n",
    "F.conv2d(input_pad_1, kernel)\n",
    "# 可以看到这里的输出结果与F.conv2d(input, kernel, padding=1)是一模一样的"
   ],
   "metadata": {
    "collapsed": false,
    "ExecuteTime": {
     "end_time": "2023-06-30T11:06:06.076492100Z",
     "start_time": "2023-06-30T11:06:06.002178400Z"
    }
   }
  }
 ],
 "metadata": {
  "kernelspec": {
   "display_name": "Python 3",
   "language": "python",
   "name": "python3"
  },
  "language_info": {
   "codemirror_mode": {
    "name": "ipython",
    "version": 2
   },
   "file_extension": ".py",
   "mimetype": "text/x-python",
   "name": "python",
   "nbconvert_exporter": "python",
   "pygments_lexer": "ipython2",
   "version": "2.7.6"
  }
 },
 "nbformat": 4,
 "nbformat_minor": 0
}
