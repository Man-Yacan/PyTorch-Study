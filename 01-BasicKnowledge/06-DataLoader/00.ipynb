{
 "cells": [
  {
   "cell_type": "code",
   "execution_count": 37,
   "metadata": {
    "collapsed": true,
    "ExecuteTime": {
     "end_time": "2023-06-24T01:51:02.269529600Z",
     "start_time": "2023-06-24T01:51:02.243481Z"
    }
   },
   "outputs": [],
   "source": [
    "import torchvision\n",
    "from torch.utils.data import DataLoader\n",
    "from torch.utils.tensorboard import SummaryWriter"
   ]
  },
  {
   "cell_type": "code",
   "execution_count": 38,
   "outputs": [],
   "source": [
    "DATA_DIR = '../05-Transforms/data/'"
   ],
   "metadata": {
    "collapsed": false,
    "ExecuteTime": {
     "end_time": "2023-06-24T01:51:02.270037100Z",
     "start_time": "2023-06-24T01:51:02.248918400Z"
    }
   }
  },
  {
   "cell_type": "code",
   "execution_count": 39,
   "outputs": [
    {
     "name": "stdout",
     "output_type": "stream",
     "text": [
      "Files already downloaded and verified\n"
     ]
    }
   ],
   "source": [
    "transformer = torchvision.transforms.Compose([\n",
    "    torchvision.transforms.ToTensor()\n",
    "])\n",
    "\n",
    "test_data = torchvision.datasets.CIFAR10(\n",
    "    root=DATA_DIR,\n",
    "    transform=transformer,\n",
    "    train=False,\n",
    "    download=True\n",
    ")"
   ],
   "metadata": {
    "collapsed": false,
    "ExecuteTime": {
     "end_time": "2023-06-24T01:51:02.964630300Z",
     "start_time": "2023-06-24T01:51:02.252454800Z"
    }
   }
  },
  {
   "cell_type": "code",
   "execution_count": 40,
   "outputs": [],
   "source": [
    "test_loader = DataLoader(\n",
    "    dataset=test_data,\n",
    "    batch_size=64,\n",
    "    shuffle=True,\n",
    "    num_workers=0,\n",
    "    drop_last=False\n",
    ")"
   ],
   "metadata": {
    "collapsed": false,
    "ExecuteTime": {
     "end_time": "2023-06-24T01:51:02.970627800Z",
     "start_time": "2023-06-24T01:51:02.965630500Z"
    }
   }
  },
  {
   "cell_type": "code",
   "execution_count": 41,
   "outputs": [
    {
     "data": {
      "text/plain": "(tensor([[[0.6196, 0.6235, 0.6471,  ..., 0.5373, 0.4941, 0.4549],\n          [0.5961, 0.5922, 0.6235,  ..., 0.5333, 0.4902, 0.4667],\n          [0.5922, 0.5922, 0.6196,  ..., 0.5451, 0.5098, 0.4706],\n          ...,\n          [0.2667, 0.1647, 0.1216,  ..., 0.1490, 0.0510, 0.1569],\n          [0.2392, 0.1922, 0.1373,  ..., 0.1020, 0.1137, 0.0784],\n          [0.2118, 0.2196, 0.1765,  ..., 0.0941, 0.1333, 0.0824]],\n \n         [[0.4392, 0.4353, 0.4549,  ..., 0.3725, 0.3569, 0.3333],\n          [0.4392, 0.4314, 0.4471,  ..., 0.3725, 0.3569, 0.3451],\n          [0.4314, 0.4275, 0.4353,  ..., 0.3843, 0.3725, 0.3490],\n          ...,\n          [0.4863, 0.3922, 0.3451,  ..., 0.3804, 0.2510, 0.3333],\n          [0.4549, 0.4000, 0.3333,  ..., 0.3216, 0.3216, 0.2510],\n          [0.4196, 0.4118, 0.3490,  ..., 0.3020, 0.3294, 0.2627]],\n \n         [[0.1922, 0.1843, 0.2000,  ..., 0.1412, 0.1412, 0.1294],\n          [0.2000, 0.1569, 0.1765,  ..., 0.1216, 0.1255, 0.1333],\n          [0.1843, 0.1294, 0.1412,  ..., 0.1333, 0.1333, 0.1294],\n          ...,\n          [0.6941, 0.5804, 0.5373,  ..., 0.5725, 0.4235, 0.4980],\n          [0.6588, 0.5804, 0.5176,  ..., 0.5098, 0.4941, 0.4196],\n          [0.6275, 0.5843, 0.5176,  ..., 0.4863, 0.5059, 0.4314]]]),\n 3)"
     },
     "execution_count": 41,
     "metadata": {},
     "output_type": "execute_result"
    }
   ],
   "source": [
    "# 测试集中的第一张图片\n",
    "first_test_sample = test_data[0]\n",
    "first_test_sample"
   ],
   "metadata": {
    "collapsed": false,
    "ExecuteTime": {
     "end_time": "2023-06-24T01:51:02.978831200Z",
     "start_time": "2023-06-24T01:51:02.970627800Z"
    }
   }
  },
  {
   "cell_type": "code",
   "execution_count": 42,
   "outputs": [
    {
     "data": {
      "text/plain": "10000"
     },
     "execution_count": 42,
     "metadata": {},
     "output_type": "execute_result"
    }
   ],
   "source": [
    "len(test_data)"
   ],
   "metadata": {
    "collapsed": false,
    "ExecuteTime": {
     "end_time": "2023-06-24T01:51:02.985677600Z",
     "start_time": "2023-06-24T01:51:02.978831200Z"
    }
   }
  },
  {
   "cell_type": "code",
   "execution_count": 43,
   "outputs": [],
   "source": [
    "writer = SummaryWriter('./logs')"
   ],
   "metadata": {
    "collapsed": false,
    "ExecuteTime": {
     "end_time": "2023-06-24T01:51:03.031041900Z",
     "start_time": "2023-06-24T01:51:02.983903600Z"
    }
   }
  },
  {
   "cell_type": "code",
   "execution_count": 44,
   "outputs": [
    {
     "name": "stdout",
     "output_type": "stream",
     "text": [
      "torch.Size([64, 3, 32, 32]) 64 64\n",
      "torch.Size([64, 3, 32, 32]) 64 64\n",
      "torch.Size([64, 3, 32, 32]) 64 64\n",
      "torch.Size([64, 3, 32, 32]) 64 64\n",
      "torch.Size([64, 3, 32, 32]) 64 64\n",
      "torch.Size([64, 3, 32, 32]) 64 64\n",
      "torch.Size([64, 3, 32, 32]) 64 64\n",
      "torch.Size([64, 3, 32, 32]) 64 64\n",
      "torch.Size([64, 3, 32, 32]) 64 64\n",
      "torch.Size([64, 3, 32, 32]) 64 64\n",
      "torch.Size([64, 3, 32, 32]) 64 64\n",
      "torch.Size([64, 3, 32, 32]) 64 64\n",
      "torch.Size([64, 3, 32, 32]) 64 64\n",
      "torch.Size([64, 3, 32, 32]) 64 64\n",
      "torch.Size([64, 3, 32, 32]) 64 64\n",
      "torch.Size([64, 3, 32, 32]) 64 64\n",
      "torch.Size([64, 3, 32, 32]) 64 64\n",
      "torch.Size([64, 3, 32, 32]) 64 64\n",
      "torch.Size([64, 3, 32, 32]) 64 64\n",
      "torch.Size([64, 3, 32, 32]) 64 64\n",
      "torch.Size([64, 3, 32, 32]) 64 64\n",
      "torch.Size([64, 3, 32, 32]) 64 64\n",
      "torch.Size([64, 3, 32, 32]) 64 64\n",
      "torch.Size([64, 3, 32, 32]) 64 64\n",
      "torch.Size([64, 3, 32, 32]) 64 64\n",
      "torch.Size([64, 3, 32, 32]) 64 64\n",
      "torch.Size([64, 3, 32, 32]) 64 64\n",
      "torch.Size([64, 3, 32, 32]) 64 64\n",
      "torch.Size([64, 3, 32, 32]) 64 64\n",
      "torch.Size([64, 3, 32, 32]) 64 64\n",
      "torch.Size([64, 3, 32, 32]) 64 64\n",
      "torch.Size([64, 3, 32, 32]) 64 64\n",
      "torch.Size([64, 3, 32, 32]) 64 64\n",
      "torch.Size([64, 3, 32, 32]) 64 64\n",
      "torch.Size([64, 3, 32, 32]) 64 64\n",
      "torch.Size([64, 3, 32, 32]) 64 64\n",
      "torch.Size([64, 3, 32, 32]) 64 64\n",
      "torch.Size([64, 3, 32, 32]) 64 64\n",
      "torch.Size([64, 3, 32, 32]) 64 64\n",
      "torch.Size([64, 3, 32, 32]) 64 64\n",
      "torch.Size([64, 3, 32, 32]) 64 64\n",
      "torch.Size([64, 3, 32, 32]) 64 64\n",
      "torch.Size([64, 3, 32, 32]) 64 64\n",
      "torch.Size([64, 3, 32, 32]) 64 64\n",
      "torch.Size([64, 3, 32, 32]) 64 64\n",
      "torch.Size([64, 3, 32, 32]) 64 64\n",
      "torch.Size([64, 3, 32, 32]) 64 64\n",
      "torch.Size([64, 3, 32, 32]) 64 64\n",
      "torch.Size([64, 3, 32, 32]) 64 64\n",
      "torch.Size([64, 3, 32, 32]) 64 64\n",
      "torch.Size([64, 3, 32, 32]) 64 64\n",
      "torch.Size([64, 3, 32, 32]) 64 64\n",
      "torch.Size([64, 3, 32, 32]) 64 64\n",
      "torch.Size([64, 3, 32, 32]) 64 64\n",
      "torch.Size([64, 3, 32, 32]) 64 64\n",
      "torch.Size([64, 3, 32, 32]) 64 64\n",
      "torch.Size([64, 3, 32, 32]) 64 64\n",
      "torch.Size([64, 3, 32, 32]) 64 64\n",
      "torch.Size([64, 3, 32, 32]) 64 64\n",
      "torch.Size([64, 3, 32, 32]) 64 64\n",
      "torch.Size([64, 3, 32, 32]) 64 64\n",
      "torch.Size([64, 3, 32, 32]) 64 64\n",
      "torch.Size([64, 3, 32, 32]) 64 64\n",
      "torch.Size([64, 3, 32, 32]) 64 64\n",
      "torch.Size([64, 3, 32, 32]) 64 64\n",
      "torch.Size([64, 3, 32, 32]) 64 64\n",
      "torch.Size([64, 3, 32, 32]) 64 64\n",
      "torch.Size([64, 3, 32, 32]) 64 64\n",
      "torch.Size([64, 3, 32, 32]) 64 64\n",
      "torch.Size([64, 3, 32, 32]) 64 64\n",
      "torch.Size([64, 3, 32, 32]) 64 64\n",
      "torch.Size([64, 3, 32, 32]) 64 64\n",
      "torch.Size([64, 3, 32, 32]) 64 64\n",
      "torch.Size([64, 3, 32, 32]) 64 64\n",
      "torch.Size([64, 3, 32, 32]) 64 64\n",
      "torch.Size([64, 3, 32, 32]) 64 64\n",
      "torch.Size([64, 3, 32, 32]) 64 64\n",
      "torch.Size([64, 3, 32, 32]) 64 64\n",
      "torch.Size([64, 3, 32, 32]) 64 64\n",
      "torch.Size([64, 3, 32, 32]) 64 64\n",
      "torch.Size([64, 3, 32, 32]) 64 64\n",
      "torch.Size([64, 3, 32, 32]) 64 64\n",
      "torch.Size([64, 3, 32, 32]) 64 64\n",
      "torch.Size([64, 3, 32, 32]) 64 64\n",
      "torch.Size([64, 3, 32, 32]) 64 64\n",
      "torch.Size([64, 3, 32, 32]) 64 64\n",
      "torch.Size([64, 3, 32, 32]) 64 64\n",
      "torch.Size([64, 3, 32, 32]) 64 64\n",
      "torch.Size([64, 3, 32, 32]) 64 64\n",
      "torch.Size([64, 3, 32, 32]) 64 64\n",
      "torch.Size([64, 3, 32, 32]) 64 64\n",
      "torch.Size([64, 3, 32, 32]) 64 64\n",
      "torch.Size([64, 3, 32, 32]) 64 64\n",
      "torch.Size([64, 3, 32, 32]) 64 64\n",
      "torch.Size([64, 3, 32, 32]) 64 64\n",
      "torch.Size([64, 3, 32, 32]) 64 64\n",
      "torch.Size([64, 3, 32, 32]) 64 64\n",
      "torch.Size([64, 3, 32, 32]) 64 64\n",
      "torch.Size([64, 3, 32, 32]) 64 64\n",
      "torch.Size([64, 3, 32, 32]) 64 64\n",
      "torch.Size([64, 3, 32, 32]) 64 64\n",
      "torch.Size([64, 3, 32, 32]) 64 64\n",
      "torch.Size([64, 3, 32, 32]) 64 64\n",
      "torch.Size([64, 3, 32, 32]) 64 64\n",
      "torch.Size([64, 3, 32, 32]) 64 64\n",
      "torch.Size([64, 3, 32, 32]) 64 64\n",
      "torch.Size([64, 3, 32, 32]) 64 64\n",
      "torch.Size([64, 3, 32, 32]) 64 64\n",
      "torch.Size([64, 3, 32, 32]) 64 64\n",
      "torch.Size([64, 3, 32, 32]) 64 64\n",
      "torch.Size([64, 3, 32, 32]) 64 64\n",
      "torch.Size([64, 3, 32, 32]) 64 64\n",
      "torch.Size([64, 3, 32, 32]) 64 64\n",
      "torch.Size([64, 3, 32, 32]) 64 64\n",
      "torch.Size([64, 3, 32, 32]) 64 64\n",
      "torch.Size([64, 3, 32, 32]) 64 64\n",
      "torch.Size([64, 3, 32, 32]) 64 64\n",
      "torch.Size([64, 3, 32, 32]) 64 64\n",
      "torch.Size([64, 3, 32, 32]) 64 64\n",
      "torch.Size([64, 3, 32, 32]) 64 64\n",
      "torch.Size([64, 3, 32, 32]) 64 64\n",
      "torch.Size([64, 3, 32, 32]) 64 64\n",
      "torch.Size([64, 3, 32, 32]) 64 64\n",
      "torch.Size([64, 3, 32, 32]) 64 64\n",
      "torch.Size([64, 3, 32, 32]) 64 64\n",
      "torch.Size([64, 3, 32, 32]) 64 64\n",
      "torch.Size([64, 3, 32, 32]) 64 64\n",
      "torch.Size([64, 3, 32, 32]) 64 64\n",
      "torch.Size([64, 3, 32, 32]) 64 64\n",
      "torch.Size([64, 3, 32, 32]) 64 64\n",
      "torch.Size([64, 3, 32, 32]) 64 64\n",
      "torch.Size([64, 3, 32, 32]) 64 64\n",
      "torch.Size([64, 3, 32, 32]) 64 64\n",
      "torch.Size([64, 3, 32, 32]) 64 64\n",
      "torch.Size([64, 3, 32, 32]) 64 64\n",
      "torch.Size([64, 3, 32, 32]) 64 64\n",
      "torch.Size([64, 3, 32, 32]) 64 64\n",
      "torch.Size([64, 3, 32, 32]) 64 64\n",
      "torch.Size([64, 3, 32, 32]) 64 64\n",
      "torch.Size([64, 3, 32, 32]) 64 64\n",
      "torch.Size([64, 3, 32, 32]) 64 64\n",
      "torch.Size([64, 3, 32, 32]) 64 64\n",
      "torch.Size([64, 3, 32, 32]) 64 64\n",
      "torch.Size([64, 3, 32, 32]) 64 64\n",
      "torch.Size([64, 3, 32, 32]) 64 64\n",
      "torch.Size([64, 3, 32, 32]) 64 64\n",
      "torch.Size([64, 3, 32, 32]) 64 64\n",
      "torch.Size([64, 3, 32, 32]) 64 64\n",
      "torch.Size([64, 3, 32, 32]) 64 64\n",
      "torch.Size([64, 3, 32, 32]) 64 64\n",
      "torch.Size([64, 3, 32, 32]) 64 64\n",
      "torch.Size([64, 3, 32, 32]) 64 64\n",
      "torch.Size([64, 3, 32, 32]) 64 64\n",
      "torch.Size([64, 3, 32, 32]) 64 64\n",
      "torch.Size([64, 3, 32, 32]) 64 64\n",
      "torch.Size([64, 3, 32, 32]) 64 64\n",
      "torch.Size([16, 3, 32, 32]) 16 16\n"
     ]
    }
   ],
   "source": [
    "# Dataloader取出的第一批数据\n",
    "for i, item in enumerate(test_loader):\n",
    "    imgs, targets = item\n",
    "    # print(imgs.shape, len(imgs),len(targets))\n",
    "    # 注意：这里使用的是.add_images()方法，一次可以写 入多张图片，而不是.add_image()，一次只能写入一张图片\n",
    "    writer.add_images('Test Data in Batching', imgs, i)\n",
    "\n",
    "writer.close()"
   ],
   "metadata": {
    "collapsed": false,
    "ExecuteTime": {
     "end_time": "2023-06-24T01:51:08.107658400Z",
     "start_time": "2023-06-24T01:51:02.993051400Z"
    }
   }
  },
  {
   "cell_type": "code",
   "execution_count": 45,
   "outputs": [
    {
     "data": {
      "text/plain": "157"
     },
     "execution_count": 45,
     "metadata": {},
     "output_type": "execute_result"
    }
   ],
   "source": [
    "# 测试集图片一共有10000张，batch_size=4，所以len(test_loader)=2500\n",
    "len(test_loader)"
   ],
   "metadata": {
    "collapsed": false,
    "ExecuteTime": {
     "end_time": "2023-06-24T01:51:08.111198300Z",
     "start_time": "2023-06-24T01:51:08.106658200Z"
    }
   }
  }
 ],
 "metadata": {
  "kernelspec": {
   "display_name": "Python 3",
   "language": "python",
   "name": "python3"
  },
  "language_info": {
   "codemirror_mode": {
    "name": "ipython",
    "version": 2
   },
   "file_extension": ".py",
   "mimetype": "text/x-python",
   "name": "python",
   "nbconvert_exporter": "python",
   "pygments_lexer": "ipython2",
   "version": "2.7.6"
  }
 },
 "nbformat": 4,
 "nbformat_minor": 0
}
