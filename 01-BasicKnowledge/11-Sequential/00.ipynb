{
 "cells": [
  {
   "cell_type": "markdown",
   "source": [
    "![](https://i.imgur.com/rCyvEOB.png)"
   ],
   "metadata": {
    "collapsed": false
   }
  },
  {
   "cell_type": "markdown",
   "source": [
    "![](https://i.imgur.com/QEpwWGP.png)"
   ],
   "metadata": {
    "collapsed": false
   }
  },
  {
   "cell_type": "code",
   "execution_count": 1,
   "metadata": {
    "collapsed": true,
    "ExecuteTime": {
     "end_time": "2023-06-25T05:49:56.722127800Z",
     "start_time": "2023-06-25T05:49:55.048952600Z"
    }
   },
   "outputs": [],
   "source": [
    "import torch"
   ]
  },
  {
   "cell_type": "code",
   "execution_count": 7,
   "outputs": [
    {
     "name": "stdout",
     "output_type": "stream",
     "text": [
      "MyModule(\n",
      "  (conv_00): Conv2d(3, 32, kernel_size=(5, 5), stride=(1, 1), padding=(2, 2))\n",
      "  (maxpool_00): MaxPool2d(kernel_size=2, stride=2, padding=0, dilation=1, ceil_mode=False)\n",
      "  (conv_01): Conv2d(32, 32, kernel_size=(5, 5), stride=(1, 1), padding=(2, 2))\n",
      "  (maxpool_01): MaxPool2d(kernel_size=2, stride=2, padding=0, dilation=1, ceil_mode=False)\n",
      "  (conv_02): Conv2d(32, 64, kernel_size=(5, 5), stride=(1, 1), padding=(2, 2))\n",
      "  (maxpool_02): MaxPool2d(kernel_size=2, stride=2, padding=0, dilation=1, ceil_mode=False)\n",
      "  (flatten): Flatten(start_dim=1, end_dim=-1)\n",
      "  (linear_00): Linear(in_features=1024, out_features=64, bias=True)\n",
      "  (linear_01): Linear(in_features=64, out_features=10, bias=True)\n",
      ")\n"
     ]
    }
   ],
   "source": [
    "class MyModule(torch.nn.Module):\n",
    "    def __init__(self):\n",
    "        super(MyModule, self).__init__()\n",
    "        self.conv_00 = torch.nn.Conv2d(3, 32, 5, padding=2)  # Input: 3@32×32, Output: 32@32×32\n",
    "        self.maxpool_00 = torch.nn.MaxPool2d(2)  # Input: 32@32×32, Output: 32@16×16\n",
    "        self.conv_01 = torch.nn.Conv2d(32, 32, 5, padding=2)  # Input: 32@16×16, Output: 32@16×16\n",
    "        self.maxpool_01 = torch.nn.MaxPool2d(2)  # Input: 32@16×16, Output: 32@8×8\n",
    "        self.conv_02 = torch.nn.Conv2d(32, 64, 5, padding=2)  # Input: 32@8×8, Output: 64@8×8\n",
    "        self.maxpool_02 = torch.nn.MaxPool2d(2)  # Input: 64@8×8, Output: 64@4×4\n",
    "        self.flatten = torch.nn.Flatten()  # Input: 64@4×4, Output: 1024\n",
    "        self.linear_00 = torch.nn.Linear(1024, 64)  # Input: 1024, Output: 64\n",
    "        self.linear_01 = torch.nn.Linear(64, 10)  # Input: 64, Output: 10\n",
    "\n",
    "    def forward(self, inputs):\n",
    "        _ = self.conv_00(inputs)\n",
    "        _ = self.maxpool_00(_)\n",
    "        _ = self.conv_01(_)\n",
    "        _ = self.maxpool_01(_)\n",
    "        _ = self.conv_02(_)\n",
    "        _ = self.maxpool_02(_)\n",
    "        _ = self.flatten(_)\n",
    "        _ = self.linear_00(_)\n",
    "        outputs = self.linear_01(_)\n",
    "        return outputs\n",
    "\n",
    "module = MyModule()\n",
    "print(module)"
   ],
   "metadata": {
    "collapsed": false,
    "ExecuteTime": {
     "end_time": "2023-06-25T06:11:29.014512800Z",
     "start_time": "2023-06-25T06:11:28.997185400Z"
    }
   }
  },
  {
   "cell_type": "code",
   "execution_count": 8,
   "outputs": [
    {
     "data": {
      "text/plain": "torch.Size([64, 3, 32, 32])"
     },
     "execution_count": 8,
     "metadata": {},
     "output_type": "execute_result"
    }
   ],
   "source": [
    "# 测试模型类\n",
    "demo_inputs = torch.ones((64, 3, 32, 32))\n",
    "demo_inputs.shape"
   ],
   "metadata": {
    "collapsed": false,
    "ExecuteTime": {
     "end_time": "2023-06-25T06:11:29.805676100Z",
     "start_time": "2023-06-25T06:11:29.779381900Z"
    }
   }
  },
  {
   "cell_type": "code",
   "execution_count": 10,
   "outputs": [
    {
     "data": {
      "text/plain": "torch.Size([64, 10])"
     },
     "execution_count": 10,
     "metadata": {},
     "output_type": "execute_result"
    }
   ],
   "source": [
    "demo_outputs = module(demo_inputs)\n",
    "demo_outputs.shape\n",
    "# 输入Inputs的shape为[64, 3, 32, 32], 输出Outputs的shape应该为[64, 10]."
   ],
   "metadata": {
    "collapsed": false,
    "ExecuteTime": {
     "end_time": "2023-06-25T06:11:48.203596300Z",
     "start_time": "2023-06-25T06:11:48.173349700Z"
    }
   }
  },
  {
   "cell_type": "code",
   "execution_count": 11,
   "outputs": [
    {
     "name": "stdout",
     "output_type": "stream",
     "text": [
      "MyModule(\n",
      "  (model): Sequential(\n",
      "    (0): Conv2d(3, 32, kernel_size=(5, 5), stride=(1, 1), padding=(2, 2))\n",
      "    (1): MaxPool2d(kernel_size=2, stride=2, padding=0, dilation=1, ceil_mode=False)\n",
      "    (2): Conv2d(32, 32, kernel_size=(5, 5), stride=(1, 1), padding=(2, 2))\n",
      "    (3): MaxPool2d(kernel_size=2, stride=2, padding=0, dilation=1, ceil_mode=False)\n",
      "    (4): Conv2d(32, 64, kernel_size=(5, 5), stride=(1, 1), padding=(2, 2))\n",
      "    (5): MaxPool2d(kernel_size=2, stride=2, padding=0, dilation=1, ceil_mode=False)\n",
      "    (6): Flatten(start_dim=1, end_dim=-1)\n",
      "    (7): Linear(in_features=1024, out_features=64, bias=True)\n",
      "    (8): Linear(in_features=64, out_features=10, bias=True)\n",
      "  )\n",
      ")\n"
     ]
    }
   ],
   "source": [
    "from torch.nn import Conv2d, MaxPool2d, Flatten, Linear\n",
    "\n",
    "# 使用Sequential来优化网络结构\n",
    "class MyModule(torch.nn.Module):\n",
    "    def __init__(self):\n",
    "        super(MyModule, self).__init__()\n",
    "\n",
    "        self.model = torch.nn.Sequential(\n",
    "            Conv2d(3, 32, 5, padding=2),  # Input: 3@32×32, Output: 32@32×32\n",
    "            MaxPool2d(2),  # Input: 32@32×32, Output: 32@16×16\n",
    "            Conv2d(32, 32, 5, padding=2),  # Input: 32@16×16, Output: 32@16×16\n",
    "            MaxPool2d(2),  # Input: 32@16×16, Output: 32@8×8\n",
    "            Conv2d(32, 64, 5, padding=2),  # Input: 32@8×8, Output: 64@8×8\n",
    "            MaxPool2d(2),  # Input: 64@8×8, Output: 64@4×4\n",
    "            Flatten(),  # Input: 64@4×4, Output: 1024\n",
    "            Linear(1024, 64),  # Input: 1024, Output: 64\n",
    "            Linear(64, 10)  # Input: 64, Output: 10\n",
    "        )\n",
    "\n",
    "    def forward(self, inputs):\n",
    "        outputs = self.model(inputs)\n",
    "        return outputs\n",
    "\n",
    "module = MyModule()\n",
    "print(module)"
   ],
   "metadata": {
    "collapsed": false,
    "ExecuteTime": {
     "end_time": "2023-06-25T06:17:43.164881300Z",
     "start_time": "2023-06-25T06:17:43.158304400Z"
    }
   }
  },
  {
   "cell_type": "code",
   "execution_count": 12,
   "outputs": [
    {
     "data": {
      "text/plain": "torch.Size([64, 10])"
     },
     "execution_count": 12,
     "metadata": {},
     "output_type": "execute_result"
    }
   ],
   "source": [
    "demo_outputs = module(demo_inputs)\n",
    "demo_outputs.shape\n",
    "# 输入Inputs的shape为[64, 3, 32, 32], 输出Outputs的shape应该为[64, 10]."
   ],
   "metadata": {
    "collapsed": false,
    "ExecuteTime": {
     "end_time": "2023-06-25T06:17:50.507726600Z",
     "start_time": "2023-06-25T06:17:50.479717500Z"
    }
   }
  },
  {
   "cell_type": "code",
   "execution_count": 13,
   "outputs": [],
   "source": [
    "# 使用tensorboard可视化网络结构\n",
    "from torch.utils.tensorboard import SummaryWriter\n",
    "\n",
    "writer = SummaryWriter('./logs')"
   ],
   "metadata": {
    "collapsed": false,
    "ExecuteTime": {
     "end_time": "2023-06-25T06:18:34.348450500Z",
     "start_time": "2023-06-25T06:18:30.516249600Z"
    }
   }
  },
  {
   "cell_type": "code",
   "execution_count": 14,
   "outputs": [],
   "source": [
    "writer.add_graph(module, demo_inputs)\n",
    "\n",
    "writer.close()\n",
    "# tensorboard --logdir='logs'"
   ],
   "metadata": {
    "collapsed": false,
    "ExecuteTime": {
     "end_time": "2023-06-25T06:20:06.905504800Z",
     "start_time": "2023-06-25T06:20:06.673134700Z"
    }
   }
  },
  {
   "cell_type": "code",
   "execution_count": null,
   "outputs": [],
   "source": [],
   "metadata": {
    "collapsed": false
   }
  }
 ],
 "metadata": {
  "kernelspec": {
   "display_name": "Python 3",
   "language": "python",
   "name": "python3"
  },
  "language_info": {
   "codemirror_mode": {
    "name": "ipython",
    "version": 2
   },
   "file_extension": ".py",
   "mimetype": "text/x-python",
   "name": "python",
   "nbconvert_exporter": "python",
   "pygments_lexer": "ipython2",
   "version": "2.7.6"
  }
 },
 "nbformat": 4,
 "nbformat_minor": 0
}
