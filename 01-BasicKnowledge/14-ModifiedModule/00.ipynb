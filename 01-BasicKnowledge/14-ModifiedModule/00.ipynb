{
 "cells": [
  {
   "cell_type": "code",
   "execution_count": 36,
   "metadata": {
    "collapsed": true,
    "ExecuteTime": {
     "end_time": "2023-06-26T13:59:58.939776300Z",
     "start_time": "2023-06-26T13:59:58.933204200Z"
    }
   },
   "outputs": [],
   "source": [
    "import hues\n",
    "import torch\n",
    "import torchvision\n",
    "from torch.utils.data import DataLoader\n",
    "from torch.utils.tensorboard import SummaryWriter\n",
    "from torch.nn import Conv2d, MaxPool2d, Flatten, Linear, CrossEntropyLoss"
   ]
  },
  {
   "cell_type": "code",
   "execution_count": 37,
   "outputs": [],
   "source": [
    "DATA_DIR = '../05-Transforms/data/'"
   ],
   "metadata": {
    "collapsed": false,
    "ExecuteTime": {
     "end_time": "2023-06-26T13:59:59.504843900Z",
     "start_time": "2023-06-26T13:59:59.494445300Z"
    }
   }
  },
  {
   "cell_type": "code",
   "execution_count": 38,
   "outputs": [
    {
     "name": "stdout",
     "output_type": "stream",
     "text": [
      "Files already downloaded and verified\n",
      "Files already downloaded and verified\n"
     ]
    }
   ],
   "source": [
    "transformer = torchvision.transforms.Compose([\n",
    "    torchvision.transforms.ToTensor()\n",
    "])\n",
    "\n",
    "train_data = torchvision.datasets.CIFAR10(\n",
    "    root=DATA_DIR,\n",
    "    transform=transformer,\n",
    "    train=True,\n",
    "    download=True\n",
    ")\n",
    "\n",
    "test_data = torchvision.datasets.CIFAR10(\n",
    "    root=DATA_DIR,\n",
    "    transform=transformer,\n",
    "    train=False,\n",
    "    download=True\n",
    ")"
   ],
   "metadata": {
    "collapsed": false,
    "ExecuteTime": {
     "end_time": "2023-06-26T14:00:02.356203Z",
     "start_time": "2023-06-26T14:00:00.917718500Z"
    }
   }
  },
  {
   "cell_type": "code",
   "execution_count": 4,
   "outputs": [
    {
     "data": {
      "text/plain": "(50000, 10000)"
     },
     "execution_count": 4,
     "metadata": {},
     "output_type": "execute_result"
    }
   ],
   "source": [
    "len(train_data), len(test_data)"
   ],
   "metadata": {
    "collapsed": false,
    "ExecuteTime": {
     "end_time": "2023-06-26T07:11:02.682305700Z",
     "start_time": "2023-06-26T07:11:02.676335600Z"
    }
   }
  },
  {
   "cell_type": "code",
   "execution_count": 5,
   "outputs": [],
   "source": [
    "train_loader = DataLoader(\n",
    "    dataset=train_data,\n",
    "    batch_size=64,\n",
    "    shuffle=True,\n",
    "    num_workers=2,\n",
    "    drop_last=True\n",
    ")\n",
    "\n",
    "test_loader = DataLoader(\n",
    "    dataset=test_data,\n",
    "    batch_size=64,\n",
    "    shuffle=True,\n",
    "    num_workers=2,\n",
    "    drop_last=True\n",
    ")"
   ],
   "metadata": {
    "collapsed": false,
    "ExecuteTime": {
     "end_time": "2023-06-26T07:11:02.684984800Z",
     "start_time": "2023-06-26T07:11:02.682305700Z"
    }
   }
  },
  {
   "cell_type": "code",
   "execution_count": 41,
   "outputs": [
    {
     "data": {
      "text/plain": "(50000, 781)"
     },
     "execution_count": 41,
     "metadata": {},
     "output_type": "execute_result"
    }
   ],
   "source": [
    "len(train_loader.dataset), len(train_loader)"
   ],
   "metadata": {
    "collapsed": false,
    "ExecuteTime": {
     "end_time": "2023-06-26T14:00:49.802468200Z",
     "start_time": "2023-06-26T14:00:49.780460500Z"
    }
   }
  },
  {
   "cell_type": "code",
   "execution_count": 43,
   "outputs": [
    {
     "ename": "TypeError",
     "evalue": "'DataLoader' object is not subscriptable",
     "output_type": "error",
     "traceback": [
      "\u001B[1;31m---------------------------------------------------------------------------\u001B[0m",
      "\u001B[1;31mTypeError\u001B[0m                                 Traceback (most recent call last)",
      "Cell \u001B[1;32mIn[43], line 1\u001B[0m\n\u001B[1;32m----> 1\u001B[0m \u001B[43mtest_loader\u001B[49m\u001B[43m[\u001B[49m\u001B[38;5;241;43m0\u001B[39;49m\u001B[43m]\u001B[49m\n",
      "\u001B[1;31mTypeError\u001B[0m: 'DataLoader' object is not subscriptable"
     ]
    }
   ],
   "source": [
    "test_loader[0]"
   ],
   "metadata": {
    "collapsed": false,
    "ExecuteTime": {
     "end_time": "2023-06-26T14:35:32.499696Z",
     "start_time": "2023-06-26T14:35:32.489660600Z"
    }
   }
  },
  {
   "cell_type": "code",
   "execution_count": 6,
   "outputs": [],
   "source": [
    "vgg_pretrained = torchvision.models.vgg16(weights=torchvision.models.VGG16_Weights.IMAGENET1K_V1)\n",
    "vgg = torchvision.models.vgg16()"
   ],
   "metadata": {
    "collapsed": false,
    "ExecuteTime": {
     "end_time": "2023-06-26T07:11:05.194713100Z",
     "start_time": "2023-06-26T07:11:02.685985500Z"
    }
   }
  },
  {
   "cell_type": "code",
   "execution_count": 7,
   "outputs": [
    {
     "data": {
      "text/plain": "VGG(\n  (features): Sequential(\n    (0): Conv2d(3, 64, kernel_size=(3, 3), stride=(1, 1), padding=(1, 1))\n    (1): ReLU(inplace=True)\n    (2): Conv2d(64, 64, kernel_size=(3, 3), stride=(1, 1), padding=(1, 1))\n    (3): ReLU(inplace=True)\n    (4): MaxPool2d(kernel_size=2, stride=2, padding=0, dilation=1, ceil_mode=False)\n    (5): Conv2d(64, 128, kernel_size=(3, 3), stride=(1, 1), padding=(1, 1))\n    (6): ReLU(inplace=True)\n    (7): Conv2d(128, 128, kernel_size=(3, 3), stride=(1, 1), padding=(1, 1))\n    (8): ReLU(inplace=True)\n    (9): MaxPool2d(kernel_size=2, stride=2, padding=0, dilation=1, ceil_mode=False)\n    (10): Conv2d(128, 256, kernel_size=(3, 3), stride=(1, 1), padding=(1, 1))\n    (11): ReLU(inplace=True)\n    (12): Conv2d(256, 256, kernel_size=(3, 3), stride=(1, 1), padding=(1, 1))\n    (13): ReLU(inplace=True)\n    (14): Conv2d(256, 256, kernel_size=(3, 3), stride=(1, 1), padding=(1, 1))\n    (15): ReLU(inplace=True)\n    (16): MaxPool2d(kernel_size=2, stride=2, padding=0, dilation=1, ceil_mode=False)\n    (17): Conv2d(256, 512, kernel_size=(3, 3), stride=(1, 1), padding=(1, 1))\n    (18): ReLU(inplace=True)\n    (19): Conv2d(512, 512, kernel_size=(3, 3), stride=(1, 1), padding=(1, 1))\n    (20): ReLU(inplace=True)\n    (21): Conv2d(512, 512, kernel_size=(3, 3), stride=(1, 1), padding=(1, 1))\n    (22): ReLU(inplace=True)\n    (23): MaxPool2d(kernel_size=2, stride=2, padding=0, dilation=1, ceil_mode=False)\n    (24): Conv2d(512, 512, kernel_size=(3, 3), stride=(1, 1), padding=(1, 1))\n    (25): ReLU(inplace=True)\n    (26): Conv2d(512, 512, kernel_size=(3, 3), stride=(1, 1), padding=(1, 1))\n    (27): ReLU(inplace=True)\n    (28): Conv2d(512, 512, kernel_size=(3, 3), stride=(1, 1), padding=(1, 1))\n    (29): ReLU(inplace=True)\n    (30): MaxPool2d(kernel_size=2, stride=2, padding=0, dilation=1, ceil_mode=False)\n  )\n  (avgpool): AdaptiveAvgPool2d(output_size=(7, 7))\n  (classifier): Sequential(\n    (0): Linear(in_features=25088, out_features=4096, bias=True)\n    (1): ReLU(inplace=True)\n    (2): Dropout(p=0.5, inplace=False)\n    (3): Linear(in_features=4096, out_features=4096, bias=True)\n    (4): ReLU(inplace=True)\n    (5): Dropout(p=0.5, inplace=False)\n    (6): Linear(in_features=4096, out_features=1000, bias=True)\n    (Linear): Linear(in_features=1000, out_features=10, bias=True)\n  )\n)"
     },
     "execution_count": 7,
     "metadata": {},
     "output_type": "execute_result"
    }
   ],
   "source": [
    "# vgg输出为1000，而CIFAR10数据集输出为10，因此最后还需要添加一个线性层\n",
    "# vgg_pretrained.add_module('Linear', torch.nn.Linear(1000, 10))\n",
    "vgg_pretrained.classifier.add_module('Linear', torch.nn.Linear(1000, 10))\n",
    "vgg_pretrained"
   ],
   "metadata": {
    "collapsed": false,
    "ExecuteTime": {
     "end_time": "2023-06-26T07:11:05.200169600Z",
     "start_time": "2023-06-26T07:11:05.194713100Z"
    }
   }
  },
  {
   "cell_type": "code",
   "execution_count": 8,
   "outputs": [
    {
     "data": {
      "text/plain": "VGG(\n  (features): Sequential(\n    (0): Conv2d(3, 64, kernel_size=(3, 3), stride=(1, 1), padding=(1, 1))\n    (1): ReLU(inplace=True)\n    (2): Conv2d(64, 64, kernel_size=(3, 3), stride=(1, 1), padding=(1, 1))\n    (3): ReLU(inplace=True)\n    (4): MaxPool2d(kernel_size=2, stride=2, padding=0, dilation=1, ceil_mode=False)\n    (5): Conv2d(64, 128, kernel_size=(3, 3), stride=(1, 1), padding=(1, 1))\n    (6): ReLU(inplace=True)\n    (7): Conv2d(128, 128, kernel_size=(3, 3), stride=(1, 1), padding=(1, 1))\n    (8): ReLU(inplace=True)\n    (9): MaxPool2d(kernel_size=2, stride=2, padding=0, dilation=1, ceil_mode=False)\n    (10): Conv2d(128, 256, kernel_size=(3, 3), stride=(1, 1), padding=(1, 1))\n    (11): ReLU(inplace=True)\n    (12): Conv2d(256, 256, kernel_size=(3, 3), stride=(1, 1), padding=(1, 1))\n    (13): ReLU(inplace=True)\n    (14): Conv2d(256, 256, kernel_size=(3, 3), stride=(1, 1), padding=(1, 1))\n    (15): ReLU(inplace=True)\n    (16): MaxPool2d(kernel_size=2, stride=2, padding=0, dilation=1, ceil_mode=False)\n    (17): Conv2d(256, 512, kernel_size=(3, 3), stride=(1, 1), padding=(1, 1))\n    (18): ReLU(inplace=True)\n    (19): Conv2d(512, 512, kernel_size=(3, 3), stride=(1, 1), padding=(1, 1))\n    (20): ReLU(inplace=True)\n    (21): Conv2d(512, 512, kernel_size=(3, 3), stride=(1, 1), padding=(1, 1))\n    (22): ReLU(inplace=True)\n    (23): MaxPool2d(kernel_size=2, stride=2, padding=0, dilation=1, ceil_mode=False)\n    (24): Conv2d(512, 512, kernel_size=(3, 3), stride=(1, 1), padding=(1, 1))\n    (25): ReLU(inplace=True)\n    (26): Conv2d(512, 512, kernel_size=(3, 3), stride=(1, 1), padding=(1, 1))\n    (27): ReLU(inplace=True)\n    (28): Conv2d(512, 512, kernel_size=(3, 3), stride=(1, 1), padding=(1, 1))\n    (29): ReLU(inplace=True)\n    (30): MaxPool2d(kernel_size=2, stride=2, padding=0, dilation=1, ceil_mode=False)\n  )\n  (avgpool): AdaptiveAvgPool2d(output_size=(7, 7))\n  (classifier): Sequential(\n    (0): Linear(in_features=25088, out_features=4096, bias=True)\n    (1): ReLU(inplace=True)\n    (2): Dropout(p=0.5, inplace=False)\n    (3): Linear(in_features=4096, out_features=4096, bias=True)\n    (4): ReLU(inplace=True)\n    (5): Dropout(p=0.5, inplace=False)\n    (6): Linear(in_features=4096, out_features=10, bias=True)\n  )\n)"
     },
     "execution_count": 8,
     "metadata": {},
     "output_type": "execute_result"
    }
   ],
   "source": [
    "# 除了上述方法，在模型的最后新添加一个线性层外，也可以对模型的最后一个线性层进行修改，使其输出为10也行。\n",
    "vgg.classifier[6] = torch.nn.Linear(4096, 10)\n",
    "vgg"
   ],
   "metadata": {
    "collapsed": false,
    "ExecuteTime": {
     "end_time": "2023-06-26T07:11:05.210773200Z",
     "start_time": "2023-06-26T07:11:05.201379900Z"
    }
   }
  },
  {
   "cell_type": "code",
   "execution_count": 9,
   "outputs": [
    {
     "name": "stdout",
     "output_type": "stream",
     "text": [
      "VGG(\n",
      "  (features): Sequential(\n",
      "    (0): Conv2d(3, 64, kernel_size=(3, 3), stride=(1, 1), padding=(1, 1))\n",
      "    (1): ReLU(inplace=True)\n",
      "    (2): Conv2d(64, 64, kernel_size=(3, 3), stride=(1, 1), padding=(1, 1))\n",
      "    (3): ReLU(inplace=True)\n",
      "    (4): MaxPool2d(kernel_size=2, stride=2, padding=0, dilation=1, ceil_mode=False)\n",
      "    (5): Conv2d(64, 128, kernel_size=(3, 3), stride=(1, 1), padding=(1, 1))\n",
      "    (6): ReLU(inplace=True)\n",
      "    (7): Conv2d(128, 128, kernel_size=(3, 3), stride=(1, 1), padding=(1, 1))\n",
      "    (8): ReLU(inplace=True)\n",
      "    (9): MaxPool2d(kernel_size=2, stride=2, padding=0, dilation=1, ceil_mode=False)\n",
      "    (10): Conv2d(128, 256, kernel_size=(3, 3), stride=(1, 1), padding=(1, 1))\n",
      "    (11): ReLU(inplace=True)\n",
      "    (12): Conv2d(256, 256, kernel_size=(3, 3), stride=(1, 1), padding=(1, 1))\n",
      "    (13): ReLU(inplace=True)\n",
      "    (14): Conv2d(256, 256, kernel_size=(3, 3), stride=(1, 1), padding=(1, 1))\n",
      "    (15): ReLU(inplace=True)\n",
      "    (16): MaxPool2d(kernel_size=2, stride=2, padding=0, dilation=1, ceil_mode=False)\n",
      "    (17): Conv2d(256, 512, kernel_size=(3, 3), stride=(1, 1), padding=(1, 1))\n",
      "    (18): ReLU(inplace=True)\n",
      "    (19): Conv2d(512, 512, kernel_size=(3, 3), stride=(1, 1), padding=(1, 1))\n",
      "    (20): ReLU(inplace=True)\n",
      "    (21): Conv2d(512, 512, kernel_size=(3, 3), stride=(1, 1), padding=(1, 1))\n",
      "    (22): ReLU(inplace=True)\n",
      "    (23): MaxPool2d(kernel_size=2, stride=2, padding=0, dilation=1, ceil_mode=False)\n",
      "    (24): Conv2d(512, 512, kernel_size=(3, 3), stride=(1, 1), padding=(1, 1))\n",
      "    (25): ReLU(inplace=True)\n",
      "    (26): Conv2d(512, 512, kernel_size=(3, 3), stride=(1, 1), padding=(1, 1))\n",
      "    (27): ReLU(inplace=True)\n",
      "    (28): Conv2d(512, 512, kernel_size=(3, 3), stride=(1, 1), padding=(1, 1))\n",
      "    (29): ReLU(inplace=True)\n",
      "    (30): MaxPool2d(kernel_size=2, stride=2, padding=0, dilation=1, ceil_mode=False)\n",
      "  )\n",
      "  (avgpool): AdaptiveAvgPool2d(output_size=(7, 7))\n",
      "  (classifier): Sequential(\n",
      "    (0): Linear(in_features=25088, out_features=4096, bias=True)\n",
      "    (1): ReLU(inplace=True)\n",
      "    (2): Dropout(p=0.5, inplace=False)\n",
      "    (3): Linear(in_features=4096, out_features=4096, bias=True)\n",
      "    (4): ReLU(inplace=True)\n",
      "    (5): Dropout(p=0.5, inplace=False)\n",
      "    (6): Linear(in_features=4096, out_features=1000, bias=True)\n",
      "    (Linear): Linear(in_features=1000, out_features=10, bias=True)\n",
      "  )\n",
      ")\n"
     ]
    }
   ],
   "source": [
    "# 创建网络模型\n",
    "device = torch.device('cuda' if torch.cuda.is_available() else 'cpu')\n",
    "vgg_pretrained.to(device)\n",
    "print(vgg_pretrained)"
   ],
   "metadata": {
    "collapsed": false,
    "ExecuteTime": {
     "end_time": "2023-06-26T07:11:05.458794200Z",
     "start_time": "2023-06-26T07:11:05.206773200Z"
    }
   }
  },
  {
   "cell_type": "code",
   "execution_count": 10,
   "outputs": [],
   "source": [
    "# 损失函数\n",
    "loss_fun = CrossEntropyLoss()\n",
    "# 转移到GPU上\n",
    "loss_fun.to(device)\n",
    "\n",
    "# 优化器\n",
    "learning_rate = 0.0001\n",
    "optimizer = torch.optim.SGD(vgg_pretrained.parameters(), lr=learning_rate)\n",
    "\n",
    "# 使用tensorboard可视化网络结构\n",
    "writer = SummaryWriter('./logs')"
   ],
   "metadata": {
    "collapsed": false,
    "ExecuteTime": {
     "end_time": "2023-06-26T07:11:05.508579100Z",
     "start_time": "2023-06-26T07:11:05.456794900Z"
    }
   }
  },
  {
   "cell_type": "code",
   "execution_count": 11,
   "outputs": [
    {
     "name": "stdout",
     "output_type": "stream",
     "text": [
      "\u001B[35m15:12:06\u001B[0m - \u001B[36mINFO\u001B[0m - \u001B[39m第0轮的训练集累积Loss值为：1391.1151123046875，测试集累积Loss值为：225.072265625，测试集上的预测正确率为0.4885999858379364。\u001B[0m\n",
      "\u001B[35m15:12:44\u001B[0m - \u001B[36mINFO\u001B[0m - \u001B[39m第1轮的训练集累积Loss值为：1032.6259765625，测试集累积Loss值为：191.50112915039062，测试集上的预测正确率为0.5649999976158142。\u001B[0m\n",
      "\u001B[35m15:13:23\u001B[0m - \u001B[36mINFO\u001B[0m - \u001B[39m第2轮的训练集累积Loss值为：907.9688720703125，测试集累积Loss值为：173.18649291992188，测试集上的预测正确率为0.6053999662399292。\u001B[0m\n",
      "\u001B[35m15:13:58\u001B[0m - \u001B[36mINFO\u001B[0m - \u001B[39m第3轮的训练集累积Loss值为：826.86669921875，测试集累积Loss值为：162.69613647460938，测试集上的预测正确率为0.6359999775886536。\u001B[0m\n",
      "\u001B[35m15:14:33\u001B[0m - \u001B[36mINFO\u001B[0m - \u001B[39m第4轮的训练集累积Loss值为：773.4359130859375，测试集累积Loss值为：153.57334899902344，测试集上的预测正确率为0.6536999940872192。\u001B[0m\n",
      "\u001B[35m15:15:09\u001B[0m - \u001B[36mINFO\u001B[0m - \u001B[39m第5轮的训练集累积Loss值为：730.9052124023438，测试集累积Loss值为：145.92526245117188，测试集上的预测正确率为0.6708999872207642。\u001B[0m\n",
      "\u001B[35m15:15:46\u001B[0m - \u001B[36mINFO\u001B[0m - \u001B[39m第6轮的训练集累积Loss值为：692.529296875，测试集累积Loss值为：141.09327697753906，测试集上的预测正确率为0.683899998664856。\u001B[0m\n",
      "\u001B[35m15:16:25\u001B[0m - \u001B[36mINFO\u001B[0m - \u001B[39m第7轮的训练集累积Loss值为：665.0726928710938，测试集累积Loss值为：136.00230407714844，测试集上的预测正确率为0.6998999714851379。\u001B[0m\n",
      "\u001B[35m15:17:03\u001B[0m - \u001B[36mINFO\u001B[0m - \u001B[39m第8轮的训练集累积Loss值为：642.4857177734375，测试集累积Loss值为：132.40689086914062，测试集上的预测正确率为0.704800009727478。\u001B[0m\n",
      "\u001B[35m15:17:44\u001B[0m - \u001B[36mINFO\u001B[0m - \u001B[39m第9轮的训练集累积Loss值为：621.1688842773438，测试集累积Loss值为：127.75370788574219，测试集上的预测正确率为0.7145000100135803。\u001B[0m\n",
      "\u001B[35m15:18:24\u001B[0m - \u001B[36mINFO\u001B[0m - \u001B[39m第10轮的训练集累积Loss值为：600.7660522460938，测试集累积Loss值为：126.13912200927734，测试集上的预测正确率为0.7206000089645386。\u001B[0m\n",
      "\u001B[35m15:19:03\u001B[0m - \u001B[36mINFO\u001B[0m - \u001B[39m第11轮的训练集累积Loss值为：585.84814453125，测试集累积Loss值为：122.24563598632812，测试集上的预测正确率为0.727899968624115。\u001B[0m\n",
      "\u001B[35m15:19:40\u001B[0m - \u001B[36mINFO\u001B[0m - \u001B[39m第12轮的训练集累积Loss值为：567.51123046875，测试集累积Loss值为：120.40596008300781，测试集上的预测正确率为0.7322999835014343。\u001B[0m\n",
      "\u001B[35m15:20:17\u001B[0m - \u001B[36mINFO\u001B[0m - \u001B[39m第13轮的训练集累积Loss值为：555.4261474609375，测试集累积Loss值为：118.43434143066406，测试集上的预测正确率为0.7353999614715576。\u001B[0m\n",
      "\u001B[35m15:20:56\u001B[0m - \u001B[36mINFO\u001B[0m - \u001B[39m第14轮的训练集累积Loss值为：544.2164306640625，测试集累积Loss值为：118.13006591796875，测试集上的预测正确率为0.7382000088691711。\u001B[0m\n",
      "\u001B[35m15:21:34\u001B[0m - \u001B[36mINFO\u001B[0m - \u001B[39m第15轮的训练集累积Loss值为：531.0469360351562，测试集累积Loss值为：114.69305419921875，测试集上的预测正确率为0.7471999526023865。\u001B[0m\n",
      "\u001B[35m15:22:11\u001B[0m - \u001B[36mINFO\u001B[0m - \u001B[39m第16轮的训练集累积Loss值为：521.7212524414062，测试集累积Loss值为：113.80370330810547，测试集上的预测正确率为0.7497000098228455。\u001B[0m\n",
      "\u001B[35m15:22:48\u001B[0m - \u001B[36mINFO\u001B[0m - \u001B[39m第17轮的训练集累积Loss值为：511.53326416015625，测试集累积Loss值为：112.9814453125，测试集上的预测正确率为0.7484999895095825。\u001B[0m\n",
      "\u001B[35m15:23:25\u001B[0m - \u001B[36mINFO\u001B[0m - \u001B[39m第18轮的训练集累积Loss值为：501.81195068359375，测试集累积Loss值为：110.32935333251953，测试集上的预测正确率为0.7545999884605408。\u001B[0m\n",
      "\u001B[35m15:24:04\u001B[0m - \u001B[36mINFO\u001B[0m - \u001B[39m第19轮的训练集累积Loss值为：495.3683776855469，测试集累积Loss值为：108.85781860351562，测试集上的预测正确率为0.7601999640464783。\u001B[0m\n",
      "\u001B[35m15:24:42\u001B[0m - \u001B[36mINFO\u001B[0m - \u001B[39m第20轮的训练集累积Loss值为：485.3986511230469，测试集累积Loss值为：108.79080963134766，测试集上的预测正确率为0.7603999972343445。\u001B[0m\n",
      "\u001B[35m15:25:20\u001B[0m - \u001B[36mINFO\u001B[0m - \u001B[39m第21轮的训练集累积Loss值为：477.3746643066406，测试集累积Loss值为：106.85809326171875，测试集上的预测正确率为0.7615999579429626。\u001B[0m\n",
      "\u001B[35m15:25:57\u001B[0m - \u001B[36mINFO\u001B[0m - \u001B[39m第22轮的训练集累积Loss值为：470.311767578125，测试集累积Loss值为：105.20755767822266，测试集上的预测正确率为0.7649999856948853。\u001B[0m\n",
      "\u001B[35m15:26:35\u001B[0m - \u001B[36mINFO\u001B[0m - \u001B[39m第23轮的训练集累积Loss值为：462.9705810546875，测试集累积Loss值为：104.89178466796875，测试集上的预测正确率为0.7682999968528748。\u001B[0m\n",
      "\u001B[35m15:27:16\u001B[0m - \u001B[36mINFO\u001B[0m - \u001B[39m第24轮的训练集累积Loss值为：457.3564147949219，测试集累积Loss值为：103.5488052368164，测试集上的预测正确率为0.7692999839782715。\u001B[0m\n",
      "\u001B[35m15:27:52\u001B[0m - \u001B[36mINFO\u001B[0m - \u001B[39m第25轮的训练集累积Loss值为：449.80877685546875，测试集累积Loss值为：102.4227294921875，测试集上的预测正确率为0.7741999626159668。\u001B[0m\n",
      "\u001B[35m15:28:30\u001B[0m - \u001B[36mINFO\u001B[0m - \u001B[39m第26轮的训练集累积Loss值为：444.15118408203125，测试集累积Loss值为：101.24797821044922，测试集上的预测正确率为0.7759999632835388。\u001B[0m\n",
      "\u001B[35m15:29:07\u001B[0m - \u001B[36mINFO\u001B[0m - \u001B[39m第27轮的训练集累积Loss值为：436.8749084472656，测试集累积Loss值为：101.28936004638672，测试集上的预测正确率为0.776699960231781。\u001B[0m\n",
      "\u001B[35m15:29:42\u001B[0m - \u001B[36mINFO\u001B[0m - \u001B[39m第28轮的训练集累积Loss值为：432.4071350097656，测试集累积Loss值为：99.73303985595703，测试集上的预测正确率为0.7789999842643738。\u001B[0m\n",
      "\u001B[35m15:30:21\u001B[0m - \u001B[36mINFO\u001B[0m - \u001B[39m第29轮的训练集累积Loss值为：424.48724365234375，测试集累积Loss值为：99.02793884277344，测试集上的预测正确率为0.7770999670028687。\u001B[0m\n",
      "\u001B[35m15:30:58\u001B[0m - \u001B[36mINFO\u001B[0m - \u001B[39m第30轮的训练集累积Loss值为：419.71221923828125，测试集累积Loss值为：98.18578338623047，测试集上的预测正确率为0.7858999967575073。\u001B[0m\n",
      "\u001B[35m15:31:39\u001B[0m - \u001B[36mINFO\u001B[0m - \u001B[39m第31轮的训练集累积Loss值为：414.38916015625，测试集累积Loss值为：98.18370819091797，测试集上的预测正确率为0.7827999591827393。\u001B[0m\n",
      "\u001B[35m15:32:18\u001B[0m - \u001B[36mINFO\u001B[0m - \u001B[39m第32轮的训练集累积Loss值为：409.0823669433594，测试集累积Loss值为：97.32306671142578，测试集上的预测正确率为0.7863999605178833。\u001B[0m\n",
      "\u001B[35m15:32:54\u001B[0m - \u001B[36mINFO\u001B[0m - \u001B[39m第33轮的训练集累积Loss值为：403.80596923828125，测试集累积Loss值为：96.804931640625，测试集上的预测正确率为0.7870000004768372。\u001B[0m\n",
      "\u001B[35m15:33:34\u001B[0m - \u001B[36mINFO\u001B[0m - \u001B[39m第34轮的训练集累积Loss值为：399.7103271484375，测试集累积Loss值为：96.03653717041016，测试集上的预测正确率为0.7874999642372131。\u001B[0m\n",
      "\u001B[35m15:34:14\u001B[0m - \u001B[36mINFO\u001B[0m - \u001B[39m第35轮的训练集累积Loss值为：393.9873962402344，测试集累积Loss值为：95.11139678955078，测试集上的预测正确率为0.7892000079154968。\u001B[0m\n",
      "\u001B[35m15:34:54\u001B[0m - \u001B[36mINFO\u001B[0m - \u001B[39m第36轮的训练集累积Loss值为：391.1512145996094，测试集累积Loss值为：95.68876647949219，测试集上的预测正确率为0.7894999980926514。\u001B[0m\n",
      "\u001B[35m15:35:30\u001B[0m - \u001B[36mINFO\u001B[0m - \u001B[39m第37轮的训练集累积Loss值为：385.1211242675781，测试集累积Loss值为：93.07965850830078，测试集上的预测正确率为0.7937999963760376。\u001B[0m\n",
      "\u001B[35m15:36:07\u001B[0m - \u001B[36mINFO\u001B[0m - \u001B[39m第38轮的训练集累积Loss值为：381.5507507324219，测试集累积Loss值为：94.00276184082031，测试集上的预测正确率为0.7935000061988831。\u001B[0m\n",
      "\u001B[35m15:36:44\u001B[0m - \u001B[36mINFO\u001B[0m - \u001B[39m第39轮的训练集累积Loss值为：377.23907470703125，测试集累积Loss值为：93.49482727050781，测试集上的预测正确率为0.7960999608039856。\u001B[0m\n",
      "\u001B[35m15:37:21\u001B[0m - \u001B[36mINFO\u001B[0m - \u001B[39m第40轮的训练集累积Loss值为：373.5048522949219，测试集累积Loss值为：93.47019958496094，测试集上的预测正确率为0.7954999804496765。\u001B[0m\n",
      "\u001B[35m15:37:57\u001B[0m - \u001B[36mINFO\u001B[0m - \u001B[39m第41轮的训练集累积Loss值为：370.3091735839844，测试集累积Loss值为：92.97261810302734，测试集上的预测正确率为0.7955999970436096。\u001B[0m\n",
      "\u001B[35m15:38:33\u001B[0m - \u001B[36mINFO\u001B[0m - \u001B[39m第42轮的训练集累积Loss值为：365.99957275390625，测试集累积Loss值为：91.37781524658203，测试集上的预测正确率为0.7962999939918518。\u001B[0m\n",
      "\u001B[35m15:39:10\u001B[0m - \u001B[36mINFO\u001B[0m - \u001B[39m第43轮的训练集累积Loss值为：360.85491943359375，测试集累积Loss值为：92.36807250976562，测试集上的预测正确率为0.7978000044822693。\u001B[0m\n",
      "\u001B[35m15:39:47\u001B[0m - \u001B[36mINFO\u001B[0m - \u001B[39m第44轮的训练集累积Loss值为：357.9024353027344，测试集累积Loss值为：92.19283294677734，测试集上的预测正确率为0.7991999983787537。\u001B[0m\n",
      "\u001B[35m15:40:26\u001B[0m - \u001B[36mINFO\u001B[0m - \u001B[39m第45轮的训练集累积Loss值为：354.0244445800781，测试集累积Loss值为：90.90505981445312，测试集上的预测正确率为0.8032000064849854。\u001B[0m\n",
      "\u001B[35m15:41:03\u001B[0m - \u001B[36mINFO\u001B[0m - \u001B[39m第46轮的训练集累积Loss值为：349.77947998046875，测试集累积Loss值为：90.07601928710938，测试集上的预测正确率为0.802299976348877。\u001B[0m\n",
      "\u001B[35m15:41:40\u001B[0m - \u001B[36mINFO\u001B[0m - \u001B[39m第47轮的训练集累积Loss值为：348.4726867675781，测试集累积Loss值为：90.6182861328125，测试集上的预测正确率为0.8019999861717224。\u001B[0m\n",
      "\u001B[35m15:42:21\u001B[0m - \u001B[36mINFO\u001B[0m - \u001B[39m第48轮的训练集累积Loss值为：343.7353515625，测试集累积Loss值为：89.74440002441406，测试集上的预测正确率为0.8070999979972839。\u001B[0m\n",
      "\u001B[35m15:43:01\u001B[0m - \u001B[36mINFO\u001B[0m - \u001B[39m第49轮的训练集累积Loss值为：339.7540283203125，测试集累积Loss值为：88.8681869506836，测试集上的预测正确率为0.8027999997138977。\u001B[0m\n",
      "CPU times: total: 7min 38s\n",
      "Wall time: 31min 36s\n"
     ]
    }
   ],
   "source": [
    "%%time\n",
    "for epoch in range(50):\n",
    "    epoch_train_loss = 0  # 对每一轮的loss进行累加，观察经过多轮学习后，loss是否有下降\n",
    "    epoch_test_loss = 0\n",
    "    train_right_num = 0\n",
    "    pred_right_num = 0  # 测试集中预测正确的数量\n",
    "\n",
    "    # 对训练集的每一个批量数据进行训练\n",
    "    # module.train()  # 这一行代码可有可无，只针对特定模型需要设置，官方文档：https://blog.csdn.net/u014764291/article/details/105924182\n",
    "    for i, data in enumerate(train_loader):\n",
    "        imgs, targets = data\n",
    "        # 将数据转移到GPU\n",
    "        imgs = imgs.to(device)\n",
    "        targets = targets.to(device)\n",
    "\n",
    "        outputs = vgg_pretrained(imgs)\n",
    "        res_loss = loss_fun(outputs, targets)\n",
    "        optimizer.zero_grad()\n",
    "        res_loss.backward()\n",
    "        optimizer.step()\n",
    "        epoch_train_loss += res_loss\n",
    "\n",
    "        train_right_num += (outputs.argmax(1) == targets).sum()\n",
    "\n",
    "    # 检验当前模型在测试集上的效果\n",
    "    # module.eval()  # 参考module.train()\n",
    "    with torch.no_grad():  # 在测试集上检验效果，不需要进行梯度下降优化\n",
    "        for i, data in enumerate(test_loader):\n",
    "            imgs, targets = data\n",
    "            # 将数据转移到GPU\n",
    "            imgs = imgs.to(device)\n",
    "            targets = targets.to(device)\n",
    "\n",
    "            outputs = vgg_pretrained(imgs)\n",
    "            res_loss = loss_fun(outputs, targets)\n",
    "            epoch_test_loss += res_loss\n",
    "\n",
    "            item_train_num = epoch * len(data) + i + 1\n",
    "\n",
    "            pred_right_num += (outputs.argmax(1) == targets).sum()\n",
    "\n",
    "    torch.save(vgg_pretrained, f'./module/module_{epoch}.pth')\n",
    "    writer.add_scalar('Loss/Train', epoch_train_loss.item(), epoch)\n",
    "    writer.add_scalar('Loss/Test', epoch_test_loss.item(), epoch)\n",
    "    writer.add_scalar('Accuracy/Train', train_right_num / len(train_data), epoch)\n",
    "    writer.add_scalar('Accuracy/Test', pred_right_num / len(test_data), epoch)\n",
    "\n",
    "    hues.info(\n",
    "        f'第{epoch}轮的训练集累积Loss值为：{epoch_train_loss.item()}，测试集累积Loss值为：{epoch_test_loss.item()}，测试集上的预测正确率为{pred_right_num / len(test_data)}。')\n",
    "\n",
    "# tensorboard --logdir='logs'"
   ],
   "metadata": {
    "collapsed": false,
    "ExecuteTime": {
     "end_time": "2023-06-26T07:43:01.184508Z",
     "start_time": "2023-06-26T07:11:24.711199400Z"
    }
   }
  },
  {
   "cell_type": "code",
   "execution_count": 18,
   "outputs": [],
   "source": [
    "imgs = None\n",
    "for i, data in enumerate(test_loader):\n",
    "    imgs, targets = data\n",
    "    imgs = imgs.to(device)\n",
    "    break\n",
    "\n",
    "writer.add_graph(vgg_pretrained, imgs)\n",
    "writer.close()"
   ],
   "metadata": {
    "collapsed": false,
    "ExecuteTime": {
     "end_time": "2023-06-26T08:51:45.697193400Z",
     "start_time": "2023-06-26T08:51:40.907277900Z"
    }
   }
  },
  {
   "cell_type": "code",
   "execution_count": 19,
   "outputs": [],
   "source": [
    "# 模型的保存：保存模型结构+模型参数\n",
    "torch.save(vgg_pretrained, 'SavedModule.pth')"
   ],
   "metadata": {
    "collapsed": false,
    "ExecuteTime": {
     "end_time": "2023-06-26T08:54:56.051335800Z",
     "start_time": "2023-06-26T08:54:55.128555700Z"
    }
   }
  },
  {
   "cell_type": "code",
   "execution_count": 20,
   "outputs": [
    {
     "data": {
      "text/plain": "VGG(\n  (features): Sequential(\n    (0): Conv2d(3, 64, kernel_size=(3, 3), stride=(1, 1), padding=(1, 1))\n    (1): ReLU(inplace=True)\n    (2): Conv2d(64, 64, kernel_size=(3, 3), stride=(1, 1), padding=(1, 1))\n    (3): ReLU(inplace=True)\n    (4): MaxPool2d(kernel_size=2, stride=2, padding=0, dilation=1, ceil_mode=False)\n    (5): Conv2d(64, 128, kernel_size=(3, 3), stride=(1, 1), padding=(1, 1))\n    (6): ReLU(inplace=True)\n    (7): Conv2d(128, 128, kernel_size=(3, 3), stride=(1, 1), padding=(1, 1))\n    (8): ReLU(inplace=True)\n    (9): MaxPool2d(kernel_size=2, stride=2, padding=0, dilation=1, ceil_mode=False)\n    (10): Conv2d(128, 256, kernel_size=(3, 3), stride=(1, 1), padding=(1, 1))\n    (11): ReLU(inplace=True)\n    (12): Conv2d(256, 256, kernel_size=(3, 3), stride=(1, 1), padding=(1, 1))\n    (13): ReLU(inplace=True)\n    (14): Conv2d(256, 256, kernel_size=(3, 3), stride=(1, 1), padding=(1, 1))\n    (15): ReLU(inplace=True)\n    (16): MaxPool2d(kernel_size=2, stride=2, padding=0, dilation=1, ceil_mode=False)\n    (17): Conv2d(256, 512, kernel_size=(3, 3), stride=(1, 1), padding=(1, 1))\n    (18): ReLU(inplace=True)\n    (19): Conv2d(512, 512, kernel_size=(3, 3), stride=(1, 1), padding=(1, 1))\n    (20): ReLU(inplace=True)\n    (21): Conv2d(512, 512, kernel_size=(3, 3), stride=(1, 1), padding=(1, 1))\n    (22): ReLU(inplace=True)\n    (23): MaxPool2d(kernel_size=2, stride=2, padding=0, dilation=1, ceil_mode=False)\n    (24): Conv2d(512, 512, kernel_size=(3, 3), stride=(1, 1), padding=(1, 1))\n    (25): ReLU(inplace=True)\n    (26): Conv2d(512, 512, kernel_size=(3, 3), stride=(1, 1), padding=(1, 1))\n    (27): ReLU(inplace=True)\n    (28): Conv2d(512, 512, kernel_size=(3, 3), stride=(1, 1), padding=(1, 1))\n    (29): ReLU(inplace=True)\n    (30): MaxPool2d(kernel_size=2, stride=2, padding=0, dilation=1, ceil_mode=False)\n  )\n  (avgpool): AdaptiveAvgPool2d(output_size=(7, 7))\n  (classifier): Sequential(\n    (0): Linear(in_features=25088, out_features=4096, bias=True)\n    (1): ReLU(inplace=True)\n    (2): Dropout(p=0.5, inplace=False)\n    (3): Linear(in_features=4096, out_features=4096, bias=True)\n    (4): ReLU(inplace=True)\n    (5): Dropout(p=0.5, inplace=False)\n    (6): Linear(in_features=4096, out_features=1000, bias=True)\n    (Linear): Linear(in_features=1000, out_features=10, bias=True)\n  )\n)"
     },
     "execution_count": 20,
     "metadata": {},
     "output_type": "execute_result"
    }
   ],
   "source": [
    "# 模型的加载\n",
    "model = torch.load('./SavedModule.pth')\n",
    "model"
   ],
   "metadata": {
    "collapsed": false,
    "ExecuteTime": {
     "end_time": "2023-06-26T08:55:07.061358900Z",
     "start_time": "2023-06-26T08:55:06.742095200Z"
    }
   }
  },
  {
   "cell_type": "code",
   "execution_count": 22,
   "outputs": [],
   "source": [
    "# 第二种保存方式：只保存模型参数\n",
    "torch.save(vgg_pretrained.state_dict(), 'SavedStateDict.pth')"
   ],
   "metadata": {
    "collapsed": false,
    "ExecuteTime": {
     "end_time": "2023-06-26T08:57:31.044261200Z",
     "start_time": "2023-06-26T08:57:30.203606Z"
    }
   }
  },
  {
   "cell_type": "code",
   "execution_count": 23,
   "outputs": [
    {
     "data": {
      "text/plain": "VGG(\n  (features): Sequential(\n    (0): Conv2d(3, 64, kernel_size=(3, 3), stride=(1, 1), padding=(1, 1))\n    (1): ReLU(inplace=True)\n    (2): Conv2d(64, 64, kernel_size=(3, 3), stride=(1, 1), padding=(1, 1))\n    (3): ReLU(inplace=True)\n    (4): MaxPool2d(kernel_size=2, stride=2, padding=0, dilation=1, ceil_mode=False)\n    (5): Conv2d(64, 128, kernel_size=(3, 3), stride=(1, 1), padding=(1, 1))\n    (6): ReLU(inplace=True)\n    (7): Conv2d(128, 128, kernel_size=(3, 3), stride=(1, 1), padding=(1, 1))\n    (8): ReLU(inplace=True)\n    (9): MaxPool2d(kernel_size=2, stride=2, padding=0, dilation=1, ceil_mode=False)\n    (10): Conv2d(128, 256, kernel_size=(3, 3), stride=(1, 1), padding=(1, 1))\n    (11): ReLU(inplace=True)\n    (12): Conv2d(256, 256, kernel_size=(3, 3), stride=(1, 1), padding=(1, 1))\n    (13): ReLU(inplace=True)\n    (14): Conv2d(256, 256, kernel_size=(3, 3), stride=(1, 1), padding=(1, 1))\n    (15): ReLU(inplace=True)\n    (16): MaxPool2d(kernel_size=2, stride=2, padding=0, dilation=1, ceil_mode=False)\n    (17): Conv2d(256, 512, kernel_size=(3, 3), stride=(1, 1), padding=(1, 1))\n    (18): ReLU(inplace=True)\n    (19): Conv2d(512, 512, kernel_size=(3, 3), stride=(1, 1), padding=(1, 1))\n    (20): ReLU(inplace=True)\n    (21): Conv2d(512, 512, kernel_size=(3, 3), stride=(1, 1), padding=(1, 1))\n    (22): ReLU(inplace=True)\n    (23): MaxPool2d(kernel_size=2, stride=2, padding=0, dilation=1, ceil_mode=False)\n    (24): Conv2d(512, 512, kernel_size=(3, 3), stride=(1, 1), padding=(1, 1))\n    (25): ReLU(inplace=True)\n    (26): Conv2d(512, 512, kernel_size=(3, 3), stride=(1, 1), padding=(1, 1))\n    (27): ReLU(inplace=True)\n    (28): Conv2d(512, 512, kernel_size=(3, 3), stride=(1, 1), padding=(1, 1))\n    (29): ReLU(inplace=True)\n    (30): MaxPool2d(kernel_size=2, stride=2, padding=0, dilation=1, ceil_mode=False)\n  )\n  (avgpool): AdaptiveAvgPool2d(output_size=(7, 7))\n  (classifier): Sequential(\n    (0): Linear(in_features=25088, out_features=4096, bias=True)\n    (1): ReLU(inplace=True)\n    (2): Dropout(p=0.5, inplace=False)\n    (3): Linear(in_features=4096, out_features=4096, bias=True)\n    (4): ReLU(inplace=True)\n    (5): Dropout(p=0.5, inplace=False)\n    (6): Linear(in_features=4096, out_features=1000, bias=True)\n    (Linear): Linear(in_features=1000, out_features=10, bias=True)\n  )\n)"
     },
     "execution_count": 23,
     "metadata": {},
     "output_type": "execute_result"
    }
   ],
   "source": [
    "# 模型的加载\n",
    "model = torchvision.models.vgg16(weights=torchvision.models.VGG16_Weights.IMAGENET1K_V1)\n",
    "model.classifier.add_module('Linear', torch.nn.Linear(1000, 10))\n",
    "model.load_state_dict(torch.load('SavedStateDict.pth'))\n",
    "model"
   ],
   "metadata": {
    "collapsed": false,
    "ExecuteTime": {
     "end_time": "2023-06-26T08:57:33.163747600Z",
     "start_time": "2023-06-26T08:57:31.831880500Z"
    }
   }
  }
 ],
 "metadata": {
  "kernelspec": {
   "display_name": "Python 3",
   "language": "python",
   "name": "python3"
  },
  "language_info": {
   "codemirror_mode": {
    "name": "ipython",
    "version": 2
   },
   "file_extension": ".py",
   "mimetype": "text/x-python",
   "name": "python",
   "nbconvert_exporter": "python",
   "pygments_lexer": "ipython2",
   "version": "2.7.6"
  }
 },
 "nbformat": 4,
 "nbformat_minor": 0
}
