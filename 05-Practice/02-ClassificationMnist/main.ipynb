{
 "cells": [
  {
   "cell_type": "markdown",
   "source": [
    "### Mnist分类任务：\n",
    "\n",
    "- 网络基本构建与训练方法，常用函数解析\n",
    "\n",
    "- torch.nn.functional模块\n",
    "\n",
    "- nn.Module模块\n"
   ],
   "metadata": {
    "collapsed": false
   }
  },
  {
   "cell_type": "code",
   "execution_count": 1,
   "metadata": {
    "collapsed": true,
    "ExecuteTime": {
     "end_time": "2023-07-03T12:08:58.549057300Z",
     "start_time": "2023-07-03T12:08:58.494627Z"
    }
   },
   "outputs": [],
   "source": [
    "from pathlib import Path\n",
    "import requests\n",
    "\n",
    "DATA_PATH = Path(\"data\")\n",
    "PATH = DATA_PATH / \"mnist\"\n",
    "\n",
    "PATH.mkdir(parents=True, exist_ok=True)\n",
    "\n",
    "URL = \"http://deeplearning.net/data/mnist/\"\n",
    "FILENAME = \"mnist.pkl.gz\"\n",
    "\n",
    "if not (PATH / FILENAME).exists():\n",
    "    content = requests.get(URL + FILENAME).content\n",
    "    (PATH / FILENAME).open(\"wb\").write(content)"
   ]
  },
  {
   "cell_type": "code",
   "execution_count": 2,
   "outputs": [],
   "source": [
    "import pickle\n",
    "import gzip\n",
    "\n",
    "with gzip.open((PATH / FILENAME).as_posix(), \"rb\") as f:\n",
    "    ((X_train, y_train), (x_valid, y_valid), _) = pickle.load(f, encoding=\"latin-1\")"
   ],
   "metadata": {
    "collapsed": false,
    "ExecuteTime": {
     "end_time": "2023-07-03T12:08:59.124302500Z",
     "start_time": "2023-07-03T12:08:58.549057300Z"
    }
   }
  },
  {
   "cell_type": "code",
   "execution_count": 3,
   "outputs": [
    {
     "name": "stdout",
     "output_type": "stream",
     "text": [
      "(50000, 784)\n"
     ]
    },
    {
     "data": {
      "text/plain": "<Figure size 640x480 with 1 Axes>",
      "image/png": "[encoded data removed]"
     },
     "metadata": {},
     "output_type": "display_data"
    }
   ],
   "source": [
    "# 784是mnist数据集每个样本的像素点个数，，诶个像素点为28×28=784\n",
    "from matplotlib import pyplot\n",
    "\n",
    "pyplot.imshow(X_train[0].reshape((28, 28)), cmap=\"gray\")\n",
    "print(X_train.shape)"
   ],
   "metadata": {
    "collapsed": false,
    "ExecuteTime": {
     "end_time": "2023-07-03T12:08:59.653717200Z",
     "start_time": "2023-07-03T12:08:59.125302900Z"
    }
   }
  },
  {
   "cell_type": "markdown",
   "source": [
    "![](https://i.imgur.com/G9Peiff.png)\n",
    "\n",
    "![](https://i.imgur.com/D5cN7nt.png)"
   ],
   "metadata": {
    "collapsed": false
   }
  },
  {
   "cell_type": "code",
   "execution_count": 4,
   "outputs": [
    {
     "name": "stdout",
     "output_type": "stream",
     "text": [
      "tensor([[0., 0., 0.,  ..., 0., 0., 0.],\n",
      "        [0., 0., 0.,  ..., 0., 0., 0.],\n",
      "        [0., 0., 0.,  ..., 0., 0., 0.],\n",
      "        ...,\n",
      "        [0., 0., 0.,  ..., 0., 0., 0.],\n",
      "        [0., 0., 0.,  ..., 0., 0., 0.],\n",
      "        [0., 0., 0.,  ..., 0., 0., 0.]]) tensor([5, 0, 4,  ..., 8, 4, 8])\n",
      "torch.Size([50000, 784])\n",
      "tensor(0) tensor(9)\n"
     ]
    }
   ],
   "source": [
    "# 注意数据需转换成tensor才能参与后续建模训练\n",
    "import torch\n",
    "\n",
    "X_train, y_train, x_valid, y_valid = map(\n",
    "    torch.tensor, (X_train, y_train, x_valid, y_valid)\n",
    ")\n",
    "n, c = X_train.shape\n",
    "X_train, X_train.shape, y_train.min(), y_train.max()\n",
    "print(X_train, y_train)\n",
    "print(X_train.shape)\n",
    "print(y_train.min(), y_train.max())"
   ],
   "metadata": {
    "collapsed": false,
    "ExecuteTime": {
     "end_time": "2023-07-03T12:09:04.606458100Z",
     "start_time": "2023-07-03T12:08:59.645533800Z"
    }
   }
  },
  {
   "cell_type": "code",
   "execution_count": 5,
   "outputs": [
    {
     "data": {
      "text/plain": "(torch.Size([50000, 784]), torch.Size([50000]))"
     },
     "execution_count": 5,
     "metadata": {},
     "output_type": "execute_result"
    }
   ],
   "source": [
    "X_train.shape, y_train.shape"
   ],
   "metadata": {
    "collapsed": false,
    "ExecuteTime": {
     "end_time": "2023-07-03T12:09:04.612366100Z",
     "start_time": "2023-07-03T12:09:04.606458100Z"
    }
   }
  },
  {
   "cell_type": "code",
   "execution_count": 6,
   "outputs": [],
   "source": [
    "# torch.nn.functional 很多层和函数在这里都会见到\n",
    "# torch.nn.functional中有很多功能，后续会常用的。那什么时候使用nn.Module，什么时候使用nn.functional呢？一般情况下，如果模型有可学习的参数，最好用nn.Module，其他情况nn.functional相对更简单一些\n",
    "import torch.nn.functional as F\n",
    "\n",
    "loss_fun = F.cross_entropy\n",
    "\n",
    "\n",
    "def model(X, weights, bias):\n",
    "    return X.mm(weights) + bias"
   ],
   "metadata": {
    "collapsed": false,
    "ExecuteTime": {
     "end_time": "2023-07-03T12:09:04.618778500Z",
     "start_time": "2023-07-03T12:09:04.611366400Z"
    }
   }
  },
  {
   "cell_type": "code",
   "execution_count": 7,
   "outputs": [
    {
     "data": {
      "text/plain": "tensor(11.5085, grad_fn=<NllLossBackward0>)"
     },
     "execution_count": 7,
     "metadata": {},
     "output_type": "execute_result"
    }
   ],
   "source": [
    "batch_size = 64\n",
    "X = X_train[:batch_size]\n",
    "y = y_train[:batch_size]\n",
    "\n",
    "weights = torch.randn([784, 10], dtype=torch.float32, requires_grad=True)\n",
    "bias = torch.zeros(10, requires_grad=True)\n",
    "\n",
    "loss_fun(model(X, weights, bias), y)"
   ],
   "metadata": {
    "collapsed": false,
    "ExecuteTime": {
     "end_time": "2023-07-03T12:09:04.700742900Z",
     "start_time": "2023-07-03T12:09:04.615779500Z"
    }
   }
  },
  {
   "cell_type": "code",
   "execution_count": 8,
   "outputs": [
    {
     "data": {
      "text/plain": "(torch.Size([64, 784]), torch.Size([64]))"
     },
     "execution_count": 8,
     "metadata": {},
     "output_type": "execute_result"
    }
   ],
   "source": [
    "X.shape, y.shape"
   ],
   "metadata": {
    "collapsed": false,
    "ExecuteTime": {
     "end_time": "2023-07-03T12:09:04.701742400Z",
     "start_time": "2023-07-03T12:09:04.668461600Z"
    }
   }
  },
  {
   "cell_type": "code",
   "execution_count": 9,
   "outputs": [
    {
     "data": {
      "text/plain": "Model(\n  (model): Sequential(\n    (0): Linear(in_features=784, out_features=128, bias=True)\n    (1): ReLU()\n    (2): Linear(in_features=128, out_features=256, bias=True)\n    (3): ReLU()\n    (4): Linear(in_features=256, out_features=10, bias=True)\n  )\n)"
     },
     "execution_count": 9,
     "metadata": {},
     "output_type": "execute_result"
    }
   ],
   "source": [
    "# 创建一个model来更简化代码\n",
    "# - 必须继承nn.Module且在其构造函数中需调用nn.Module的构造函数\n",
    "# - 无需写反向传播函数，nn.Module能够利用autograd自动实现反向传播\n",
    "# - Module中的可学习参数可以通过named_parameters()或者parameters()返回迭代器\n",
    "import torch\n",
    "from torch.nn import Module, Sequential, Linear, ReLU\n",
    "\n",
    "\n",
    "class Model(Module):\n",
    "    def __init__(self):\n",
    "        super(Model, self).__init__()\n",
    "        self.model = Sequential(\n",
    "            Linear(784, 128),\n",
    "            ReLU(),\n",
    "            Linear(128, 256),\n",
    "            ReLU(),\n",
    "            Linear(256, 10)\n",
    "        )\n",
    "\n",
    "    def forward(self, X):\n",
    "        return self.model(X)\n",
    "\n",
    "\n",
    "model = Model()\n",
    "model"
   ],
   "metadata": {
    "collapsed": false,
    "ExecuteTime": {
     "end_time": "2023-07-03T12:09:04.701742400Z",
     "start_time": "2023-07-03T12:09:04.687357100Z"
    }
   }
  },
  {
   "cell_type": "code",
   "execution_count": 10,
   "outputs": [
    {
     "name": "stdout",
     "output_type": "stream",
     "text": [
      "model.0.weight Parameter containing:\n",
      "tensor([[ 3.5076e-02, -1.2868e-02, -1.4322e-02,  ..., -1.8779e-02,\n",
      "         -1.6244e-02, -2.0367e-02],\n",
      "        [ 6.7713e-03, -2.4848e-02,  4.0217e-04,  ...,  1.4784e-02,\n",
      "          2.2579e-02, -2.5672e-03],\n",
      "        [ 2.6382e-02, -1.4209e-02, -2.3449e-02,  ...,  2.6159e-02,\n",
      "         -5.8772e-03,  3.1374e-04],\n",
      "        ...,\n",
      "        [ 6.9920e-05, -2.3099e-03, -2.4268e-02,  ...,  2.0900e-02,\n",
      "          2.7689e-02, -3.1190e-03],\n",
      "        [-7.9317e-03, -3.2270e-03,  3.0370e-02,  ...,  1.4918e-02,\n",
      "          6.0771e-03,  1.6667e-02],\n",
      "        [ 2.8760e-02,  1.6946e-02, -3.0208e-05,  ..., -4.7814e-04,\n",
      "          1.2323e-02,  2.2819e-02]], requires_grad=True) torch.Size([128, 784])\n",
      "model.0.bias Parameter containing:\n",
      "tensor([ 1.9878e-02,  1.7936e-03, -1.1283e-02, -2.6750e-02,  2.1729e-02,\n",
      "        -2.0042e-02, -8.5084e-03, -3.0822e-02,  2.6199e-02,  1.6978e-02,\n",
      "        -3.5667e-02, -1.2968e-03, -3.5672e-02,  1.4293e-02,  2.2649e-02,\n",
      "         2.5049e-03, -3.0114e-03, -1.3513e-02, -2.5520e-02, -2.4068e-02,\n",
      "         3.2042e-02, -1.5205e-02, -1.2748e-02,  2.6624e-02,  1.2435e-02,\n",
      "        -3.3961e-02, -1.2928e-02, -2.0220e-02,  3.3908e-02,  3.5438e-02,\n",
      "         3.2336e-04,  2.3814e-03,  2.1310e-02,  1.3415e-02, -2.4823e-02,\n",
      "        -1.6187e-02, -3.4384e-02, -2.9019e-02,  1.7695e-02,  2.7925e-02,\n",
      "         3.3949e-02, -1.8659e-02, -4.5481e-03,  2.1817e-02,  3.3337e-02,\n",
      "        -1.2134e-02,  2.6749e-02, -5.7459e-03,  1.0220e-02, -2.2231e-02,\n",
      "        -6.4146e-03,  3.0399e-02, -2.9175e-02,  7.5216e-03,  3.1182e-02,\n",
      "        -3.5031e-02,  2.3894e-02,  1.7625e-03, -2.1982e-02, -1.6100e-02,\n",
      "         6.7236e-03,  3.3658e-02,  2.0579e-02, -3.4736e-02,  8.8651e-03,\n",
      "        -3.5309e-02,  1.1111e-02, -1.8144e-04,  1.1090e-02,  7.5019e-03,\n",
      "        -2.8456e-02,  1.2586e-02, -2.2321e-02, -1.3743e-02,  1.1902e-02,\n",
      "        -1.9151e-03,  3.2660e-02,  3.1656e-02, -1.9908e-02,  2.2144e-02,\n",
      "         2.4678e-03,  5.0265e-05,  2.5527e-02, -3.0467e-02,  2.6445e-02,\n",
      "         7.8913e-03, -8.6732e-03,  5.4233e-03,  2.5320e-02, -8.7423e-03,\n",
      "        -2.0307e-02, -1.5105e-03, -9.0088e-03, -1.2098e-03,  2.2968e-03,\n",
      "         3.5125e-02, -2.3294e-02, -5.3770e-03, -1.1037e-02, -2.6025e-02,\n",
      "        -1.3596e-02,  9.5566e-03,  2.5526e-03, -1.5663e-02, -1.7689e-03,\n",
      "         1.5075e-02,  3.2729e-02, -3.0746e-02, -6.8946e-03,  1.8804e-02,\n",
      "         2.7732e-02, -3.1093e-02,  2.5077e-02, -9.8087e-03,  2.1119e-02,\n",
      "        -3.1960e-02, -2.2088e-02, -2.4659e-02, -1.7081e-02,  3.1867e-02,\n",
      "         1.1507e-02, -1.7295e-02, -6.7996e-03, -2.6363e-02,  1.3977e-02,\n",
      "         1.6380e-02,  1.7287e-02,  8.6811e-03], requires_grad=True) torch.Size([128])\n",
      "model.2.weight Parameter containing:\n",
      "tensor([[ 0.0823,  0.0072, -0.0691,  ...,  0.0726,  0.0714, -0.0248],\n",
      "        [ 0.0280,  0.0671,  0.0364,  ..., -0.0625,  0.0763, -0.0634],\n",
      "        [ 0.0668,  0.0614,  0.0851,  ...,  0.0519, -0.0028, -0.0280],\n",
      "        ...,\n",
      "        [ 0.0308, -0.0324,  0.0684,  ..., -0.0054,  0.0382,  0.0584],\n",
      "        [ 0.0828,  0.0398, -0.0847,  ..., -0.0474, -0.0136, -0.0393],\n",
      "        [ 0.0819, -0.0709, -0.0807,  ..., -0.0731, -0.0507, -0.0851]],\n",
      "       requires_grad=True) torch.Size([256, 128])\n",
      "model.2.bias Parameter containing:\n",
      "tensor([ 2.2057e-02, -8.8296e-02,  6.4517e-03,  1.4428e-02, -2.8442e-02,\n",
      "         1.0959e-02,  1.9621e-02,  1.8798e-02,  4.2374e-02,  3.6629e-02,\n",
      "         6.6493e-02, -5.8538e-02,  7.3324e-03,  6.3455e-02, -3.8750e-02,\n",
      "         8.2230e-02,  6.8274e-02, -5.3354e-02,  5.9245e-02, -3.4607e-02,\n",
      "        -3.1031e-02, -6.5920e-02,  4.0472e-05,  3.0853e-02,  1.8769e-02,\n",
      "         2.1590e-02,  3.4492e-02, -8.3241e-02, -5.9344e-05, -3.3728e-02,\n",
      "        -3.7287e-02, -4.0264e-02,  4.7208e-02,  1.1119e-02,  5.2491e-02,\n",
      "         1.7172e-02, -3.8305e-02, -4.3163e-02,  8.4844e-02, -1.5159e-04,\n",
      "        -6.2869e-02, -6.7011e-02,  8.2366e-02, -5.6077e-02,  6.1818e-02,\n",
      "        -2.5079e-02, -8.1219e-02,  4.3491e-02,  6.0212e-03,  4.8162e-03,\n",
      "        -7.3037e-02,  5.9597e-03, -5.6621e-02, -1.2432e-02, -8.5839e-03,\n",
      "        -2.8250e-02,  8.8379e-02,  4.7235e-02,  8.7352e-02,  7.2432e-02,\n",
      "        -5.4444e-02, -4.0071e-02,  3.2179e-03,  2.7757e-03, -1.7112e-02,\n",
      "         4.6409e-03,  3.7820e-02,  1.7978e-02,  5.0647e-02,  1.7372e-02,\n",
      "         5.6307e-02, -5.0781e-02, -1.6157e-02,  5.3042e-02, -9.2635e-03,\n",
      "         1.2051e-02, -5.9719e-02,  6.1290e-02,  4.2768e-02, -8.2078e-02,\n",
      "        -4.7533e-02, -1.5200e-02, -2.2320e-02,  3.2063e-02,  4.7203e-02,\n",
      "        -1.1726e-02,  2.1662e-02,  4.3246e-02,  4.3969e-02, -6.9780e-02,\n",
      "         7.7920e-02, -1.5269e-02,  5.9640e-02,  2.5691e-02, -1.4594e-02,\n",
      "        -2.7596e-02,  4.6837e-02, -6.1022e-02,  4.3615e-02, -5.8883e-02,\n",
      "        -2.4048e-02,  2.2665e-02, -6.9435e-02,  4.7295e-02,  6.7629e-02,\n",
      "         1.0081e-02,  6.4849e-02, -8.3018e-02,  4.3983e-02,  2.1773e-02,\n",
      "        -3.6181e-02,  3.0839e-02, -4.6165e-03,  3.9708e-02,  6.6057e-02,\n",
      "        -1.1945e-02,  5.0346e-02,  4.2914e-02,  5.6202e-03,  8.2798e-03,\n",
      "         8.3622e-02, -3.4327e-03,  4.9483e-02, -5.6908e-02,  3.0017e-02,\n",
      "         5.7565e-02,  2.3522e-02, -3.1422e-02, -6.7383e-02, -6.4950e-02,\n",
      "         7.1212e-02,  8.5696e-02, -7.6264e-02, -5.3364e-02, -2.3719e-02,\n",
      "        -2.0724e-02,  6.8752e-02, -4.0247e-02, -1.1305e-02,  8.0797e-02,\n",
      "        -2.4686e-03,  5.4124e-02, -3.4394e-02, -5.2119e-02,  1.7138e-02,\n",
      "         8.5438e-02, -7.4331e-02, -8.8028e-02,  2.7387e-02, -4.6402e-02,\n",
      "        -4.1770e-02,  7.6213e-02,  3.9372e-03, -1.7160e-02, -3.8580e-03,\n",
      "         7.3245e-02, -2.8829e-02, -8.4945e-03,  7.1992e-02,  7.3047e-02,\n",
      "        -6.8146e-03, -3.3045e-03, -8.3192e-02,  4.2439e-02,  8.3514e-02,\n",
      "        -8.1489e-03,  6.3587e-02, -7.3362e-02, -1.8309e-03,  6.9353e-03,\n",
      "         4.7875e-02,  1.0838e-02,  7.5009e-02,  6.9602e-02, -4.4833e-02,\n",
      "        -7.9757e-03, -1.6206e-02, -2.1027e-02,  4.1079e-02, -2.2385e-02,\n",
      "        -3.0223e-02, -5.3548e-02, -4.7634e-02,  7.5174e-02,  8.3272e-02,\n",
      "        -1.8633e-02,  3.3481e-02, -4.1699e-02, -3.5602e-02, -6.5788e-02,\n",
      "         6.4859e-02,  4.6216e-02, -8.6744e-02, -2.8413e-02, -3.2966e-02,\n",
      "        -4.8932e-02, -3.2134e-02, -2.0828e-02, -5.9956e-03, -7.2554e-02,\n",
      "         7.4327e-02, -6.4320e-02,  4.5607e-02, -2.3985e-02, -6.4600e-02,\n",
      "        -1.9845e-02, -3.3051e-02,  6.4630e-02,  7.0432e-02, -1.6907e-03,\n",
      "         4.6262e-02, -5.8670e-02, -5.2445e-02,  5.1602e-03, -1.5245e-02,\n",
      "         2.1840e-02,  3.8141e-02,  1.5816e-02,  7.4548e-02, -2.1675e-02,\n",
      "        -6.5387e-02,  2.0812e-02, -4.3399e-02, -2.3682e-02, -3.5189e-02,\n",
      "         4.0569e-03,  4.3857e-02, -2.6810e-03, -1.3096e-02,  6.8937e-02,\n",
      "        -4.6417e-02,  2.9402e-03, -7.1123e-03, -2.0658e-03,  8.5999e-02,\n",
      "        -2.8006e-03,  6.7102e-02,  1.4999e-02,  8.2152e-02, -7.0560e-02,\n",
      "        -8.1799e-02, -8.6679e-02,  7.7184e-03,  4.7781e-02, -8.6703e-02,\n",
      "        -5.7501e-02, -4.2372e-02, -1.0687e-02, -4.3083e-02, -7.1270e-02,\n",
      "        -5.3000e-02, -8.5676e-02, -8.4459e-02, -2.9395e-02, -2.4652e-02,\n",
      "        -4.5794e-02], requires_grad=True) torch.Size([256])\n",
      "model.4.weight Parameter containing:\n",
      "tensor([[ 0.0222, -0.0341,  0.0129,  ..., -0.0105,  0.0402, -0.0281],\n",
      "        [ 0.0055, -0.0268, -0.0012,  ...,  0.0544, -0.0274, -0.0395],\n",
      "        [-0.0295, -0.0164,  0.0150,  ..., -0.0437, -0.0103, -0.0012],\n",
      "        ...,\n",
      "        [-0.0151,  0.0386,  0.0608,  ...,  0.0339, -0.0438, -0.0398],\n",
      "        [ 0.0006,  0.0529,  0.0206,  ..., -0.0024, -0.0448,  0.0407],\n",
      "        [ 0.0279, -0.0611,  0.0102,  ..., -0.0367, -0.0500, -0.0571]],\n",
      "       requires_grad=True) torch.Size([10, 256])\n",
      "model.4.bias Parameter containing:\n",
      "tensor([-0.0223, -0.0160,  0.0181,  0.0434, -0.0061, -0.0511,  0.0175, -0.0249,\n",
      "        -0.0526, -0.0437], requires_grad=True) torch.Size([10])\n"
     ]
    }
   ],
   "source": [
    "# 可以打印我们定义好名字里的权重和偏置项\n",
    "for name, parameter in model.named_parameters():\n",
    "    print(name, parameter, parameter.size())"
   ],
   "metadata": {
    "collapsed": false,
    "ExecuteTime": {
     "end_time": "2023-07-03T12:09:04.703365200Z",
     "start_time": "2023-07-03T12:09:04.687357100Z"
    }
   }
  },
  {
   "cell_type": "code",
   "execution_count": 27,
   "outputs": [
    {
     "data": {
      "text/plain": "tensor([[[[1., 1., 2., 4.],\n          [5., 6., 7., 8.],\n          [3., 2., 1., 0.],\n          [1., 2., 3., 4.]]]])"
     },
     "execution_count": 27,
     "metadata": {},
     "output_type": "execute_result"
    }
   ],
   "source": [
    "a = torch.tensor([\n",
    "    [1, 1, 2, 4],\n",
    "    [5, 6, 7, 8],\n",
    "    [3, 2, 1, 0],\n",
    "    [1, 2, 3, 4]\n",
    "], dtype=torch.float32)\n",
    "\n",
    "a = a.reshape((1, 1, 4, 4))\n",
    "a"
   ],
   "metadata": {
    "collapsed": false,
    "ExecuteTime": {
     "end_time": "2023-07-03T12:15:38.788638600Z",
     "start_time": "2023-07-03T12:15:38.780734100Z"
    }
   }
  },
  {
   "cell_type": "code",
   "execution_count": 28,
   "outputs": [
    {
     "data": {
      "text/plain": "tensor([[[[6., 8.],\n          [3., 4.]]]])"
     },
     "execution_count": 28,
     "metadata": {},
     "output_type": "execute_result"
    }
   ],
   "source": [
    "from torch.nn.functional import max_pool2d\n",
    "\n",
    "max_pool2d(a, kernel_size=2)"
   ],
   "metadata": {
    "collapsed": false,
    "ExecuteTime": {
     "end_time": "2023-07-03T12:15:38.956700700Z",
     "start_time": "2023-07-03T12:15:38.947127800Z"
    }
   }
  },
  {
   "cell_type": "code",
   "execution_count": 29,
   "outputs": [
    {
     "data": {
      "text/plain": "tensor([[[[3.2500, 5.2500],\n          [2.0000, 2.0000]]]])"
     },
     "execution_count": 29,
     "metadata": {},
     "output_type": "execute_result"
    }
   ],
   "source": [
    "from torch.nn.functional import avg_pool2d\n",
    "\n",
    "avg_pool2d(a, kernel_size=2)"
   ],
   "metadata": {
    "collapsed": false,
    "ExecuteTime": {
     "end_time": "2023-07-03T12:18:54.778070800Z",
     "start_time": "2023-07-03T12:18:54.765038800Z"
    }
   }
  }
 ],
 "metadata": {
  "kernelspec": {
   "display_name": "Python 3",
   "language": "python",
   "name": "python3"
  },
  "language_info": {
   "codemirror_mode": {
    "name": "ipython",
    "version": 2
   },
   "file_extension": ".py",
   "mimetype": "text/x-python",
   "name": "python",
   "nbconvert_exporter": "python",
   "pygments_lexer": "ipython2",
   "version": "2.7.6"
  }
 },
 "nbformat": 4,
 "nbformat_minor": 0
}
