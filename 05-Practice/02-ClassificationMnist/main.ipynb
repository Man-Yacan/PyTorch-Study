{
 "cells": [
  {
   "cell_type": "markdown",
   "source": [
    "### Mnist分类任务：\n",
    "\n",
    "- 网络基本构建与训练方法，常用函数解析\n",
    "\n",
    "- torch.nn.functional模块\n",
    "\n",
    "- nn.Module模块\n"
   ],
   "metadata": {
    "collapsed": false
   }
  },
  {
   "cell_type": "code",
   "execution_count": 1,
   "metadata": {
    "collapsed": true,
    "ExecuteTime": {
     "end_time": "2023-07-02T15:23:25.355008100Z",
     "start_time": "2023-07-02T15:23:25.178665500Z"
    }
   },
   "outputs": [],
   "source": [
    "from pathlib import Path\n",
    "import requests\n",
    "\n",
    "DATA_PATH = Path(\"data\")\n",
    "PATH = DATA_PATH / \"mnist\"\n",
    "\n",
    "PATH.mkdir(parents=True, exist_ok=True)\n",
    "\n",
    "URL = \"http://deeplearning.net/data/mnist/\"\n",
    "FILENAME = \"mnist.pkl.gz\"\n",
    "\n",
    "if not (PATH / FILENAME).exists():\n",
    "    content = requests.get(URL + FILENAME).content\n",
    "    (PATH / FILENAME).open(\"wb\").write(content)"
   ]
  },
  {
   "cell_type": "code",
   "execution_count": 2,
   "outputs": [],
   "source": [
    "import pickle\n",
    "import gzip\n",
    "\n",
    "with gzip.open((PATH / FILENAME).as_posix(), \"rb\") as f:\n",
    "    ((X_train, y_train), (x_valid, y_valid), _) = pickle.load(f, encoding=\"latin-1\")"
   ],
   "metadata": {
    "collapsed": false,
    "ExecuteTime": {
     "end_time": "2023-07-02T15:23:26.057927300Z",
     "start_time": "2023-07-02T15:23:25.262818700Z"
    }
   }
  },
  {
   "cell_type": "code",
   "execution_count": 3,
   "outputs": [
    {
     "name": "stdout",
     "output_type": "stream",
     "text": [
      "(50000, 784)\n"
     ]
    },
    {
     "data": {
      "text/plain": "<Figure size 640x480 with 1 Axes>",
      "image/png": "[encoded data removed]"
     },
     "metadata": {},
     "output_type": "display_data"
    }
   ],
   "source": [
    "# 784是mnist数据集每个样本的像素点个数，，诶个像素点为28×28=784\n",
    "from matplotlib import pyplot\n",
    "\n",
    "pyplot.imshow(X_train[0].reshape((28, 28)), cmap=\"gray\")\n",
    "print(X_train.shape)"
   ],
   "metadata": {
    "collapsed": false,
    "ExecuteTime": {
     "end_time": "2023-07-02T15:23:26.757756800Z",
     "start_time": "2023-07-02T15:23:26.055926200Z"
    }
   }
  },
  {
   "cell_type": "markdown",
   "source": [
    "![](https://i.imgur.com/G9Peiff.png)\n",
    "\n",
    "![](https://i.imgur.com/D5cN7nt.png)"
   ],
   "metadata": {
    "collapsed": false
   }
  },
  {
   "cell_type": "code",
   "execution_count": 4,
   "outputs": [
    {
     "name": "stdout",
     "output_type": "stream",
     "text": [
      "tensor([[0., 0., 0.,  ..., 0., 0., 0.],\n",
      "        [0., 0., 0.,  ..., 0., 0., 0.],\n",
      "        [0., 0., 0.,  ..., 0., 0., 0.],\n",
      "        ...,\n",
      "        [0., 0., 0.,  ..., 0., 0., 0.],\n",
      "        [0., 0., 0.,  ..., 0., 0., 0.],\n",
      "        [0., 0., 0.,  ..., 0., 0., 0.]]) tensor([5, 0, 4,  ..., 8, 4, 8])\n",
      "torch.Size([50000, 784])\n",
      "tensor(0) tensor(9)\n"
     ]
    }
   ],
   "source": [
    "# 注意数据需转换成tensor才能参与后续建模训练\n",
    "import torch\n",
    "\n",
    "X_train, y_train, x_valid, y_valid = map(\n",
    "    torch.tensor, (X_train, y_train, x_valid, y_valid)\n",
    ")\n",
    "n, c = X_train.shape\n",
    "X_train, X_train.shape, y_train.min(), y_train.max()\n",
    "print(X_train, y_train)\n",
    "print(X_train.shape)\n",
    "print(y_train.min(), y_train.max())"
   ],
   "metadata": {
    "collapsed": false,
    "ExecuteTime": {
     "end_time": "2023-07-02T15:23:28.164516600Z",
     "start_time": "2023-07-02T15:23:26.489201500Z"
    }
   }
  },
  {
   "cell_type": "code",
   "execution_count": 5,
   "outputs": [
    {
     "data": {
      "text/plain": "(torch.Size([50000, 784]), torch.Size([50000]))"
     },
     "execution_count": 5,
     "metadata": {},
     "output_type": "execute_result"
    }
   ],
   "source": [
    "X_train.shape, y_train.shape"
   ],
   "metadata": {
    "collapsed": false,
    "ExecuteTime": {
     "end_time": "2023-07-02T15:23:28.168735600Z",
     "start_time": "2023-07-02T15:23:28.162157400Z"
    }
   }
  },
  {
   "cell_type": "code",
   "execution_count": 6,
   "outputs": [],
   "source": [
    "# torch.nn.functional 很多层和函数在这里都会见到\n",
    "# torch.nn.functional中有很多功能，后续会常用的。那什么时候使用nn.Module，什么时候使用nn.functional呢？一般情况下，如果模型有可学习的参数，最好用nn.Module，其他情况nn.functional相对更简单一些\n",
    "import torch.nn.functional as F\n",
    "\n",
    "loss_fun = F.cross_entropy\n",
    "\n",
    "\n",
    "def model(X, weights, bias):\n",
    "    return X.mm(weights) + bias"
   ],
   "metadata": {
    "collapsed": false,
    "ExecuteTime": {
     "end_time": "2023-07-02T15:23:28.171811900Z",
     "start_time": "2023-07-02T15:23:28.168229800Z"
    }
   }
  },
  {
   "cell_type": "code",
   "execution_count": 7,
   "outputs": [
    {
     "data": {
      "text/plain": "tensor(12.8295, grad_fn=<NllLossBackward0>)"
     },
     "execution_count": 7,
     "metadata": {},
     "output_type": "execute_result"
    }
   ],
   "source": [
    "batch_size = 64\n",
    "X = X_train[:batch_size]\n",
    "y = y_train[:batch_size]\n",
    "\n",
    "weights = torch.randn([784, 10], dtype=torch.float32, requires_grad=True)\n",
    "bias = torch.zeros(10, requires_grad=True)\n",
    "\n",
    "loss_fun(model(X, weights, bias), y)"
   ],
   "metadata": {
    "collapsed": false,
    "ExecuteTime": {
     "end_time": "2023-07-02T15:23:28.184214300Z",
     "start_time": "2023-07-02T15:23:28.172811400Z"
    }
   }
  },
  {
   "cell_type": "code",
   "execution_count": 8,
   "outputs": [
    {
     "data": {
      "text/plain": "(torch.Size([64, 784]), torch.Size([64]))"
     },
     "execution_count": 8,
     "metadata": {},
     "output_type": "execute_result"
    }
   ],
   "source": [
    "X.shape, y.shape"
   ],
   "metadata": {
    "collapsed": false,
    "ExecuteTime": {
     "end_time": "2023-07-02T15:23:28.294962700Z",
     "start_time": "2023-07-02T15:23:28.178686600Z"
    }
   }
  },
  {
   "cell_type": "code",
   "execution_count": 9,
   "outputs": [
    {
     "data": {
      "text/plain": "Model(\n  (model): Sequential(\n    (0): Linear(in_features=784, out_features=128, bias=True)\n    (1): ReLU()\n    (2): Linear(in_features=128, out_features=256, bias=True)\n    (3): ReLU()\n    (4): Linear(in_features=256, out_features=10, bias=True)\n  )\n)"
     },
     "execution_count": 9,
     "metadata": {},
     "output_type": "execute_result"
    }
   ],
   "source": [
    "# 创建一个model来更简化代码\n",
    "# - 必须继承nn.Module且在其构造函数中需调用nn.Module的构造函数\n",
    "# - 无需写反向传播函数，nn.Module能够利用autograd自动实现反向传播\n",
    "# - Module中的可学习参数可以通过named_parameters()或者parameters()返回迭代器\n",
    "import torch\n",
    "from torch.nn import Module, Sequential, Linear, ReLU\n",
    "\n",
    "\n",
    "class Model(Module):\n",
    "    def __init__(self):\n",
    "        super(Model, self).__init__()\n",
    "        self.model = Sequential(\n",
    "            Linear(784, 128),\n",
    "            ReLU(),\n",
    "            Linear(128, 256),\n",
    "            ReLU(),\n",
    "            Linear(256, 10)\n",
    "        )\n",
    "\n",
    "    def forward(self, X):\n",
    "        return self.model(X)\n",
    "\n",
    "\n",
    "model = Model()\n",
    "model"
   ],
   "metadata": {
    "collapsed": false,
    "ExecuteTime": {
     "end_time": "2023-07-02T15:23:28.320016Z",
     "start_time": "2023-07-02T15:23:28.183213800Z"
    }
   }
  },
  {
   "cell_type": "code",
   "execution_count": 10,
   "outputs": [
    {
     "name": "stdout",
     "output_type": "stream",
     "text": [
      "model.0.weight Parameter containing:\n",
      "tensor([[ 0.0234,  0.0299,  0.0214,  ...,  0.0180, -0.0322, -0.0224],\n",
      "        [ 0.0226,  0.0343, -0.0257,  ..., -0.0084, -0.0128, -0.0333],\n",
      "        [-0.0251, -0.0183, -0.0328,  ..., -0.0262, -0.0274, -0.0216],\n",
      "        ...,\n",
      "        [ 0.0252,  0.0241, -0.0168,  ...,  0.0249,  0.0005, -0.0132],\n",
      "        [-0.0015,  0.0182,  0.0112,  ..., -0.0317,  0.0272,  0.0327],\n",
      "        [-0.0200,  0.0229, -0.0222,  ..., -0.0247, -0.0090, -0.0321]],\n",
      "       requires_grad=True) torch.Size([128, 784])\n",
      "model.0.bias Parameter containing:\n",
      "tensor([-0.0072,  0.0290, -0.0130, -0.0242,  0.0295, -0.0178, -0.0292, -0.0055,\n",
      "         0.0037,  0.0100, -0.0036, -0.0120, -0.0149,  0.0338,  0.0095,  0.0274,\n",
      "         0.0255, -0.0013,  0.0195,  0.0336, -0.0106, -0.0199, -0.0186, -0.0063,\n",
      "        -0.0107,  0.0181,  0.0084,  0.0313, -0.0122,  0.0200, -0.0234, -0.0256,\n",
      "         0.0263,  0.0350, -0.0225,  0.0312,  0.0112, -0.0329, -0.0322,  0.0205,\n",
      "         0.0191, -0.0247, -0.0143, -0.0222, -0.0047,  0.0293, -0.0043,  0.0177,\n",
      "        -0.0237,  0.0353,  0.0263, -0.0104,  0.0106,  0.0010, -0.0056, -0.0314,\n",
      "        -0.0242, -0.0095,  0.0173,  0.0147, -0.0143, -0.0178, -0.0157,  0.0068,\n",
      "         0.0033,  0.0191, -0.0161, -0.0201, -0.0016,  0.0171,  0.0014,  0.0119,\n",
      "         0.0151, -0.0030, -0.0125,  0.0058,  0.0243,  0.0267,  0.0101, -0.0036,\n",
      "         0.0283,  0.0340,  0.0128,  0.0299, -0.0314,  0.0036,  0.0080,  0.0161,\n",
      "        -0.0018,  0.0240,  0.0130, -0.0166,  0.0281, -0.0298, -0.0340, -0.0026,\n",
      "        -0.0322,  0.0295, -0.0069,  0.0191, -0.0006,  0.0259, -0.0164,  0.0140,\n",
      "        -0.0145, -0.0206,  0.0041, -0.0179, -0.0139,  0.0064, -0.0293, -0.0149,\n",
      "        -0.0122, -0.0242,  0.0247,  0.0263,  0.0355, -0.0312,  0.0041,  0.0150,\n",
      "         0.0046,  0.0096,  0.0216,  0.0196, -0.0116,  0.0261, -0.0143, -0.0157],\n",
      "       requires_grad=True) torch.Size([128])\n",
      "model.2.weight Parameter containing:\n",
      "tensor([[-0.0454,  0.0351, -0.0103,  ...,  0.0759, -0.0641, -0.0164],\n",
      "        [ 0.0728, -0.0109,  0.0085,  ..., -0.0781,  0.0052,  0.0643],\n",
      "        [ 0.0361, -0.0351,  0.0289,  ..., -0.0544, -0.0506,  0.0006],\n",
      "        ...,\n",
      "        [ 0.0297,  0.0563,  0.0433,  ...,  0.0875, -0.0569, -0.0690],\n",
      "        [-0.0610,  0.0605, -0.0050,  ...,  0.0742, -0.0061, -0.0095],\n",
      "        [-0.0006, -0.0436,  0.0158,  ...,  0.0067,  0.0681, -0.0079]],\n",
      "       requires_grad=True) torch.Size([256, 128])\n",
      "model.2.bias Parameter containing:\n",
      "tensor([-4.7730e-02, -1.5015e-02, -5.8387e-02,  2.5438e-02, -7.3080e-02,\n",
      "         6.5493e-02,  2.6095e-02,  4.9814e-02, -8.1941e-02,  7.5269e-02,\n",
      "         7.4646e-03,  2.8607e-02,  8.4035e-02,  1.5682e-02,  2.4987e-02,\n",
      "         2.3500e-02, -1.7965e-02,  1.5226e-02, -8.2033e-02,  1.7864e-02,\n",
      "         3.4504e-02, -5.6232e-02, -3.8558e-02,  5.1948e-02,  4.4082e-03,\n",
      "        -1.3750e-02,  7.7454e-02, -3.1483e-02, -6.2154e-02,  3.9148e-02,\n",
      "         2.5253e-02, -4.8105e-03, -7.7423e-02, -4.5000e-02, -2.2852e-02,\n",
      "        -3.5716e-02, -9.3155e-03, -4.7696e-02, -2.4870e-03, -1.5003e-02,\n",
      "        -1.7520e-02, -1.9132e-02,  2.7745e-02,  4.6548e-02,  3.7572e-02,\n",
      "        -6.4715e-02,  7.8048e-02, -1.6954e-02, -3.9800e-03, -4.7007e-02,\n",
      "         2.0601e-02, -2.4964e-02, -5.5503e-02, -4.2018e-02, -4.0640e-02,\n",
      "        -8.6485e-02, -4.2262e-02,  7.5030e-02, -5.9585e-02,  8.5032e-02,\n",
      "        -8.4119e-02, -1.6069e-02, -8.8139e-02, -2.7146e-02,  2.7329e-02,\n",
      "        -2.4749e-02,  1.7979e-02,  8.4948e-02,  3.5814e-02, -6.5970e-02,\n",
      "         5.1099e-02, -2.5337e-02, -4.4010e-02, -3.8278e-02, -1.9628e-02,\n",
      "        -1.2338e-02, -4.1357e-02, -7.2832e-02,  6.6540e-02, -1.9118e-02,\n",
      "        -3.1015e-02, -9.9984e-03, -2.5688e-02, -2.0474e-02, -6.4720e-02,\n",
      "         4.9594e-02,  4.8788e-02, -4.8720e-02, -4.6472e-03, -4.6263e-02,\n",
      "         5.1294e-02, -3.4937e-02,  1.1337e-02, -5.2781e-02, -2.0888e-02,\n",
      "         5.4083e-02, -1.2855e-02,  4.1266e-02,  5.4061e-02,  5.1071e-04,\n",
      "         2.6455e-02,  6.0376e-02,  1.0766e-02, -2.6757e-02, -7.9356e-02,\n",
      "         2.9366e-02,  3.2900e-02,  1.0802e-02, -2.7960e-02,  7.3133e-02,\n",
      "        -1.0188e-04,  1.1900e-02, -7.5923e-02,  8.7034e-02,  5.9844e-02,\n",
      "        -5.5931e-02, -8.6609e-02, -7.2864e-02,  5.8723e-02, -2.6105e-02,\n",
      "        -6.3462e-02, -5.8064e-02, -7.6309e-03,  1.4005e-02, -3.0827e-02,\n",
      "         6.7032e-02, -4.8240e-02, -1.7941e-02, -8.3496e-02, -2.8999e-02,\n",
      "        -4.8579e-02, -3.5683e-02,  5.6564e-02,  2.4991e-02,  4.3807e-02,\n",
      "        -6.4340e-02, -3.4807e-03, -4.3064e-02,  7.0520e-02,  7.8281e-02,\n",
      "        -5.3477e-02,  5.4090e-02, -6.2508e-02, -1.1600e-03, -4.3513e-02,\n",
      "         6.1325e-02,  2.6914e-02, -3.6517e-02, -7.8614e-02,  5.4808e-02,\n",
      "         8.5973e-02, -1.4693e-02, -8.4062e-02, -5.4851e-02, -2.0366e-03,\n",
      "         5.9407e-02, -1.2588e-02, -3.7599e-02,  7.7654e-02,  7.3319e-02,\n",
      "        -8.6710e-02, -4.5228e-02,  7.9991e-02,  5.9389e-02,  2.0680e-02,\n",
      "        -1.0443e-02, -8.4505e-02,  3.8489e-02,  8.4569e-02, -8.4446e-02,\n",
      "         1.0967e-02, -8.3939e-02, -6.6363e-02, -1.8824e-02,  1.3615e-02,\n",
      "         8.1026e-02, -3.6874e-02, -8.0907e-02,  6.5735e-02, -5.9404e-02,\n",
      "         5.8507e-02, -8.7803e-02, -1.5988e-02, -7.9844e-02,  7.7547e-02,\n",
      "         2.4145e-02,  2.3743e-02, -2.6984e-02,  4.2320e-02,  5.5564e-02,\n",
      "         5.5450e-03,  5.4738e-02, -3.8597e-02,  4.3999e-02,  6.5952e-02,\n",
      "         1.8692e-02, -2.4211e-02, -7.8685e-02, -6.0487e-02, -2.9589e-02,\n",
      "        -1.8139e-02,  7.3790e-02, -3.5944e-02, -3.1410e-02, -3.9370e-02,\n",
      "         1.2772e-02, -5.3602e-02, -8.5369e-02, -7.3756e-02,  1.9767e-02,\n",
      "        -8.2512e-03,  6.2261e-02,  3.8668e-02,  1.3265e-02, -5.4570e-02,\n",
      "         3.7843e-02,  7.3829e-02,  6.6977e-02,  5.5198e-02, -2.5258e-02,\n",
      "        -7.1977e-02,  1.1953e-02, -4.8570e-03, -8.5783e-02, -7.4046e-02,\n",
      "        -2.3831e-02,  8.6002e-02,  7.0964e-02, -6.3372e-02, -2.9096e-02,\n",
      "        -3.8757e-02,  5.1169e-02,  6.5430e-02,  4.9726e-02,  5.5402e-02,\n",
      "         3.4821e-02,  1.3441e-02, -5.9058e-02, -8.4882e-02, -3.4962e-02,\n",
      "         1.5069e-02,  3.7843e-03, -4.8195e-02,  1.8016e-02, -6.8143e-02,\n",
      "         3.4261e-04,  4.8240e-02, -2.7850e-02,  3.9740e-02,  5.9525e-02,\n",
      "         7.8944e-02, -8.2314e-05,  2.0855e-02, -9.8219e-03, -6.8066e-02,\n",
      "         6.0615e-02], requires_grad=True) torch.Size([256])\n",
      "model.4.weight Parameter containing:\n",
      "tensor([[-0.0498, -0.0020, -0.0076,  ..., -0.0325, -0.0226,  0.0437],\n",
      "        [-0.0215, -0.0594,  0.0366,  ...,  0.0563, -0.0147, -0.0068],\n",
      "        [-0.0125, -0.0366, -0.0543,  ..., -0.0418,  0.0076, -0.0426],\n",
      "        ...,\n",
      "        [ 0.0523, -0.0064,  0.0441,  ..., -0.0608,  0.0249,  0.0376],\n",
      "        [-0.0192,  0.0216,  0.0371,  ..., -0.0066,  0.0140,  0.0208],\n",
      "        [-0.0195,  0.0581,  0.0388,  ..., -0.0084, -0.0622, -0.0565]],\n",
      "       requires_grad=True) torch.Size([10, 256])\n",
      "model.4.bias Parameter containing:\n",
      "tensor([ 0.0468, -0.0117,  0.0524, -0.0577,  0.0184, -0.0465, -0.0330, -0.0132,\n",
      "        -0.0385,  0.0458], requires_grad=True) torch.Size([10])\n"
     ]
    }
   ],
   "source": [
    "# 可以打印我们定义好名字里的权重和偏置项\n",
    "for name, parameter in model.named_parameters():\n",
    "    print(name, parameter,parameter.size())"
   ],
   "metadata": {
    "collapsed": false,
    "ExecuteTime": {
     "end_time": "2023-07-02T15:23:28.321016Z",
     "start_time": "2023-07-02T15:23:28.192577300Z"
    }
   }
  },
  {
   "cell_type": "code",
   "execution_count": 10,
   "outputs": [],
   "source": [],
   "metadata": {
    "collapsed": false,
    "ExecuteTime": {
     "end_time": "2023-07-02T15:23:28.322015900Z",
     "start_time": "2023-07-02T15:23:28.202182900Z"
    }
   }
  }
 ],
 "metadata": {
  "kernelspec": {
   "display_name": "Python 3",
   "language": "python",
   "name": "python3"
  },
  "language_info": {
   "codemirror_mode": {
    "name": "ipython",
    "version": 2
   },
   "file_extension": ".py",
   "mimetype": "text/x-python",
   "name": "python",
   "nbconvert_exporter": "python",
   "pygments_lexer": "ipython2",
   "version": "2.7.6"
  }
 },
 "nbformat": 4,
 "nbformat_minor": 0
}
