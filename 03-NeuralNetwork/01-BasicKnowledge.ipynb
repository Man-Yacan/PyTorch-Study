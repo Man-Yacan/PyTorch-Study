{
 "cells": [
  {
   "cell_type": "markdown",
   "source": [
    "》 人工智能领域兮机器学习兮神经网络\n",
    "》 神经网络如下图所示 ： 输入层 、 输出层 、 隐藏层 、 多层感知器\n",
    "\n",
    "Pytorch搭建神经网络基本组成模块：\n",
    "\n",
    "- 数据\n",
    "- 网络\n",
    "- 结构\n",
    "- 损失\n",
    "- 优化\n",
    "- 测试\n",
    "- 推理"
   ],
   "metadata": {
    "collapsed": false
   }
  },
  {
   "cell_type": "code",
   "execution_count": null,
   "metadata": {
    "collapsed": true
   },
   "outputs": [],
   "source": []
  }
 ],
 "metadata": {
  "kernelspec": {
   "display_name": "Python 3",
   "language": "python",
   "name": "python3"
  },
  "language_info": {
   "codemirror_mode": {
    "name": "ipython",
    "version": 2
   },
   "file_extension": ".py",
   "mimetype": "text/x-python",
   "name": "python",
   "nbconvert_exporter": "python",
   "pygments_lexer": "ipython2",
   "version": "2.7.6"
  }
 },
 "nbformat": 4,
 "nbformat_minor": 0
}
